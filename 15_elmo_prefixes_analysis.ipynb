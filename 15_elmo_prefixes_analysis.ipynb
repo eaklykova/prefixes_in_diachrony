{
 "cells": [
  {
   "cell_type": "markdown",
   "metadata": {},
   "source": [
    "# Микродиахроническое исследование русских приставок методами дистрибутивной семантики\n",
    "## Автор: Елизавета Клыкова, БКЛ181\n",
    "### Анализ результатов ELMo (глаголы внутри приставок)"
   ]
  },
  {
   "cell_type": "markdown",
   "metadata": {},
   "source": [
    "#### Импорт модулей"
   ]
  },
  {
   "cell_type": "code",
   "execution_count": 1,
   "metadata": {
    "execution": {
     "iopub.execute_input": "2022-05-27T07:37:45.363151Z",
     "iopub.status.busy": "2022-05-27T07:37:45.362740Z",
     "iopub.status.idle": "2022-05-27T07:37:45.377470Z",
     "shell.execute_reply": "2022-05-27T07:37:45.376411Z",
     "shell.execute_reply.started": "2022-05-27T07:37:45.363073Z"
    }
   },
   "outputs": [],
   "source": [
    "# %load_ext pycodestyle_magic\n",
    "# %pycodestyle_on"
   ]
  },
  {
   "cell_type": "code",
   "execution_count": 2,
   "metadata": {
    "execution": {
     "iopub.execute_input": "2022-05-27T07:37:58.850129Z",
     "iopub.status.busy": "2022-05-27T07:37:58.847809Z",
     "iopub.status.idle": "2022-05-27T07:38:03.025558Z",
     "shell.execute_reply": "2022-05-27T07:38:03.024765Z",
     "shell.execute_reply.started": "2022-05-27T07:37:58.850092Z"
    }
   },
   "outputs": [],
   "source": [
    "import pickle\n",
    "import numpy as np\n",
    "from tqdm.auto import tqdm\n",
    "from statistics import mean\n",
    "from scipy.spatial.distance import cityblock"
   ]
  },
  {
   "cell_type": "markdown",
   "metadata": {},
   "source": [
    "#### Считываем файлы с эмбеддингами"
   ]
  },
  {
   "cell_type": "code",
   "execution_count": 3,
   "metadata": {},
   "outputs": [],
   "source": [
    "with open('verbs_to_search.pickle', 'rb') as f:\n",
    "    verbs_to_search = pickle.load(f)"
   ]
  },
  {
   "cell_type": "code",
   "execution_count": 4,
   "metadata": {},
   "outputs": [],
   "source": [
    "with open('prefs_verbs_10.pickle', 'rb') as f:\n",
    "    prefs_verbs_10 = pickle.load(f)"
   ]
  },
  {
   "cell_type": "code",
   "execution_count": 5,
   "metadata": {},
   "outputs": [],
   "source": [
    "with open('presov_samples.pickle', 'rb') as f:\n",
    "    presov_samples = pickle.load(f)"
   ]
  },
  {
   "cell_type": "code",
   "execution_count": 6,
   "metadata": {},
   "outputs": [],
   "source": [
    "with open('sov_samples.pickle', 'rb') as f:\n",
    "    sov_samples = pickle.load(f)"
   ]
  },
  {
   "cell_type": "code",
   "execution_count": 7,
   "metadata": {},
   "outputs": [],
   "source": [
    "with open('postsov_samples.pickle', 'rb') as f:\n",
    "    postsov_samples = pickle.load(f)"
   ]
  },
  {
   "cell_type": "code",
   "execution_count": 8,
   "metadata": {},
   "outputs": [],
   "source": [
    "verb_embeddings = {}\n",
    "for verb in verbs_to_search:\n",
    "    mean_presov = np.average([emb[-1] for emb in presov_samples[verb]], axis=0)\n",
    "    mean_sov = np.average([emb[-1] for emb in sov_samples[verb]], axis=0)\n",
    "    mean_postsov = np.average([emb[-1] for emb in postsov_samples[verb]], axis=0)\n",
    "    verb_embeddings[verb] = {'presov': mean_presov,\n",
    "                             'sov': mean_sov,\n",
    "                             'postsov': mean_postsov,\n",
    "                             'pre_to_sov': cityblock(mean_presov, mean_sov),\n",
    "                             'sov_to_post': cityblock(mean_sov, mean_postsov),\n",
    "                             'pre_to_post': cityblock(mean_presov, mean_postsov)}"
   ]
  },
  {
   "cell_type": "code",
   "execution_count": 9,
   "metadata": {},
   "outputs": [],
   "source": [
    "pref_embeddings = {}\n",
    "for pref in prefs_verbs_10:\n",
    "    pref_embeddings[pref] = {}\n",
    "    for verb in prefs_verbs_10[pref]:\n",
    "        pref_embeddings[pref][verb] = verb_embeddings[verb]"
   ]
  },
  {
   "cell_type": "code",
   "execution_count": 10,
   "metadata": {},
   "outputs": [],
   "source": [
    "pref_change = {}\n",
    "for pref in pref_embeddings:\n",
    "    presov_change = mean(pref_embeddings[pref][verb]['pre_to_sov']\n",
    "                         for verb in pref_embeddings[pref])\n",
    "    sov_change = mean(pref_embeddings[pref][verb]['sov_to_post']\n",
    "                      for verb in pref_embeddings[pref])\n",
    "    postsov_change = mean(pref_embeddings[pref][verb]['pre_to_post']\n",
    "                          for verb in pref_embeddings[pref])\n",
    "    pref_change[pref] = {'pre_to_sov': presov_change,\n",
    "                         'sov_to_post': sov_change,\n",
    "                         'pre_to_post': postsov_change}"
   ]
  },
  {
   "cell_type": "code",
   "execution_count": 11,
   "metadata": {},
   "outputs": [],
   "source": [
    "pre_to_sov_ranged = [pref for pref in sorted(pref_change,\n",
    "                                             key=lambda x: pref_change[pref]['pre_to_sov'],\n",
    "                                             reverse=True)]"
   ]
  },
  {
   "cell_type": "code",
   "execution_count": 12,
   "metadata": {},
   "outputs": [],
   "source": [
    "sov_to_post_ranged = [pref for pref in sorted(pref_change,\n",
    "                                              key=lambda x: pref_change[pref]['sov_to_post'],\n",
    "                                              reverse=True)]"
   ]
  },
  {
   "cell_type": "code",
   "execution_count": 13,
   "metadata": {},
   "outputs": [],
   "source": [
    "pre_to_post_ranged = [pref for pref in sorted(pref_change,\n",
    "                                              key=lambda x: pref_change[pref]['pre_to_post'],\n",
    "                                              reverse=True)]"
   ]
  },
  {
   "cell_type": "code",
   "execution_count": 14,
   "metadata": {},
   "outputs": [
    {
     "name": "stdout",
     "output_type": "stream",
     "text": [
      "недо\n",
      "на\n",
      "при\n",
      "над\n",
      "до\n",
      "ни[зс]\n",
      "про\n",
      "вы\n",
      "у\n",
      "по\n",
      "под\n",
      "пре\n",
      "полу\n",
      "и[зс]\n",
      "от\n",
      "ра[зс]\n",
      "за\n",
      "о\n",
      "в[зс]\n",
      "обе[зс]\n",
      "пере\n",
      "с\n",
      "во[зс]\n",
      "бе[зс]\n",
      "во?\n",
      "пред\n"
     ]
    }
   ],
   "source": [
    "for pref in pre_to_sov_ranged:\n",
    "    print(pref)"
   ]
  },
  {
   "cell_type": "code",
   "execution_count": 15,
   "metadata": {},
   "outputs": [
    {
     "name": "stdout",
     "output_type": "stream",
     "text": [
      "недо\n",
      "на\n",
      "при\n",
      "над\n",
      "до\n",
      "ни[зс]\n",
      "про\n",
      "вы\n",
      "у\n",
      "по\n",
      "под\n",
      "пре\n",
      "полу\n",
      "и[зс]\n",
      "от\n",
      "ра[зс]\n",
      "за\n",
      "о\n",
      "в[зс]\n",
      "обе[зс]\n",
      "пере\n",
      "с\n",
      "во[зс]\n",
      "бе[зс]\n",
      "во?\n",
      "пред\n"
     ]
    }
   ],
   "source": [
    "for pref in sov_to_post_ranged:\n",
    "    print(pref)"
   ]
  },
  {
   "cell_type": "code",
   "execution_count": 16,
   "metadata": {},
   "outputs": [
    {
     "name": "stdout",
     "output_type": "stream",
     "text": [
      "недо\n",
      "на\n",
      "при\n",
      "над\n",
      "до\n",
      "ни[зс]\n",
      "про\n",
      "вы\n",
      "у\n",
      "по\n",
      "под\n",
      "пре\n",
      "полу\n",
      "и[зс]\n",
      "от\n",
      "ра[зс]\n",
      "за\n",
      "о\n",
      "в[зс]\n",
      "обе[зс]\n",
      "пере\n",
      "с\n",
      "во[зс]\n",
      "бе[зс]\n",
      "во?\n",
      "пред\n"
     ]
    }
   ],
   "source": [
    "for pref in pre_to_post_ranged:\n",
    "    print(pref)"
   ]
  }
 ],
 "metadata": {
  "kernelspec": {
   "display_name": "Python 3 (ipykernel)",
   "language": "python",
   "name": "python3"
  },
  "language_info": {
   "codemirror_mode": {
    "name": "ipython",
    "version": 3
   },
   "file_extension": ".py",
   "mimetype": "text/x-python",
   "name": "python",
   "nbconvert_exporter": "python",
   "pygments_lexer": "ipython3",
   "version": "3.9.7"
  }
 },
 "nbformat": 4,
 "nbformat_minor": 4
}
