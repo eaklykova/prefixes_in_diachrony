{
 "cells": [
  {
   "cell_type": "markdown",
   "id": "3a133453",
   "metadata": {},
   "source": [
    "# Микродиахроническое исследование русских приставок методами дистрибутивной семантики\n",
    "## Автор: Елизавета Клыкова, БКЛ181\n",
    "### Часть 4: запись токенов в базу\n",
    "1. Считать токены из pickle-файлов\n",
    "2. Объединить словари\n",
    "3. Записать в базу\n",
    "4. Проиндексировать коллекцию"
   ]
  },
  {
   "cell_type": "markdown",
   "id": "7cd19ae2",
   "metadata": {},
   "source": [
    "#### Импорт модулей"
   ]
  },
  {
   "cell_type": "code",
   "execution_count": 1,
   "id": "136602c1",
   "metadata": {},
   "outputs": [],
   "source": [
    "%load_ext pycodestyle_magic\n",
    "%pycodestyle_on"
   ]
  },
  {
   "cell_type": "code",
   "execution_count": 2,
   "id": "87500667",
   "metadata": {},
   "outputs": [],
   "source": [
    "import pickle\n",
    "import gridfs\n",
    "import pymongo\n",
    "from tqdm.auto import tqdm\n",
    "from collections import Counter\n",
    "from pymongo.errors import DocumentTooLarge, OperationFailure"
   ]
  },
  {
   "cell_type": "markdown",
   "id": "6a7c850c",
   "metadata": {},
   "source": [
    "#### Открытие файлов"
   ]
  },
  {
   "cell_type": "code",
   "execution_count": 3,
   "id": "d762b782",
   "metadata": {},
   "outputs": [],
   "source": [
    "with open('presov_tokens.pickle', 'rb') as ft1:\n",
    "    presov_tokens = pickle.load(ft1)"
   ]
  },
  {
   "cell_type": "code",
   "execution_count": 4,
   "id": "7bb7f853",
   "metadata": {},
   "outputs": [
    {
     "data": {
      "text/plain": [
       "1356924"
      ]
     },
     "execution_count": 4,
     "metadata": {},
     "output_type": "execute_result"
    }
   ],
   "source": [
    "len(presov_tokens)"
   ]
  },
  {
   "cell_type": "code",
   "execution_count": 5,
   "id": "f93be802",
   "metadata": {},
   "outputs": [],
   "source": [
    "with open('sov_tokens.pickle', 'rb') as ft2:\n",
    "    sov_tokens = pickle.load(ft2)"
   ]
  },
  {
   "cell_type": "code",
   "execution_count": 6,
   "id": "30acf9fb",
   "metadata": {},
   "outputs": [
    {
     "data": {
      "text/plain": [
       "1618041"
      ]
     },
     "execution_count": 6,
     "metadata": {},
     "output_type": "execute_result"
    }
   ],
   "source": [
    "len(sov_tokens)"
   ]
  },
  {
   "cell_type": "code",
   "execution_count": 7,
   "id": "dfd8222f",
   "metadata": {},
   "outputs": [],
   "source": [
    "with open('postsov_tokens.pickle', 'rb') as ft3:\n",
    "    postsov_tokens = pickle.load(ft3)"
   ]
  },
  {
   "cell_type": "code",
   "execution_count": 8,
   "id": "d94e25b5",
   "metadata": {},
   "outputs": [
    {
     "data": {
      "text/plain": [
       "1519257"
      ]
     },
     "execution_count": 8,
     "metadata": {},
     "output_type": "execute_result"
    }
   ],
   "source": [
    "len(postsov_tokens)"
   ]
  },
  {
   "cell_type": "markdown",
   "id": "5bfb27e5",
   "metadata": {},
   "source": [
    "#### Объединение"
   ]
  },
  {
   "cell_type": "code",
   "execution_count": 9,
   "id": "388fc279",
   "metadata": {},
   "outputs": [],
   "source": [
    "all_tokens = {}"
   ]
  },
  {
   "cell_type": "code",
   "execution_count": 10,
   "id": "e914f343",
   "metadata": {},
   "outputs": [
    {
     "data": {
      "application/vnd.jupyter.widget-view+json": {
       "model_id": "e854d43fd39d45d1afe92eb11af8d7d5",
       "version_major": 2,
       "version_minor": 0
      },
      "text/plain": [
       "  0%|          | 0/1356924 [00:00<?, ?it/s]"
      ]
     },
     "metadata": {},
     "output_type": "display_data"
    }
   ],
   "source": [
    "# 1 + 2 и 3\n",
    "for tok_key, token in tqdm(list(presov_tokens.items())):\n",
    "\n",
    "    if tok_key not in sov_tokens and tok_key not in postsov_tokens:\n",
    "        all_tokens[tok_key] = token\n",
    "\n",
    "    else:\n",
    "        combined_freq = token['freq']\n",
    "        combined_freq0 = token['freq_0']\n",
    "        combined_freq1 = token['freq_1']\n",
    "        combined_freq2 = token['freq_2']\n",
    "        combined_docs = token['docs']\n",
    "\n",
    "        if tok_key in sov_tokens:\n",
    "            combined_freq += sov_tokens[tok_key]['freq']\n",
    "            combined_freq0 += sov_tokens[tok_key]['freq_0']\n",
    "            combined_freq1 += sov_tokens[tok_key]['freq_1']\n",
    "            combined_freq2 += sov_tokens[tok_key]['freq_2']\n",
    "            combined_docs.update(sov_tokens[tok_key]['docs'])\n",
    "            del sov_tokens[tok_key]\n",
    "\n",
    "        if tok_key in postsov_tokens:\n",
    "            combined_freq += postsov_tokens[tok_key]['freq']\n",
    "            combined_freq0 += postsov_tokens[tok_key]['freq_0']\n",
    "            combined_freq1 += postsov_tokens[tok_key]['freq_1']\n",
    "            combined_freq2 += postsov_tokens[tok_key]['freq_2']\n",
    "            combined_docs.update(postsov_tokens[tok_key]['docs'])\n",
    "            del postsov_tokens[tok_key]\n",
    "\n",
    "        all_tokens[tok_key] = {'token': token['token'],\n",
    "                               'lemma': token['lemma'],\n",
    "                               'pos': token['pos'],\n",
    "                               'freq': combined_freq,\n",
    "                               'freq_0': combined_freq0,\n",
    "                               'freq_1': combined_freq1,\n",
    "                               'freq_2': combined_freq2,\n",
    "                               'docs': combined_docs}"
   ]
  },
  {
   "cell_type": "code",
   "execution_count": 11,
   "id": "2e4ed05d",
   "metadata": {},
   "outputs": [
    {
     "data": {
      "application/vnd.jupyter.widget-view+json": {
       "model_id": "dbe01a99a48f45caac78e71cf6549bd6",
       "version_major": 2,
       "version_minor": 0
      },
      "text/plain": [
       "  0%|          | 0/882148 [00:00<?, ?it/s]"
      ]
     },
     "metadata": {},
     "output_type": "display_data"
    }
   ],
   "source": [
    "# 2 + 3\n",
    "for tok_key, token in tqdm(list(sov_tokens.items())):\n",
    "\n",
    "    if tok_key not in postsov_tokens:\n",
    "        all_tokens[tok_key] = token\n",
    "\n",
    "    else:\n",
    "        combined_freq = token['freq'] + postsov_tokens[tok_key]['freq']\n",
    "        combined_freq0 = token['freq_0'] + postsov_tokens[tok_key]['freq_0']\n",
    "        combined_freq1 = token['freq_1'] + postsov_tokens[tok_key]['freq_1']\n",
    "        combined_freq2 = token['freq_2'] + postsov_tokens[tok_key]['freq_2']\n",
    "        combined_docs = token['docs']\n",
    "        combined_docs.update(postsov_tokens[tok_key]['docs'])\n",
    "        del postsov_tokens[tok_key]\n",
    "\n",
    "        all_tokens[tok_key] = {'token': token['token'],\n",
    "                               'lemma': token['lemma'],\n",
    "                               'pos': token['pos'],\n",
    "                               'freq': combined_freq,\n",
    "                               'freq_0': combined_freq0,\n",
    "                               'freq_1': combined_freq1,\n",
    "                               'freq_2': combined_freq2,\n",
    "                               'docs': combined_docs}"
   ]
  },
  {
   "cell_type": "code",
   "execution_count": 12,
   "id": "7b235a15",
   "metadata": {},
   "outputs": [
    {
     "data": {
      "application/vnd.jupyter.widget-view+json": {
       "model_id": "047935740e724d55a38e4e9e9ecc8391",
       "version_major": 2,
       "version_minor": 0
      },
      "text/plain": [
       "  0%|          | 0/631597 [00:00<?, ?it/s]"
      ]
     },
     "metadata": {},
     "output_type": "display_data"
    }
   ],
   "source": [
    "# то, что есть только в 3\n",
    "for tok_key, token in tqdm(list(postsov_tokens.items())):\n",
    "    all_tokens[tok_key] = token"
   ]
  },
  {
   "cell_type": "code",
   "execution_count": 13,
   "id": "c63c714b",
   "metadata": {},
   "outputs": [],
   "source": [
    "del presov_tokens\n",
    "del sov_tokens\n",
    "del postsov_tokens"
   ]
  },
  {
   "cell_type": "code",
   "execution_count": 14,
   "id": "253534a3",
   "metadata": {},
   "outputs": [
    {
     "data": {
      "text/plain": [
       "2870669"
      ]
     },
     "execution_count": 14,
     "metadata": {},
     "output_type": "execute_result"
    }
   ],
   "source": [
    "len(all_tokens)"
   ]
  },
  {
   "cell_type": "code",
   "execution_count": 15,
   "id": "07a298a4",
   "metadata": {},
   "outputs": [],
   "source": [
    "with open('all_tokens.pickle', 'wb') as ftok:\n",
    "    pickle.dump(all_tokens, ftok)"
   ]
  },
  {
   "cell_type": "markdown",
   "id": "de3f90f2",
   "metadata": {},
   "source": [
    "#### Считываем токены из файла"
   ]
  },
  {
   "cell_type": "code",
   "execution_count": 3,
   "id": "94889a48",
   "metadata": {},
   "outputs": [],
   "source": [
    "with open('all_tokens.pickle', 'rb') as ftok:\n",
    "    all_tokens = pickle.load(ftok)"
   ]
  },
  {
   "cell_type": "code",
   "execution_count": 4,
   "id": "a12d5ceb",
   "metadata": {},
   "outputs": [
    {
     "data": {
      "application/vnd.jupyter.widget-view+json": {
       "model_id": "09578814224446c386004dc486f03f48",
       "version_major": 2,
       "version_minor": 0
      },
      "text/plain": [
       "  0%|          | 0/2870669 [00:00<?, ?it/s]"
      ]
     },
     "metadata": {},
     "output_type": "display_data"
    }
   ],
   "source": [
    "# множества не записываются в базу\n",
    "for tok_key in tqdm(all_tokens):\n",
    "    all_tokens[tok_key]['docs'] = list(all_tokens[tok_key]['docs'])"
   ]
  },
  {
   "cell_type": "markdown",
   "id": "e5f69938",
   "metadata": {},
   "source": [
    "**Подключение к базе**"
   ]
  },
  {
   "cell_type": "code",
   "execution_count": 5,
   "id": "26ec1049",
   "metadata": {},
   "outputs": [
    {
     "data": {
      "text/plain": [
       "Database(MongoClient(host=['localhost:27017'], document_class=dict, tz_aware=False, connect=True), 'thesis')"
      ]
     },
     "execution_count": 5,
     "metadata": {},
     "output_type": "execute_result"
    }
   ],
   "source": [
    "client = pymongo.MongoClient('localhost', 27017)\n",
    "db = client['thesis']\n",
    "fs = gridfs.GridFS(db)\n",
    "db"
   ]
  },
  {
   "cell_type": "code",
   "execution_count": 6,
   "id": "712edd64",
   "metadata": {},
   "outputs": [],
   "source": [
    "tokens = db.tokens"
   ]
  },
  {
   "cell_type": "code",
   "execution_count": 7,
   "id": "3b87d865",
   "metadata": {},
   "outputs": [],
   "source": [
    "# tokens.delete_many({})"
   ]
  },
  {
   "cell_type": "markdown",
   "id": "cd3c9b22",
   "metadata": {},
   "source": [
    "#### Запись в базу"
   ]
  },
  {
   "cell_type": "code",
   "execution_count": 8,
   "id": "7abcdd4b",
   "metadata": {},
   "outputs": [],
   "source": [
    "def insert_tokens(token_dict, token_collection):\n",
    "    tokens_to_insert = list(token_dict.values())\n",
    "    token_collection.insert_many(tokens_to_insert)"
   ]
  },
  {
   "cell_type": "code",
   "execution_count": null,
   "id": "fb849523",
   "metadata": {},
   "outputs": [],
   "source": [
    "# insert_tokens(all_tokens, tokens)  # здесь ошибка DocumentTooLarge"
   ]
  },
  {
   "cell_type": "code",
   "execution_count": 11,
   "id": "2f26d585",
   "metadata": {},
   "outputs": [],
   "source": [
    "def insert_tokens_one_by_one(token_dict, token_collection):\n",
    "    big_tokens = []\n",
    "    for tok_key in tqdm(token_dict):\n",
    "        try:\n",
    "            token_collection.insert_one(token_dict[tok_key])\n",
    "        except (DocumentTooLarge, OperationFailure):\n",
    "            big_tokens.append(token_dict[tok_key])\n",
    "    return big_tokens"
   ]
  },
  {
   "cell_type": "code",
   "execution_count": 13,
   "id": "7ace3593",
   "metadata": {},
   "outputs": [
    {
     "data": {
      "application/vnd.jupyter.widget-view+json": {
       "model_id": "e43ed95356534af8b83dc8de8a5815bc",
       "version_major": 2,
       "version_minor": 0
      },
      "text/plain": [
       "  0%|          | 0/2870669 [00:00<?, ?it/s]"
      ]
     },
     "metadata": {},
     "output_type": "display_data"
    }
   ],
   "source": [
    "big_tokens = insert_tokens_one_by_one(all_tokens, tokens)"
   ]
  },
  {
   "cell_type": "code",
   "execution_count": 14,
   "id": "38598ae1",
   "metadata": {},
   "outputs": [
    {
     "data": {
      "text/plain": [
       "13"
      ]
     },
     "execution_count": 14,
     "metadata": {},
     "output_type": "execute_result"
    }
   ],
   "source": [
    "len(big_tokens)"
   ]
  },
  {
   "cell_type": "code",
   "execution_count": 15,
   "id": "1e9f597b",
   "metadata": {},
   "outputs": [
    {
     "data": {
      "application/vnd.jupyter.widget-view+json": {
       "model_id": "a44a557e32874c85ad320e7b8e83cad6",
       "version_major": 2,
       "version_minor": 0
      },
      "text/plain": [
       "  0%|          | 0/13 [00:00<?, ?it/s]"
      ]
     },
     "metadata": {},
     "output_type": "display_data"
    }
   ],
   "source": [
    "for i, token in enumerate(tqdm(big_tokens)):\n",
    "    with open(f'token_{i}.pickle', 'wb') as tok:\n",
    "        pickle.dump(token, tok)\n",
    "    with open(f'token_{i}.pickle', 'rb') as tok:\n",
    "        tok_id = fs.put(tok)\n",
    "    token['file_id'] = tok_id"
   ]
  },
  {
   "cell_type": "code",
   "execution_count": 16,
   "id": "3bc17f3b",
   "metadata": {},
   "outputs": [
    {
     "data": {
      "application/vnd.jupyter.widget-view+json": {
       "model_id": "5e975d97d8b94275ba6f9e52dfc8ed6a",
       "version_major": 2,
       "version_minor": 0
      },
      "text/plain": [
       "  0%|          | 0/13 [00:00<?, ?it/s]"
      ]
     },
     "metadata": {},
     "output_type": "display_data"
    }
   ],
   "source": [
    "for token in tqdm(big_tokens):\n",
    "    info_to_insert = token\n",
    "    info_to_insert['docs'] = token['docs'][0:100000]\n",
    "    tokens.insert_one(info_to_insert)"
   ]
  },
  {
   "cell_type": "markdown",
   "id": "2c4966df",
   "metadata": {},
   "source": [
    "**Индексация**"
   ]
  },
  {
   "cell_type": "code",
   "execution_count": 17,
   "id": "0df45842",
   "metadata": {},
   "outputs": [
    {
     "data": {
      "text/plain": [
       "'token_1_lemma_1_pos_1'"
      ]
     },
     "execution_count": 17,
     "metadata": {},
     "output_type": "execute_result"
    }
   ],
   "source": [
    "tokens.create_index([('token', pymongo.ASCENDING),\n",
    "                     ('lemma', pymongo.ASCENDING),\n",
    "                     ('pos', pymongo.ASCENDING)],\n",
    "                    unique=True)"
   ]
  },
  {
   "cell_type": "code",
   "execution_count": null,
   "id": "64d98878",
   "metadata": {},
   "outputs": [],
   "source": [
    "# tokens.drop_index('token_1_lemma_1_pos_1')"
   ]
  }
 ],
 "metadata": {
  "kernelspec": {
   "display_name": "Python 3 (ipykernel)",
   "language": "python",
   "name": "python3"
  },
  "language_info": {
   "codemirror_mode": {
    "name": "ipython",
    "version": 3
   },
   "file_extension": ".py",
   "mimetype": "text/x-python",
   "name": "python",
   "nbconvert_exporter": "python",
   "pygments_lexer": "ipython3",
   "version": "3.9.7"
  }
 },
 "nbformat": 4,
 "nbformat_minor": 5
}
