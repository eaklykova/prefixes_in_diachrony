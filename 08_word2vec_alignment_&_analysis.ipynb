{
 "cells": [
  {
   "cell_type": "markdown",
   "id": "3a133453",
   "metadata": {},
   "source": [
    "# Микродиахроническое исследование русских приставок методами дистрибутивной семантики\n",
    "## Автор: Елизавета Клыкова, БКЛ181\n",
    "### Часть 8: выравнивание моделей + подсчет изменений\n",
    "1. Взять код Orthogonal Procrustes alignment у Hamilton et al. (2016)\n",
    "2. Выровнять модели: советский с досоветским, постсоветский с советским\n",
    "3. Повторить для моделей с приклеенными частями речи\n",
    "4. Рассчитать расстояние Манхэттэна для релевантных периодов (там, где это возможно)\n",
    "5. Отранжировать глаголы внутри приставки и приставки относительно друг друга"
   ]
  },
  {
   "cell_type": "markdown",
   "id": "de350887",
   "metadata": {},
   "source": [
    "\\+ оценка на материале [RuShiftEval](https://github.com/akutuzov/rushifteval_public) (credits to Даша Рыжова за эту идею)"
   ]
  },
  {
   "cell_type": "markdown",
   "id": "7cd19ae2",
   "metadata": {},
   "source": [
    "#### Импорт модулей"
   ]
  },
  {
   "cell_type": "code",
   "execution_count": 1,
   "id": "136602c1",
   "metadata": {},
   "outputs": [],
   "source": [
    "# %load_ext pycodestyle_magic\n",
    "# %pycodestyle_on"
   ]
  },
  {
   "cell_type": "code",
   "execution_count": 2,
   "id": "87500667",
   "metadata": {},
   "outputs": [],
   "source": [
    "import gensim\n",
    "import numpy as np\n",
    "import pandas as pd\n",
    "from tqdm.auto import tqdm\n",
    "from statistics import mean\n",
    "from scipy.spatial.distance import cityblock\n",
    "import scipy.cluster.hierarchy as hcluster\n",
    "import matplotlib.pyplot as plt\n",
    "import warnings\n",
    "warnings.filterwarnings('ignore')"
   ]
  },
  {
   "cell_type": "markdown",
   "id": "a109c7fc",
   "metadata": {},
   "source": [
    "#### Загрузка моделей"
   ]
  },
  {
   "cell_type": "code",
   "execution_count": 3,
   "id": "ce6c4bc9",
   "metadata": {},
   "outputs": [],
   "source": [
    "def load_word2vec_model(file_with_model):\n",
    "    model = gensim.models.KeyedVectors.load_word2vec_format(file_with_model,\n",
    "                                                            binary=True)\n",
    "    print('Размер словаря:', len(model.wv.vocab))\n",
    "    return model"
   ]
  },
  {
   "cell_type": "markdown",
   "id": "60ef6fa2",
   "metadata": {},
   "source": [
    "1. Базовые (леммы без пунктуации)"
   ]
  },
  {
   "cell_type": "code",
   "execution_count": 4,
   "id": "b120d797",
   "metadata": {},
   "outputs": [
    {
     "name": "stdout",
     "output_type": "stream",
     "text": [
      "Размер словаря: 127656\n"
     ]
    }
   ],
   "source": [
    "presov_model = load_word2vec_model('word2vec/word2vec_presov_lemmas.bin')"
   ]
  },
  {
   "cell_type": "code",
   "execution_count": 5,
   "id": "866bb064",
   "metadata": {},
   "outputs": [
    {
     "name": "stdout",
     "output_type": "stream",
     "text": [
      "Размер словаря: 151890\n"
     ]
    }
   ],
   "source": [
    "sov_model = load_word2vec_model('word2vec/word2vec_sov_lemmas.bin')"
   ]
  },
  {
   "cell_type": "code",
   "execution_count": 6,
   "id": "5fa5bc48",
   "metadata": {},
   "outputs": [
    {
     "name": "stdout",
     "output_type": "stream",
     "text": [
      "Размер словаря: 149617\n"
     ]
    }
   ],
   "source": [
    "postsov_model = load_word2vec_model('word2vec/word2vec_postsov_lemmas.bin')"
   ]
  },
  {
   "cell_type": "markdown",
   "id": "0fcbb015",
   "metadata": {},
   "source": [
    "2. Леммы + части речи (без пунктуации)"
   ]
  },
  {
   "cell_type": "code",
   "execution_count": 7,
   "id": "9f84a737",
   "metadata": {},
   "outputs": [
    {
     "name": "stdout",
     "output_type": "stream",
     "text": [
      "Размер словаря: 123804\n"
     ]
    }
   ],
   "source": [
    "presov_pos_model = load_word2vec_model('word2vec/word2vec_presov_lemmas_pos.bin')"
   ]
  },
  {
   "cell_type": "code",
   "execution_count": 8,
   "id": "5af3a953",
   "metadata": {},
   "outputs": [
    {
     "name": "stdout",
     "output_type": "stream",
     "text": [
      "Размер словаря: 147146\n"
     ]
    }
   ],
   "source": [
    "sov_pos_model = load_word2vec_model('word2vec/word2vec_sov_lemmas_pos.bin')"
   ]
  },
  {
   "cell_type": "code",
   "execution_count": 9,
   "id": "1a01070c",
   "metadata": {},
   "outputs": [
    {
     "name": "stdout",
     "output_type": "stream",
     "text": [
      "Размер словаря: 144650\n"
     ]
    }
   ],
   "source": [
    "postsov_pos_model = load_word2vec_model('word2vec/word2vec_postsov_lemmas_pos.bin')"
   ]
  },
  {
   "cell_type": "markdown",
   "id": "a2fd5edd",
   "metadata": {},
   "source": [
    "#### Выравнивание: Procrustes alignment, (Hamilton et al. 2016)\n",
    "Код взят [отсюда](https://gist.github.com/zhicongchen/9e23d5c3f1e5b1293b16133485cd17d8)."
   ]
  },
  {
   "cell_type": "code",
   "execution_count": 10,
   "id": "94104438",
   "metadata": {},
   "outputs": [],
   "source": [
    "def intersection_align_gensim(m1, m2, words=None):\n",
    "    \"\"\"\n",
    "    Intersect two gensim word2vec models, m1 and m2.\n",
    "    Only the shared vocabulary between them is kept.\n",
    "    If 'words' is set (as list or set), then the vocabulary is intersected with this list as well.\n",
    "    Indices are re-organized from 0..N in order of descending frequency (=sum of counts from both m1 and m2).\n",
    "    These indices correspond to the new syn0 and syn0norm objects in both gensim models:\n",
    "        -- so that Row 0 of m1.syn0 will be for the same word as Row 0 of m2.syn0\n",
    "        -- you can find the index of any word on the .index2word list: model.index2word.index(word) => 2\n",
    "    The .vocab dictionary is also updated for each model, preserving the count but updating the index.\n",
    "    \"\"\"\n",
    "\n",
    "    # Get the vocab for each model\n",
    "    vocab_m1 = set(m1.wv.vocab.keys())\n",
    "    vocab_m2 = set(m2.wv.vocab.keys())\n",
    "\n",
    "    # Find the common vocabulary\n",
    "    common_vocab = vocab_m1 & vocab_m2\n",
    "    if words:\n",
    "        common_vocab &= set(words)\n",
    "\n",
    "    # If no alignment necessary because vocab is identical...\n",
    "    if not vocab_m1-common_vocab and not vocab_m2-common_vocab:\n",
    "        return (m1, m2)\n",
    "\n",
    "    # Otherwise sort by frequency (summed for both)\n",
    "    common_vocab = list(common_vocab)\n",
    "    common_vocab.sort(key=lambda w: m1.wv.vocab[w].count + m2.wv.vocab[w].count, reverse=True)\n",
    "\n",
    "    # Then for each model...\n",
    "    for m in [m1, m2]:\n",
    "        # Replace old syn0norm array with new one (with common vocab)\n",
    "        indices = [m.wv.vocab[w].index for w in common_vocab]\n",
    "        old_arr = m.wv.syn0norm\n",
    "        new_arr = np.array([old_arr[index] for index in indices])\n",
    "        m.wv.syn0norm = m.wv.syn0 = new_arr\n",
    "\n",
    "        # Replace old vocab dictionary with new one (with common vocab)\n",
    "        # and old index2word with new one\n",
    "        m.wv.index2word = common_vocab\n",
    "        old_vocab = m.wv.vocab\n",
    "        new_vocab = {}\n",
    "        for new_index, word in enumerate(common_vocab):\n",
    "            old_vocab_obj = old_vocab[word]\n",
    "            new_vocab[word] = gensim.models.word2vec.Vocab(index=new_index, count=old_vocab_obj.count)\n",
    "        m.wv.vocab = new_vocab\n",
    "\n",
    "    return (m1, m2)"
   ]
  },
  {
   "cell_type": "code",
   "execution_count": 11,
   "id": "76411993",
   "metadata": {},
   "outputs": [],
   "source": [
    "def smart_procrustes_align_gensim(base_embed, other_embed, words=None):\n",
    "    \"\"\"\n",
    "    Procrustes align two gensim word2vec models (to allow for comparison between same word across models).\n",
    "    Code ported from HistWords <https://github.com/williamleif/histwords> by William Hamilton <wleif@stanford.edu>.\n",
    "        (With help from William. Thank you!)\n",
    "\n",
    "    First, intersect the vocabularies (see `intersection_align_gensim` documentation).\n",
    "    Then do the alignment on the other_embed model.\n",
    "    Replace the other_embed model's syn0 and syn0norm numpy matrices with the aligned version.\n",
    "    Return other_embed.\n",
    "\n",
    "    If `words` is set, intersect the two models' vocabulary with the vocabulary in words (see `intersection_align_gensim` documentation).\n",
    "    \"\"\"\n",
    "\n",
    "    # patch by Richard So [https://twitter.com/richardjeanso] (thanks!) to update this code for new version of gensim\n",
    "    base_embed.init_sims()\n",
    "    other_embed.init_sims()\n",
    "\n",
    "    # make sure vocabulary and indices are aligned\n",
    "    in_base_embed, in_other_embed = intersection_align_gensim(base_embed, other_embed, words=words)\n",
    "\n",
    "    # get the embedding matrices\n",
    "    base_vecs = in_base_embed.wv.syn0norm\n",
    "    other_vecs = in_other_embed.wv.syn0norm\n",
    "\n",
    "    # just a matrix dot product with numpy\n",
    "    m = other_vecs.T.dot(base_vecs)\n",
    "    # SVD method from numpy\n",
    "    u, _, v = np.linalg.svd(m)\n",
    "    # another matrix operation\n",
    "    ortho = u.dot(v)\n",
    "    # Replace original array with modified one\n",
    "    # i.e. multiplying the embedding matrix (syn0norm)by \"ortho\"\n",
    "    other_embed.wv.syn0norm = other_embed.wv.syn0 = (other_embed.wv.syn0norm).dot(ortho)\n",
    "\n",
    "    return other_embed"
   ]
  },
  {
   "cell_type": "markdown",
   "id": "667fb347",
   "metadata": {},
   "source": [
    "Выравниваем базовые модели:"
   ]
  },
  {
   "cell_type": "code",
   "execution_count": 12,
   "id": "3380ba97",
   "metadata": {},
   "outputs": [],
   "source": [
    "sov_to_presov = smart_procrustes_align_gensim(presov_model, sov_model)"
   ]
  },
  {
   "cell_type": "code",
   "execution_count": 13,
   "id": "f89ba7ce",
   "metadata": {},
   "outputs": [],
   "source": [
    "postsov_to_sov = smart_procrustes_align_gensim(sov_model, postsov_model)"
   ]
  },
  {
   "cell_type": "markdown",
   "id": "575737fb",
   "metadata": {},
   "source": [
    "Выравниваем модели с частями речи:"
   ]
  },
  {
   "cell_type": "code",
   "execution_count": 14,
   "id": "d56ac147",
   "metadata": {},
   "outputs": [],
   "source": [
    "sov_to_presov_pos = smart_procrustes_align_gensim(presov_pos_model, sov_pos_model)"
   ]
  },
  {
   "cell_type": "code",
   "execution_count": 15,
   "id": "ce3f9636",
   "metadata": {},
   "outputs": [],
   "source": [
    "postsov_to_sov_pos = smart_procrustes_align_gensim(sov_pos_model, postsov_pos_model)"
   ]
  },
  {
   "cell_type": "markdown",
   "id": "1d4f3d0e",
   "metadata": {},
   "source": [
    "#### Получение векторов глаголов"
   ]
  },
  {
   "cell_type": "code",
   "execution_count": 16,
   "id": "fcb736c5",
   "metadata": {},
   "outputs": [
    {
     "data": {
      "text/html": [
       "<div>\n",
       "<style scoped>\n",
       "    .dataframe tbody tr th:only-of-type {\n",
       "        vertical-align: middle;\n",
       "    }\n",
       "\n",
       "    .dataframe tbody tr th {\n",
       "        vertical-align: top;\n",
       "    }\n",
       "\n",
       "    .dataframe thead th {\n",
       "        text-align: right;\n",
       "    }\n",
       "</style>\n",
       "<table border=\"1\" class=\"dataframe\">\n",
       "  <thead>\n",
       "    <tr style=\"text-align: right;\">\n",
       "      <th></th>\n",
       "      <th>prefix</th>\n",
       "      <th>lemma</th>\n",
       "      <th>freq</th>\n",
       "      <th>freq_0</th>\n",
       "      <th>freq_1</th>\n",
       "      <th>freq_2</th>\n",
       "    </tr>\n",
       "  </thead>\n",
       "  <tbody>\n",
       "    <tr>\n",
       "      <th>0</th>\n",
       "      <td>бе[зс]</td>\n",
       "      <td>бездействовать</td>\n",
       "      <td>541</td>\n",
       "      <td>155</td>\n",
       "      <td>255</td>\n",
       "      <td>131</td>\n",
       "    </tr>\n",
       "    <tr>\n",
       "      <th>1</th>\n",
       "      <td>бе[зс]</td>\n",
       "      <td>бездельничать</td>\n",
       "      <td>308</td>\n",
       "      <td>41</td>\n",
       "      <td>169</td>\n",
       "      <td>98</td>\n",
       "    </tr>\n",
       "    <tr>\n",
       "      <th>2</th>\n",
       "      <td>бе[зс]</td>\n",
       "      <td>безмолвствовать</td>\n",
       "      <td>726</td>\n",
       "      <td>361</td>\n",
       "      <td>191</td>\n",
       "      <td>174</td>\n",
       "    </tr>\n",
       "    <tr>\n",
       "      <th>3</th>\n",
       "      <td>бе[зс]</td>\n",
       "      <td>безобразить</td>\n",
       "      <td>149</td>\n",
       "      <td>99</td>\n",
       "      <td>43</td>\n",
       "      <td>7</td>\n",
       "    </tr>\n",
       "    <tr>\n",
       "      <th>4</th>\n",
       "      <td>бе[зс]</td>\n",
       "      <td>безобразничать</td>\n",
       "      <td>306</td>\n",
       "      <td>110</td>\n",
       "      <td>136</td>\n",
       "      <td>60</td>\n",
       "    </tr>\n",
       "    <tr>\n",
       "      <th>...</th>\n",
       "      <td>...</td>\n",
       "      <td>...</td>\n",
       "      <td>...</td>\n",
       "      <td>...</td>\n",
       "      <td>...</td>\n",
       "      <td>...</td>\n",
       "    </tr>\n",
       "    <tr>\n",
       "      <th>8440</th>\n",
       "      <td>у</td>\n",
       "      <td>ущемляться</td>\n",
       "      <td>62</td>\n",
       "      <td>8</td>\n",
       "      <td>16</td>\n",
       "      <td>38</td>\n",
       "    </tr>\n",
       "    <tr>\n",
       "      <th>8441</th>\n",
       "      <td>у</td>\n",
       "      <td>ущипывать</td>\n",
       "      <td>510</td>\n",
       "      <td>147</td>\n",
       "      <td>222</td>\n",
       "      <td>141</td>\n",
       "    </tr>\n",
       "    <tr>\n",
       "      <th>8442</th>\n",
       "      <td>у</td>\n",
       "      <td>уязвлять</td>\n",
       "      <td>1305</td>\n",
       "      <td>606</td>\n",
       "      <td>411</td>\n",
       "      <td>288</td>\n",
       "    </tr>\n",
       "    <tr>\n",
       "      <th>8443</th>\n",
       "      <td>у</td>\n",
       "      <td>уяснять</td>\n",
       "      <td>1803</td>\n",
       "      <td>677</td>\n",
       "      <td>740</td>\n",
       "      <td>386</td>\n",
       "    </tr>\n",
       "    <tr>\n",
       "      <th>8444</th>\n",
       "      <td>у</td>\n",
       "      <td>уясняться</td>\n",
       "      <td>206</td>\n",
       "      <td>108</td>\n",
       "      <td>87</td>\n",
       "      <td>11</td>\n",
       "    </tr>\n",
       "  </tbody>\n",
       "</table>\n",
       "<p>8445 rows × 6 columns</p>\n",
       "</div>"
      ],
      "text/plain": [
       "      prefix            lemma  freq  freq_0  freq_1  freq_2\n",
       "0     бе[зс]   бездействовать   541     155     255     131\n",
       "1     бе[зс]    бездельничать   308      41     169      98\n",
       "2     бе[зс]  безмолвствовать   726     361     191     174\n",
       "3     бе[зс]      безобразить   149      99      43       7\n",
       "4     бе[зс]   безобразничать   306     110     136      60\n",
       "...      ...              ...   ...     ...     ...     ...\n",
       "8440       у       ущемляться    62       8      16      38\n",
       "8441       у        ущипывать   510     147     222     141\n",
       "8442       у         уязвлять  1305     606     411     288\n",
       "8443       у          уяснять  1803     677     740     386\n",
       "8444       у        уясняться   206     108      87      11\n",
       "\n",
       "[8445 rows x 6 columns]"
      ]
     },
     "execution_count": 16,
     "metadata": {},
     "output_type": "execute_result"
    }
   ],
   "source": [
    "pref_df = pd.read_csv('prefixes_and_lemmas.tsv', sep='\\t')\n",
    "pref_df"
   ]
  },
  {
   "cell_type": "code",
   "execution_count": 17,
   "id": "517d026a",
   "metadata": {},
   "outputs": [],
   "source": [
    "# list of dicts\n",
    "pref_dict = pref_df.to_dict(orient='records')"
   ]
  },
  {
   "cell_type": "markdown",
   "id": "e74a219a",
   "metadata": {},
   "source": [
    "Нам нужны:\n",
    "- вектор досоветского периода\n",
    "- вектор советского периода, выровненный с досоветским\n",
    "- вектор постсоветского периода, выровненный с советским (и досоветским по определению)\n",
    "- было проверено, что при выравнивании постсоветского с досоветским получаются те же векторы\n",
    "- все то же самое для моделей с частями речи"
   ]
  },
  {
   "cell_type": "code",
   "execution_count": 18,
   "id": "76bac74a",
   "metadata": {},
   "outputs": [],
   "source": [
    "for verb in pref_dict:\n",
    "    # базовые модели\n",
    "    lemma = verb['lemma']\n",
    "    verb['v_presov'] = presov_model[lemma] if lemma in presov_model else None\n",
    "    verb['v_sov'] = sov_to_presov[lemma] if lemma in sov_to_presov else None\n",
    "    verb['v_postsov'] = postsov_to_sov[lemma] if lemma in postsov_to_sov else None\n",
    "    # модели с частями речи\n",
    "    lemma = verb['lemma'] + '_' + 'V'\n",
    "    verb['vpos_presov'] = presov_pos_model[lemma] if lemma in presov_pos_model else None\n",
    "    verb['vpos_sov'] = sov_to_presov_pos[lemma] if lemma in sov_to_presov_pos else None\n",
    "    verb['vpos_postsov'] = postsov_to_sov_pos[lemma] if lemma in postsov_to_sov_pos else None"
   ]
  },
  {
   "cell_type": "markdown",
   "id": "2daf098a",
   "metadata": {},
   "source": [
    "#### Выявление изменений с помощью расстояния Манхеттена\n",
    "Расстояние Манхэттэна: Σ|Ai – Bi|. Для каждой леммы считаем расстояние между советским и досоветским, постсоветским и советским, постсоветским и досоветским (+ то же самое для модели с частями речи). Если в каком-то периоде нет нужного значения (слово не встретилось в модели), оставляем None."
   ]
  },
  {
   "cell_type": "code",
   "execution_count": 19,
   "id": "9df7b2ee",
   "metadata": {},
   "outputs": [],
   "source": [
    "for verb in pref_dict:\n",
    "\n",
    "    # базовые модели\n",
    "    if verb['v_presov'] is not None and verb['v_sov'] is not None:\n",
    "        verb['d_pre_to_sov'] = cityblock(verb['v_presov'], verb['v_sov'])\n",
    "    else:\n",
    "        verb['d_pre_to_sov'] = None\n",
    "    if verb['v_sov'] is not None and verb['v_postsov'] is not None:\n",
    "        verb['d_sov_to_post'] = cityblock(verb['v_sov'], verb['v_postsov'])\n",
    "    else:\n",
    "        verb['d_sov_to_post'] = None\n",
    "    if verb['v_presov'] is not None and verb['v_postsov'] is not None:\n",
    "        verb['d_pre_to_post'] = cityblock(verb['v_presov'], verb['v_postsov'])\n",
    "    else:\n",
    "        verb['d_pre_to_post'] = None\n",
    "\n",
    "    # модели с частями речи\n",
    "    if verb['vpos_presov'] is not None and verb['vpos_sov'] is not None:\n",
    "        verb['dpos_pre_to_sov'] = cityblock(verb['vpos_presov'], verb['vpos_sov'])\n",
    "    else:\n",
    "        verb['dpos_pre_to_sov'] = None\n",
    "    if verb['vpos_sov'] is not None and verb['vpos_postsov'] is not None:\n",
    "        verb['dpos_sov_to_post'] = cityblock(verb['vpos_sov'], verb['vpos_postsov'])\n",
    "    else:\n",
    "        verb['dpos_sov_to_post'] = None\n",
    "    if verb['vpos_presov'] is not None and verb['vpos_postsov'] is not None:\n",
    "        verb['dpos_pre_to_post'] = cityblock(verb['vpos_presov'], verb['vpos_postsov'])\n",
    "    else:\n",
    "        verb['dpos_pre_to_post'] = None"
   ]
  },
  {
   "cell_type": "markdown",
   "id": "417f5ff9",
   "metadata": {},
   "source": [
    "Выделим глаголы, которые встретились во всех периодах, и отранжируем их по степени изменения (внутри каждой приставки свой список). Пока не будем смотреть на глаголы, которых в том или ином периоде не оказалось (но посмотрим на них позже, поскольку они также могут дать ценную информацию о сочетаемости и т.д.)."
   ]
  },
  {
   "cell_type": "code",
   "execution_count": 20,
   "id": "4fa0c7f9",
   "metadata": {},
   "outputs": [],
   "source": [
    "prefixes = sorted(list(set([verb['prefix'] for verb in pref_dict])))"
   ]
  },
  {
   "cell_type": "code",
   "execution_count": 21,
   "id": "9db4c9e7",
   "metadata": {},
   "outputs": [],
   "source": [
    "w2v_lemma_dict = {}\n",
    "w2v_pos_dict = {}\n",
    "\n",
    "for prefix in prefixes:\n",
    "    w2v_lemma_dict[prefix] = []\n",
    "    w2v_pos_dict[prefix] = []"
   ]
  },
  {
   "cell_type": "markdown",
   "id": "20f96028",
   "metadata": {},
   "source": [
    "Для сравнимости результатов берем всегда одни и те же глаголы:"
   ]
  },
  {
   "cell_type": "code",
   "execution_count": 22,
   "id": "0295b7e8",
   "metadata": {},
   "outputs": [],
   "source": [
    "for verb in pref_dict:\n",
    "    check_vectors = [verb['v_presov'], verb['v_sov'], verb['v_postsov'],\n",
    "                     verb['vpos_presov'], verb['vpos_sov'], verb['vpos_postsov']]\n",
    "    if not any(elem is None for elem in check_vectors):\n",
    "        w2v_lemma_dict[verb['prefix']].append(verb)\n",
    "        w2v_pos_dict[verb['prefix']].append(verb)"
   ]
  },
  {
   "cell_type": "markdown",
   "id": "93574806",
   "metadata": {},
   "source": [
    "#### Считаем для базовых моделей"
   ]
  },
  {
   "cell_type": "code",
   "execution_count": 23,
   "id": "e44e12e2",
   "metadata": {},
   "outputs": [],
   "source": [
    "for prefix in w2v_lemma_dict:\n",
    "    verbs = w2v_lemma_dict[prefix]\n",
    "    pre_to_sov = [(verb['lemma'], verb['d_pre_to_sov'])\n",
    "                  for verb in sorted(verbs,\n",
    "                                     key=lambda x: x['d_pre_to_sov'],\n",
    "                                     reverse=True)]\n",
    "    sov_to_post = [(verb['lemma'], verb['d_sov_to_post'])\n",
    "                   for verb in sorted(verbs,\n",
    "                                      key=lambda x: x['d_sov_to_post'],\n",
    "                                      reverse=True)]\n",
    "    pre_to_post = [(verb['lemma'], verb['d_pre_to_post'])\n",
    "                   for verb in sorted(verbs,\n",
    "                                      key=lambda x: x['d_pre_to_post'],\n",
    "                                      reverse=True)]\n",
    "    w2v_lemma_dict[prefix] = {'pre_to_sov_mean': mean([v[1] for v in pre_to_sov]),\n",
    "                              'sov_to_post_mean': mean([v[1] for v in sov_to_post]),\n",
    "                              'pre_to_post_mean': mean([v[1] for v in pre_to_post]),\n",
    "                              'pre_to_sov_ranged': pre_to_sov,\n",
    "                              'sov_to_post_ranged': sov_to_post,\n",
    "                              'pre_to_post_ranged': pre_to_post}"
   ]
  },
  {
   "cell_type": "code",
   "execution_count": 24,
   "id": "f222d881",
   "metadata": {},
   "outputs": [
    {
     "data": {
      "text/plain": [
       "14.401225"
      ]
     },
     "execution_count": 24,
     "metadata": {},
     "output_type": "execute_result"
    }
   ],
   "source": [
    "w2v_lemma_dict['полу']['sov_to_post_mean']"
   ]
  },
  {
   "cell_type": "markdown",
   "id": "c3f2028b",
   "metadata": {},
   "source": [
    "#### Ранжирование приставок по средней степени изменения в период"
   ]
  },
  {
   "cell_type": "code",
   "execution_count": 25,
   "id": "17b7ad7a",
   "metadata": {},
   "outputs": [],
   "source": [
    "prefs_pre_to_sov_ranged = [(pref,\n",
    "                            len(w2v_lemma_dict[pref]['pre_to_sov_ranged']),\n",
    "                            w2v_lemma_dict[pref]['pre_to_sov_mean'])\n",
    "                           for pref in sorted(w2v_lemma_dict,\n",
    "                                              key=lambda x: w2v_lemma_dict[x]['pre_to_sov_mean'],\n",
    "                                              reverse=True)]"
   ]
  },
  {
   "cell_type": "code",
   "execution_count": 26,
   "id": "b34e159d",
   "metadata": {},
   "outputs": [
    {
     "data": {
      "text/plain": [
       "[('недо', 17, 14.99659),\n",
       " ('обе[зс]', 27, 14.573118),\n",
       " ('полу', 17, 14.42894),\n",
       " ('над', 17, 13.81196),\n",
       " ('бе[зс]', 11, 13.70461),\n",
       " ('пере', 356, 13.596336),\n",
       " ('на', 523, 13.302644),\n",
       " ('про', 483, 13.251364),\n",
       " ('за', 937, 13.179125),\n",
       " ('ра[зс]', 621, 13.144019),\n",
       " ('и[зс]', 275, 13.09914),\n",
       " ('о', 815, 13.095943),\n",
       " ('ни[зс]', 10, 13.051192),\n",
       " ('от', 393, 13.008765),\n",
       " ('под', 265, 12.995167),\n",
       " ('во?', 137, 12.90297),\n",
       " ('по', 1007, 12.821486),\n",
       " ('вы', 444, 12.775991),\n",
       " ('во[зс]', 122, 12.722906),\n",
       " ('в[зс]', 150, 12.7190695),\n",
       " ('до', 153, 12.662589),\n",
       " ('с', 652, 12.624213),\n",
       " ('при', 411, 12.370303),\n",
       " ('пред', 58, 12.259981),\n",
       " ('у', 465, 12.234318),\n",
       " ('пре', 68, 11.745227)]"
      ]
     },
     "execution_count": 26,
     "metadata": {},
     "output_type": "execute_result"
    }
   ],
   "source": [
    "prefs_pre_to_sov_ranged"
   ]
  },
  {
   "cell_type": "code",
   "execution_count": 27,
   "id": "2a1a4e70",
   "metadata": {},
   "outputs": [],
   "source": [
    "prefs_sov_to_post_ranged = [(pref,\n",
    "                             len(w2v_lemma_dict[pref]['sov_to_post_ranged']),\n",
    "                             w2v_lemma_dict[pref]['sov_to_post_mean'])\n",
    "                            for pref in sorted(w2v_lemma_dict,\n",
    "                                               key=lambda x: w2v_lemma_dict[x]['sov_to_post_mean'],\n",
    "                                               reverse=True)]"
   ]
  },
  {
   "cell_type": "code",
   "execution_count": 28,
   "id": "bc52aff6",
   "metadata": {},
   "outputs": [],
   "source": [
    "prefs_pre_to_post_ranged = [(pref,\n",
    "                             len(w2v_lemma_dict[pref]['pre_to_post_ranged']),\n",
    "                             w2v_lemma_dict[pref]['pre_to_post_mean'])\n",
    "                            for pref in sorted(w2v_lemma_dict,\n",
    "                                               key=lambda x: w2v_lemma_dict[x]['pre_to_post_mean'],\n",
    "                                               reverse=True)]"
   ]
  },
  {
   "cell_type": "markdown",
   "id": "f25738f5",
   "metadata": {},
   "source": [
    "#### Повторяем все, что выше, для моделей с частями речи"
   ]
  },
  {
   "cell_type": "code",
   "execution_count": 29,
   "id": "53e3644e",
   "metadata": {},
   "outputs": [],
   "source": [
    "for prefix in w2v_pos_dict:\n",
    "    verbs = w2v_pos_dict[prefix]\n",
    "    pre_to_sov = [(verb['lemma'], verb['dpos_pre_to_sov'])\n",
    "                  for verb in sorted(verbs,\n",
    "                                     key=lambda x: x['dpos_pre_to_sov'],\n",
    "                                     reverse=True)]\n",
    "    sov_to_post = [(verb['lemma'], verb['dpos_sov_to_post'])\n",
    "                   for verb in sorted(verbs,\n",
    "                                      key=lambda x: x['dpos_sov_to_post'],\n",
    "                                      reverse=True)]\n",
    "    pre_to_post = [(verb['lemma'], verb['dpos_pre_to_post'])\n",
    "                   for verb in sorted(verbs,\n",
    "                                      key=lambda x: x['dpos_pre_to_post'],\n",
    "                                      reverse=True)]\n",
    "    w2v_pos_dict[prefix] = {'pre_to_sov_mean': mean([v[1] for v in pre_to_sov]),\n",
    "                            'sov_to_post_mean': mean([v[1] for v in sov_to_post]),\n",
    "                            'pre_to_post_mean': mean([v[1] for v in pre_to_post]),\n",
    "                            'pre_to_sov_ranged': pre_to_sov,\n",
    "                            'sov_to_post_ranged': sov_to_post,\n",
    "                            'pre_to_post_ranged': pre_to_post}"
   ]
  },
  {
   "cell_type": "code",
   "execution_count": 30,
   "id": "67ec7766",
   "metadata": {},
   "outputs": [],
   "source": [
    "prefs_pre_to_sov_pos_ranged = [(pref,\n",
    "                                len(w2v_pos_dict[pref]['pre_to_sov_ranged']),\n",
    "                                w2v_pos_dict[pref]['pre_to_sov_mean'])\n",
    "                               for pref in sorted(w2v_pos_dict,\n",
    "                                                  key=lambda x: w2v_pos_dict[x]['pre_to_sov_mean'],\n",
    "                                                  reverse=True)]"
   ]
  },
  {
   "cell_type": "code",
   "execution_count": 31,
   "id": "c021e9ec",
   "metadata": {},
   "outputs": [],
   "source": [
    "prefs_sov_to_post_pos_ranged = [(pref,\n",
    "                                 len(w2v_pos_dict[pref]['sov_to_post_ranged']),\n",
    "                                 w2v_pos_dict[pref]['sov_to_post_mean'])\n",
    "                                for pref in sorted(w2v_pos_dict,\n",
    "                                                   key=lambda x: w2v_pos_dict[x]['sov_to_post_mean'],\n",
    "                                                   reverse=True)]"
   ]
  },
  {
   "cell_type": "code",
   "execution_count": 32,
   "id": "0836db76",
   "metadata": {},
   "outputs": [],
   "source": [
    "prefs_pre_to_post_pos_ranged = [(pref,\n",
    "                                 len(w2v_pos_dict[pref]['pre_to_post_ranged']),\n",
    "                                 w2v_pos_dict[pref]['pre_to_post_mean'])\n",
    "                                for pref in sorted(w2v_pos_dict,\n",
    "                                                   key=lambda x: w2v_pos_dict[x]['pre_to_post_mean'],\n",
    "                                                   reverse=True)]"
   ]
  },
  {
   "cell_type": "markdown",
   "id": "f80dde54",
   "metadata": {},
   "source": [
    "#### Собираем в датафрейм для наглядности"
   ]
  },
  {
   "cell_type": "code",
   "execution_count": 33,
   "id": "02778f5c",
   "metadata": {},
   "outputs": [],
   "source": [
    "pref_ranged_df = pd.DataFrame(\n",
    "    {'w2vlem_pre_to_sov': prefs_pre_to_sov_ranged,\n",
    "     'w2vlem_sov_to_post': prefs_sov_to_post_ranged,\n",
    "     'w2vlem_pre_to_post': prefs_pre_to_post_ranged,\n",
    "     'w2vpos_pre_to_sov': prefs_pre_to_sov_pos_ranged,\n",
    "     'w2vpos_sov_to_post': prefs_sov_to_post_pos_ranged,\n",
    "     'w2vpos_pre_to_post': prefs_pre_to_post_pos_ranged,\n",
    "     })"
   ]
  },
  {
   "cell_type": "code",
   "execution_count": 34,
   "id": "a88991bb",
   "metadata": {},
   "outputs": [
    {
     "data": {
      "text/html": [
       "<div>\n",
       "<style scoped>\n",
       "    .dataframe tbody tr th:only-of-type {\n",
       "        vertical-align: middle;\n",
       "    }\n",
       "\n",
       "    .dataframe tbody tr th {\n",
       "        vertical-align: top;\n",
       "    }\n",
       "\n",
       "    .dataframe thead th {\n",
       "        text-align: right;\n",
       "    }\n",
       "</style>\n",
       "<table border=\"1\" class=\"dataframe\">\n",
       "  <thead>\n",
       "    <tr style=\"text-align: right;\">\n",
       "      <th></th>\n",
       "      <th>w2vlem_pre_to_sov</th>\n",
       "      <th>w2vlem_sov_to_post</th>\n",
       "      <th>w2vlem_pre_to_post</th>\n",
       "      <th>w2vpos_pre_to_sov</th>\n",
       "      <th>w2vpos_sov_to_post</th>\n",
       "      <th>w2vpos_pre_to_post</th>\n",
       "    </tr>\n",
       "  </thead>\n",
       "  <tbody>\n",
       "    <tr>\n",
       "      <th>0</th>\n",
       "      <td>(недо, 17, 14.99659)</td>\n",
       "      <td>(недо, 17, 14.426576)</td>\n",
       "      <td>(недо, 17, 15.715141)</td>\n",
       "      <td>(недо, 17, 14.97861)</td>\n",
       "      <td>(полу, 17, 14.358989)</td>\n",
       "      <td>(недо, 17, 15.99652)</td>\n",
       "    </tr>\n",
       "    <tr>\n",
       "      <th>1</th>\n",
       "      <td>(обе[зс], 27, 14.573118)</td>\n",
       "      <td>(полу, 17, 14.401225)</td>\n",
       "      <td>(обе[зс], 27, 15.39006)</td>\n",
       "      <td>(обе[зс], 27, 14.637605)</td>\n",
       "      <td>(обе[зс], 27, 14.341099)</td>\n",
       "      <td>(обе[зс], 27, 15.439433)</td>\n",
       "    </tr>\n",
       "    <tr>\n",
       "      <th>2</th>\n",
       "      <td>(полу, 17, 14.42894)</td>\n",
       "      <td>(обе[зс], 27, 14.298121)</td>\n",
       "      <td>(полу, 17, 14.960836)</td>\n",
       "      <td>(полу, 17, 14.338059)</td>\n",
       "      <td>(недо, 17, 14.29634)</td>\n",
       "      <td>(полу, 17, 14.99648)</td>\n",
       "    </tr>\n",
       "    <tr>\n",
       "      <th>3</th>\n",
       "      <td>(над, 17, 13.81196)</td>\n",
       "      <td>(бе[зс], 11, 14.03681)</td>\n",
       "      <td>(бе[зс], 11, 14.72792)</td>\n",
       "      <td>(бе[зс], 11, 13.856313)</td>\n",
       "      <td>(бе[зс], 11, 14.005821)</td>\n",
       "      <td>(бе[зс], 11, 14.944925)</td>\n",
       "    </tr>\n",
       "    <tr>\n",
       "      <th>4</th>\n",
       "      <td>(бе[зс], 11, 13.70461)</td>\n",
       "      <td>(над, 17, 13.573008)</td>\n",
       "      <td>(пере, 356, 14.58536)</td>\n",
       "      <td>(над, 17, 13.847142)</td>\n",
       "      <td>(над, 17, 13.587695)</td>\n",
       "      <td>(пере, 356, 14.532836)</td>\n",
       "    </tr>\n",
       "    <tr>\n",
       "      <th>5</th>\n",
       "      <td>(пере, 356, 13.596336)</td>\n",
       "      <td>(ни[зс], 10, 13.5455265)</td>\n",
       "      <td>(над, 17, 14.582028)</td>\n",
       "      <td>(пере, 356, 13.570927)</td>\n",
       "      <td>(ни[зс], 10, 13.301887)</td>\n",
       "      <td>(над, 17, 14.476915)</td>\n",
       "    </tr>\n",
       "    <tr>\n",
       "      <th>6</th>\n",
       "      <td>(на, 523, 13.302644)</td>\n",
       "      <td>(пере, 356, 13.122657)</td>\n",
       "      <td>(на, 523, 14.401475)</td>\n",
       "      <td>(на, 523, 13.303542)</td>\n",
       "      <td>(пере, 356, 13.099909)</td>\n",
       "      <td>(на, 523, 14.34752)</td>\n",
       "    </tr>\n",
       "    <tr>\n",
       "      <th>7</th>\n",
       "      <td>(про, 483, 13.251364)</td>\n",
       "      <td>(на, 523, 13.046146)</td>\n",
       "      <td>(за, 937, 14.301837)</td>\n",
       "      <td>(про, 483, 13.19236)</td>\n",
       "      <td>(на, 523, 13.035655)</td>\n",
       "      <td>(за, 937, 14.264283)</td>\n",
       "    </tr>\n",
       "    <tr>\n",
       "      <th>8</th>\n",
       "      <td>(за, 937, 13.179125)</td>\n",
       "      <td>(и[зс], 275, 12.937429)</td>\n",
       "      <td>(и[зс], 275, 14.265233)</td>\n",
       "      <td>(за, 937, 13.179033)</td>\n",
       "      <td>(и[зс], 275, 12.935182)</td>\n",
       "      <td>(и[зс], 275, 14.235817)</td>\n",
       "    </tr>\n",
       "    <tr>\n",
       "      <th>9</th>\n",
       "      <td>(ра[зс], 621, 13.144019)</td>\n",
       "      <td>(за, 937, 12.89423)</td>\n",
       "      <td>(про, 483, 14.202373)</td>\n",
       "      <td>(ра[зс], 621, 13.127561)</td>\n",
       "      <td>(за, 937, 12.866041)</td>\n",
       "      <td>(о, 815, 14.175009)</td>\n",
       "    </tr>\n",
       "    <tr>\n",
       "      <th>10</th>\n",
       "      <td>(и[зс], 275, 13.09914)</td>\n",
       "      <td>(о, 815, 12.864417)</td>\n",
       "      <td>(о, 815, 14.184806)</td>\n",
       "      <td>(и[зс], 275, 13.124083)</td>\n",
       "      <td>(о, 815, 12.842781)</td>\n",
       "      <td>(про, 483, 14.146704)</td>\n",
       "    </tr>\n",
       "    <tr>\n",
       "      <th>11</th>\n",
       "      <td>(о, 815, 13.095943)</td>\n",
       "      <td>(во[зс], 122, 12.801435)</td>\n",
       "      <td>(ра[зс], 621, 14.140605)</td>\n",
       "      <td>(о, 815, 13.057353)</td>\n",
       "      <td>(во[зс], 122, 12.778657)</td>\n",
       "      <td>(ра[зс], 621, 14.136978)</td>\n",
       "    </tr>\n",
       "    <tr>\n",
       "      <th>12</th>\n",
       "      <td>(ни[зс], 10, 13.051192)</td>\n",
       "      <td>(про, 483, 12.740141)</td>\n",
       "      <td>(под, 265, 14.082735)</td>\n",
       "      <td>(от, 393, 12.997167)</td>\n",
       "      <td>(про, 483, 12.731619)</td>\n",
       "      <td>(под, 265, 14.099221)</td>\n",
       "    </tr>\n",
       "    <tr>\n",
       "      <th>13</th>\n",
       "      <td>(от, 393, 13.008765)</td>\n",
       "      <td>(ра[зс], 621, 12.670384)</td>\n",
       "      <td>(от, 393, 14.060582)</td>\n",
       "      <td>(ни[зс], 10, 12.993077)</td>\n",
       "      <td>(ра[зс], 621, 12.678238)</td>\n",
       "      <td>(от, 393, 14.048196)</td>\n",
       "    </tr>\n",
       "    <tr>\n",
       "      <th>14</th>\n",
       "      <td>(под, 265, 12.995167)</td>\n",
       "      <td>(в[зс], 150, 12.626095)</td>\n",
       "      <td>(в[зс], 150, 14.032343)</td>\n",
       "      <td>(под, 265, 12.973056)</td>\n",
       "      <td>(под, 265, 12.588166)</td>\n",
       "      <td>(в[зс], 150, 13.938532)</td>\n",
       "    </tr>\n",
       "    <tr>\n",
       "      <th>15</th>\n",
       "      <td>(во?, 137, 12.90297)</td>\n",
       "      <td>(под, 265, 12.6047735)</td>\n",
       "      <td>(ни[зс], 10, 13.964696)</td>\n",
       "      <td>(во?, 137, 12.934762)</td>\n",
       "      <td>(в[зс], 150, 12.577096)</td>\n",
       "      <td>(во?, 137, 13.893498)</td>\n",
       "    </tr>\n",
       "    <tr>\n",
       "      <th>16</th>\n",
       "      <td>(по, 1007, 12.821486)</td>\n",
       "      <td>(по, 1007, 12.562446)</td>\n",
       "      <td>(во[зс], 122, 13.912318)</td>\n",
       "      <td>(по, 1007, 12.780166)</td>\n",
       "      <td>(по, 1007, 12.543598)</td>\n",
       "      <td>(по, 1007, 13.857165)</td>\n",
       "    </tr>\n",
       "    <tr>\n",
       "      <th>17</th>\n",
       "      <td>(вы, 444, 12.775991)</td>\n",
       "      <td>(от, 393, 12.524834)</td>\n",
       "      <td>(во?, 137, 13.897653)</td>\n",
       "      <td>(в[зс], 150, 12.745728)</td>\n",
       "      <td>(от, 393, 12.529782)</td>\n",
       "      <td>(во[зс], 122, 13.824351)</td>\n",
       "    </tr>\n",
       "    <tr>\n",
       "      <th>18</th>\n",
       "      <td>(во[зс], 122, 12.722906)</td>\n",
       "      <td>(до, 153, 12.244306)</td>\n",
       "      <td>(по, 1007, 13.892243)</td>\n",
       "      <td>(вы, 444, 12.721556)</td>\n",
       "      <td>(во?, 137, 12.243727)</td>\n",
       "      <td>(ни[зс], 10, 13.801463)</td>\n",
       "    </tr>\n",
       "    <tr>\n",
       "      <th>19</th>\n",
       "      <td>(в[зс], 150, 12.7190695)</td>\n",
       "      <td>(во?, 137, 12.21349)</td>\n",
       "      <td>(вы, 444, 13.819422)</td>\n",
       "      <td>(во[зс], 122, 12.687821)</td>\n",
       "      <td>(до, 153, 12.203843)</td>\n",
       "      <td>(вы, 444, 13.781275)</td>\n",
       "    </tr>\n",
       "    <tr>\n",
       "      <th>20</th>\n",
       "      <td>(до, 153, 12.662589)</td>\n",
       "      <td>(с, 652, 12.185718)</td>\n",
       "      <td>(с, 652, 13.799043)</td>\n",
       "      <td>(до, 153, 12.660632)</td>\n",
       "      <td>(вы, 444, 12.175824)</td>\n",
       "      <td>(с, 652, 13.767753)</td>\n",
       "    </tr>\n",
       "    <tr>\n",
       "      <th>21</th>\n",
       "      <td>(с, 652, 12.624213)</td>\n",
       "      <td>(вы, 444, 12.181206)</td>\n",
       "      <td>(до, 153, 13.600711)</td>\n",
       "      <td>(с, 652, 12.611967)</td>\n",
       "      <td>(с, 652, 12.175532)</td>\n",
       "      <td>(до, 153, 13.571602)</td>\n",
       "    </tr>\n",
       "    <tr>\n",
       "      <th>22</th>\n",
       "      <td>(при, 411, 12.370303)</td>\n",
       "      <td>(при, 411, 12.092031)</td>\n",
       "      <td>(пред, 58, 13.556049)</td>\n",
       "      <td>(при, 411, 12.325626)</td>\n",
       "      <td>(при, 411, 12.062451)</td>\n",
       "      <td>(пред, 58, 13.486955)</td>\n",
       "    </tr>\n",
       "    <tr>\n",
       "      <th>23</th>\n",
       "      <td>(пред, 58, 12.259981)</td>\n",
       "      <td>(у, 465, 11.959068)</td>\n",
       "      <td>(при, 411, 13.474945)</td>\n",
       "      <td>(пред, 58, 12.263913)</td>\n",
       "      <td>(у, 465, 11.919077)</td>\n",
       "      <td>(при, 411, 13.464291)</td>\n",
       "    </tr>\n",
       "    <tr>\n",
       "      <th>24</th>\n",
       "      <td>(у, 465, 12.234318)</td>\n",
       "      <td>(пред, 58, 11.874603)</td>\n",
       "      <td>(у, 465, 13.40166)</td>\n",
       "      <td>(у, 465, 12.205983)</td>\n",
       "      <td>(пред, 58, 11.877301)</td>\n",
       "      <td>(у, 465, 13.380662)</td>\n",
       "    </tr>\n",
       "    <tr>\n",
       "      <th>25</th>\n",
       "      <td>(пре, 68, 11.745227)</td>\n",
       "      <td>(пре, 68, 11.593464)</td>\n",
       "      <td>(пре, 68, 13.16498)</td>\n",
       "      <td>(пре, 68, 11.70849)</td>\n",
       "      <td>(пре, 68, 11.588173)</td>\n",
       "      <td>(пре, 68, 13.162589)</td>\n",
       "    </tr>\n",
       "  </tbody>\n",
       "</table>\n",
       "</div>"
      ],
      "text/plain": [
       "           w2vlem_pre_to_sov        w2vlem_sov_to_post  \\\n",
       "0       (недо, 17, 14.99659)     (недо, 17, 14.426576)   \n",
       "1   (обе[зс], 27, 14.573118)     (полу, 17, 14.401225)   \n",
       "2       (полу, 17, 14.42894)  (обе[зс], 27, 14.298121)   \n",
       "3        (над, 17, 13.81196)    (бе[зс], 11, 14.03681)   \n",
       "4     (бе[зс], 11, 13.70461)      (над, 17, 13.573008)   \n",
       "5     (пере, 356, 13.596336)  (ни[зс], 10, 13.5455265)   \n",
       "6       (на, 523, 13.302644)    (пере, 356, 13.122657)   \n",
       "7      (про, 483, 13.251364)      (на, 523, 13.046146)   \n",
       "8       (за, 937, 13.179125)   (и[зс], 275, 12.937429)   \n",
       "9   (ра[зс], 621, 13.144019)       (за, 937, 12.89423)   \n",
       "10    (и[зс], 275, 13.09914)       (о, 815, 12.864417)   \n",
       "11       (о, 815, 13.095943)  (во[зс], 122, 12.801435)   \n",
       "12   (ни[зс], 10, 13.051192)     (про, 483, 12.740141)   \n",
       "13      (от, 393, 13.008765)  (ра[зс], 621, 12.670384)   \n",
       "14     (под, 265, 12.995167)   (в[зс], 150, 12.626095)   \n",
       "15      (во?, 137, 12.90297)    (под, 265, 12.6047735)   \n",
       "16     (по, 1007, 12.821486)     (по, 1007, 12.562446)   \n",
       "17      (вы, 444, 12.775991)      (от, 393, 12.524834)   \n",
       "18  (во[зс], 122, 12.722906)      (до, 153, 12.244306)   \n",
       "19  (в[зс], 150, 12.7190695)      (во?, 137, 12.21349)   \n",
       "20      (до, 153, 12.662589)       (с, 652, 12.185718)   \n",
       "21       (с, 652, 12.624213)      (вы, 444, 12.181206)   \n",
       "22     (при, 411, 12.370303)     (при, 411, 12.092031)   \n",
       "23     (пред, 58, 12.259981)       (у, 465, 11.959068)   \n",
       "24       (у, 465, 12.234318)     (пред, 58, 11.874603)   \n",
       "25      (пре, 68, 11.745227)      (пре, 68, 11.593464)   \n",
       "\n",
       "          w2vlem_pre_to_post         w2vpos_pre_to_sov  \\\n",
       "0      (недо, 17, 15.715141)      (недо, 17, 14.97861)   \n",
       "1    (обе[зс], 27, 15.39006)  (обе[зс], 27, 14.637605)   \n",
       "2      (полу, 17, 14.960836)     (полу, 17, 14.338059)   \n",
       "3     (бе[зс], 11, 14.72792)   (бе[зс], 11, 13.856313)   \n",
       "4      (пере, 356, 14.58536)      (над, 17, 13.847142)   \n",
       "5       (над, 17, 14.582028)    (пере, 356, 13.570927)   \n",
       "6       (на, 523, 14.401475)      (на, 523, 13.303542)   \n",
       "7       (за, 937, 14.301837)      (про, 483, 13.19236)   \n",
       "8    (и[зс], 275, 14.265233)      (за, 937, 13.179033)   \n",
       "9      (про, 483, 14.202373)  (ра[зс], 621, 13.127561)   \n",
       "10       (о, 815, 14.184806)   (и[зс], 275, 13.124083)   \n",
       "11  (ра[зс], 621, 14.140605)       (о, 815, 13.057353)   \n",
       "12     (под, 265, 14.082735)      (от, 393, 12.997167)   \n",
       "13      (от, 393, 14.060582)   (ни[зс], 10, 12.993077)   \n",
       "14   (в[зс], 150, 14.032343)     (под, 265, 12.973056)   \n",
       "15   (ни[зс], 10, 13.964696)     (во?, 137, 12.934762)   \n",
       "16  (во[зс], 122, 13.912318)     (по, 1007, 12.780166)   \n",
       "17     (во?, 137, 13.897653)   (в[зс], 150, 12.745728)   \n",
       "18     (по, 1007, 13.892243)      (вы, 444, 12.721556)   \n",
       "19      (вы, 444, 13.819422)  (во[зс], 122, 12.687821)   \n",
       "20       (с, 652, 13.799043)      (до, 153, 12.660632)   \n",
       "21      (до, 153, 13.600711)       (с, 652, 12.611967)   \n",
       "22     (пред, 58, 13.556049)     (при, 411, 12.325626)   \n",
       "23     (при, 411, 13.474945)     (пред, 58, 12.263913)   \n",
       "24        (у, 465, 13.40166)       (у, 465, 12.205983)   \n",
       "25       (пре, 68, 13.16498)       (пре, 68, 11.70849)   \n",
       "\n",
       "          w2vpos_sov_to_post        w2vpos_pre_to_post  \n",
       "0      (полу, 17, 14.358989)      (недо, 17, 15.99652)  \n",
       "1   (обе[зс], 27, 14.341099)  (обе[зс], 27, 15.439433)  \n",
       "2       (недо, 17, 14.29634)      (полу, 17, 14.99648)  \n",
       "3    (бе[зс], 11, 14.005821)   (бе[зс], 11, 14.944925)  \n",
       "4       (над, 17, 13.587695)    (пере, 356, 14.532836)  \n",
       "5    (ни[зс], 10, 13.301887)      (над, 17, 14.476915)  \n",
       "6     (пере, 356, 13.099909)       (на, 523, 14.34752)  \n",
       "7       (на, 523, 13.035655)      (за, 937, 14.264283)  \n",
       "8    (и[зс], 275, 12.935182)   (и[зс], 275, 14.235817)  \n",
       "9       (за, 937, 12.866041)       (о, 815, 14.175009)  \n",
       "10       (о, 815, 12.842781)     (про, 483, 14.146704)  \n",
       "11  (во[зс], 122, 12.778657)  (ра[зс], 621, 14.136978)  \n",
       "12     (про, 483, 12.731619)     (под, 265, 14.099221)  \n",
       "13  (ра[зс], 621, 12.678238)      (от, 393, 14.048196)  \n",
       "14     (под, 265, 12.588166)   (в[зс], 150, 13.938532)  \n",
       "15   (в[зс], 150, 12.577096)     (во?, 137, 13.893498)  \n",
       "16     (по, 1007, 12.543598)     (по, 1007, 13.857165)  \n",
       "17      (от, 393, 12.529782)  (во[зс], 122, 13.824351)  \n",
       "18     (во?, 137, 12.243727)   (ни[зс], 10, 13.801463)  \n",
       "19      (до, 153, 12.203843)      (вы, 444, 13.781275)  \n",
       "20      (вы, 444, 12.175824)       (с, 652, 13.767753)  \n",
       "21       (с, 652, 12.175532)      (до, 153, 13.571602)  \n",
       "22     (при, 411, 12.062451)     (пред, 58, 13.486955)  \n",
       "23       (у, 465, 11.919077)     (при, 411, 13.464291)  \n",
       "24     (пред, 58, 11.877301)       (у, 465, 13.380662)  \n",
       "25      (пре, 68, 11.588173)      (пре, 68, 13.162589)  "
      ]
     },
     "execution_count": 34,
     "metadata": {},
     "output_type": "execute_result"
    }
   ],
   "source": [
    "pref_ranged_df"
   ]
  },
  {
   "cell_type": "markdown",
   "id": "3eacf948",
   "metadata": {},
   "source": [
    "#### Кластеризация\n",
    "Сначала для последнего периода, потому что для него чище данные. Пробуем иерархическую."
   ]
  },
  {
   "cell_type": "code",
   "execution_count": 35,
   "id": "133dd19b",
   "metadata": {},
   "outputs": [],
   "source": [
    "# np.array векторов всех глаголов с одной приставкой в постсоветском периоде (в модели без частей речи)\n",
    "w2v_lem_for_clust = {pref: [] for pref in prefixes}\n",
    "w2v_pos_for_clust = {pref: [] for pref in prefixes}\n",
    "\n",
    "for verb in pref_dict:\n",
    "    if verb['v_presov'] is not None and verb['v_sov'] is not None and verb['v_postsov'] is not None:\n",
    "        w2v_lem_for_clust[verb['prefix']].append((verb['lemma'], verb['v_postsov']))\n",
    "    if verb['vpos_presov'] is not None and verb['vpos_sov'] is not None and verb['vpos_postsov'] is not None:\n",
    "        w2v_pos_for_clust[verb['prefix']].append((verb['lemma'], verb['vpos_postsov']))"
   ]
  },
  {
   "cell_type": "code",
   "execution_count": 36,
   "id": "6b7f5389",
   "metadata": {},
   "outputs": [],
   "source": [
    "vlem_array = np.array([v[1] for v in w2v_lem_for_clust['при']])"
   ]
  },
  {
   "cell_type": "code",
   "execution_count": 37,
   "id": "fbafebf9",
   "metadata": {},
   "outputs": [
    {
     "data": {
      "image/png": "[encoded data removed]",
      "text/plain": [
       "<Figure size 1440x504 with 1 Axes>"
      ]
     },
     "metadata": {
      "needs_background": "light"
     },
     "output_type": "display_data"
    }
   ],
   "source": [
    "cl = hcluster.linkage(vlem_array)\n",
    "plt.figure(figsize=(20, 7))\n",
    "dn = hcluster.dendrogram(cl)\n",
    "plt.show()"
   ]
  },
  {
   "cell_type": "code",
   "execution_count": 50,
   "id": "fde493f7",
   "metadata": {},
   "outputs": [
    {
     "data": {
      "text/plain": [
       "240"
      ]
     },
     "execution_count": 50,
     "metadata": {},
     "output_type": "execute_result"
    }
   ],
   "source": [
    "clusters = hcluster.fcluster(cl, 1.147)\n",
    "len(set(clusters))"
   ]
  },
  {
   "cell_type": "code",
   "execution_count": 39,
   "id": "e98ac868",
   "metadata": {},
   "outputs": [],
   "source": [
    "clusters_dict = {}\n",
    "vlem_labels = [v[0] for v in w2v_lem_for_clust['при']]\n",
    "\n",
    "for i, cluster in enumerate(clusters):\n",
    "    verb = vlem_labels[i]\n",
    "    vector = vlem_array[i]\n",
    "    labeled_vector = (verb, vector)\n",
    "    if cluster not in clusters_dict:\n",
    "        clusters_dict[cluster] = [labeled_vector]\n",
    "    else:\n",
    "        clusters_dict[cluster].append(labeled_vector)"
   ]
  },
  {
   "cell_type": "code",
   "execution_count": 40,
   "id": "08cca584",
   "metadata": {},
   "outputs": [
    {
     "name": "stdout",
     "output_type": "stream",
     "text": [
      "23\n",
      "['прибавлять', 'прибавляться', 'примешать', 'примешивать', 'примешиваться', 'приплетать', 'притекать']\n",
      "45\n",
      "['прибегать', 'прибывать', 'привозить', 'приволакивать', 'приглашать', 'приглашаться', 'пригонять', 'приезжать', 'прийти', 'прикатить', 'прилетать', 'примчаться', 'приносить', 'приплывать', 'прискакивать', 'присылать', 'притаскивать', 'прихватывать', 'приходить']\n",
      "32\n",
      "['прививать', 'прививаться', 'приживаться']\n",
      "19\n",
      "['привидеться', 'пригрезиться', 'придуматься', 'придумывать', 'придумываться', 'приключаться', 'примерещиться', 'припоминать', 'припоминаться', 'присниться']\n",
      "6\n",
      "['привирать', 'приукрашать', 'приукрашивать', 'прихвастывать']\n",
      "52\n",
      "['привлекать', 'привлекаться', 'применять', 'применяться']\n",
      "31\n",
      "['привносить', 'придавать', 'придаваться', 'приобретать', 'приобретаться']\n",
      "51\n",
      "['привставать', 'примащиваться', 'приподниматься', 'приподымать', 'присаживаться', 'приседать', 'пристраивать', 'пристраиваться', 'притулиться', 'притыкать', 'притыкаться']\n",
      "56\n",
      "['привыкать', 'прилаживаться', 'приноравливаться', 'приспосабливать', 'приспосабливаться', 'приспособлять', 'притерпеться', 'приучать', 'приучаться']\n",
      "68\n",
      "['привязывать', 'приделывать', 'прикреплять', 'прикрепляться']\n",
      "22\n",
      "['приглаживать', 'прилизывать', 'приодеть', 'приодеться', 'прихорашиваться', 'причесывать', 'причесываться']\n",
      "28\n",
      "['приглядывать', 'присматривать', 'приударять']\n",
      "33\n",
      "['приглядываться', 'принюхиваться', 'прислушиваться', 'присматриваться']\n",
      "35\n",
      "['приготавливать', 'приготовлять', 'приготовляться', 'припасать']\n",
      "16\n",
      "['пригрозить', 'припугивать', 'приструнивать']\n",
      "21\n",
      "['придушить', 'приканчивать', 'прирезать', 'пристрелить', 'пришибать']\n",
      "20\n",
      "['прижмурить', 'присвистывать', 'прищуривать', 'прищуриваться', 'прищуриться']\n",
      "59\n",
      "['прикладывать', 'прилагать', 'прилагаться']\n",
      "69\n",
      "['приклеиваться', 'прилипать', 'примерзать', 'присыхать']\n",
      "57\n",
      "['прилегать', 'примыкать', 'присоединять', 'присоединяться', 'приступать']\n",
      "64\n",
      "['прильнуть', 'приникать', 'припадать']\n",
      "25\n",
      "['приминать', 'присыпать', 'притаптывать']\n",
      "12\n",
      "['примолкать', 'приободряться', 'присмиреть', 'притихать', 'притомляться', 'приуныть']\n",
      "54\n",
      "['приотворять', 'приоткрывать', 'приоткрываться']\n",
      "41\n",
      "['приохочивать', 'пристращать', 'пристращаться']\n",
      "43\n",
      "['припираться', 'приползать', 'притаскиваться']\n",
      "48\n",
      "['приписывать', 'приписываться', 'приравнивать', 'приравниваться', 'причислять']\n",
      "27\n",
      "['приплясывать', 'притоптывать', 'притопывать']\n",
      "5\n",
      "['припрыгивать', 'припускать', 'припускаться']\n",
      "208\n",
      "['присоветовать', 'приспичить', 'присушивать']\n"
     ]
    }
   ],
   "source": [
    "for cluster in clusters_dict:\n",
    "    elements = [el[0] for el in clusters_dict[cluster]]\n",
    "    if len(elements) > 2:\n",
    "        print(cluster)\n",
    "        print(elements)"
   ]
  },
  {
   "cell_type": "markdown",
   "id": "be749d68",
   "metadata": {},
   "source": [
    "Просматривается определенная логика, связанная с семантикой корней."
   ]
  }
 ],
 "metadata": {
  "kernelspec": {
   "display_name": "Python 3 (ipykernel)",
   "language": "python",
   "name": "python3"
  },
  "language_info": {
   "codemirror_mode": {
    "name": "ipython",
    "version": 3
   },
   "file_extension": ".py",
   "mimetype": "text/x-python",
   "name": "python",
   "nbconvert_exporter": "python",
   "pygments_lexer": "ipython3",
   "version": "3.9.7"
  }
 },
 "nbformat": 4,
 "nbformat_minor": 5
}
