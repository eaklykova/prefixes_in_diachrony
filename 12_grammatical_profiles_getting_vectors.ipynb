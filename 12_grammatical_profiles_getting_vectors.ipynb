{
 "cells": [
  {
   "cell_type": "markdown",
   "id": "3a133453",
   "metadata": {},
   "source": [
    "# Микродиахроническое исследование русских приставок методами дистрибутивной семантики\n",
    "## Автор: Елизавета Клыкова, БКЛ181\n",
    "### Получение и анализ грамматических профилей глаголов\n",
    "1. Считать подготовленные pickle-файлы с грамматической информацией о токенах\n",
    "2. Составить представления глаголов на основе их токенов"
   ]
  },
  {
   "cell_type": "markdown",
   "id": "7cd19ae2",
   "metadata": {},
   "source": [
    "#### Импорт модулей"
   ]
  },
  {
   "cell_type": "code",
   "execution_count": 1,
   "id": "136602c1",
   "metadata": {},
   "outputs": [],
   "source": [
    "# %load_ext pycodestyle_magic\n",
    "# %pycodestyle_on"
   ]
  },
  {
   "cell_type": "code",
   "execution_count": 2,
   "id": "87500667",
   "metadata": {},
   "outputs": [],
   "source": [
    "import re\n",
    "import pickle\n",
    "import numpy as np\n",
    "import pandas as pd\n",
    "from tqdm.auto import tqdm\n",
    "from collections import Counter\n",
    "from statistics import mean\n",
    "from scipy.spatial.distance import cityblock"
   ]
  },
  {
   "cell_type": "markdown",
   "id": "33f23850",
   "metadata": {},
   "source": [
    "#### Получение списка глаголов"
   ]
  },
  {
   "cell_type": "code",
   "execution_count": 3,
   "id": "9c1926c8",
   "metadata": {},
   "outputs": [
    {
     "data": {
      "text/html": [
       "<div>\n",
       "<style scoped>\n",
       "    .dataframe tbody tr th:only-of-type {\n",
       "        vertical-align: middle;\n",
       "    }\n",
       "\n",
       "    .dataframe tbody tr th {\n",
       "        vertical-align: top;\n",
       "    }\n",
       "\n",
       "    .dataframe thead th {\n",
       "        text-align: right;\n",
       "    }\n",
       "</style>\n",
       "<table border=\"1\" class=\"dataframe\">\n",
       "  <thead>\n",
       "    <tr style=\"text-align: right;\">\n",
       "      <th></th>\n",
       "      <th>prefix</th>\n",
       "      <th>lemma</th>\n",
       "      <th>abs_freq</th>\n",
       "      <th>abs_freq0</th>\n",
       "      <th>abs_freq1</th>\n",
       "      <th>abs_freq2</th>\n",
       "      <th>freq</th>\n",
       "      <th>freq0</th>\n",
       "      <th>freq1</th>\n",
       "      <th>freq2</th>\n",
       "    </tr>\n",
       "  </thead>\n",
       "  <tbody>\n",
       "    <tr>\n",
       "      <th>0</th>\n",
       "      <td>бе[зс]</td>\n",
       "      <td>бездействовать</td>\n",
       "      <td>541</td>\n",
       "      <td>155</td>\n",
       "      <td>255</td>\n",
       "      <td>131</td>\n",
       "      <td>2.194</td>\n",
       "      <td>2.147</td>\n",
       "      <td>2.741</td>\n",
       "      <td>1.609</td>\n",
       "    </tr>\n",
       "    <tr>\n",
       "      <th>1</th>\n",
       "      <td>бе[зс]</td>\n",
       "      <td>бездельничать</td>\n",
       "      <td>308</td>\n",
       "      <td>41</td>\n",
       "      <td>169</td>\n",
       "      <td>98</td>\n",
       "      <td>1.249</td>\n",
       "      <td>0.568</td>\n",
       "      <td>1.817</td>\n",
       "      <td>1.204</td>\n",
       "    </tr>\n",
       "    <tr>\n",
       "      <th>2</th>\n",
       "      <td>бе[зс]</td>\n",
       "      <td>безмолвствовать</td>\n",
       "      <td>726</td>\n",
       "      <td>361</td>\n",
       "      <td>191</td>\n",
       "      <td>174</td>\n",
       "      <td>2.944</td>\n",
       "      <td>5.000</td>\n",
       "      <td>2.053</td>\n",
       "      <td>2.138</td>\n",
       "    </tr>\n",
       "    <tr>\n",
       "      <th>3</th>\n",
       "      <td>бе[зс]</td>\n",
       "      <td>безобразить</td>\n",
       "      <td>149</td>\n",
       "      <td>99</td>\n",
       "      <td>43</td>\n",
       "      <td>7</td>\n",
       "      <td>0.604</td>\n",
       "      <td>1.371</td>\n",
       "      <td>0.462</td>\n",
       "      <td>0.086</td>\n",
       "    </tr>\n",
       "    <tr>\n",
       "      <th>4</th>\n",
       "      <td>бе[зс]</td>\n",
       "      <td>безобразничать</td>\n",
       "      <td>306</td>\n",
       "      <td>110</td>\n",
       "      <td>136</td>\n",
       "      <td>60</td>\n",
       "      <td>1.241</td>\n",
       "      <td>1.524</td>\n",
       "      <td>1.462</td>\n",
       "      <td>0.737</td>\n",
       "    </tr>\n",
       "    <tr>\n",
       "      <th>...</th>\n",
       "      <td>...</td>\n",
       "      <td>...</td>\n",
       "      <td>...</td>\n",
       "      <td>...</td>\n",
       "      <td>...</td>\n",
       "      <td>...</td>\n",
       "      <td>...</td>\n",
       "      <td>...</td>\n",
       "      <td>...</td>\n",
       "      <td>...</td>\n",
       "    </tr>\n",
       "    <tr>\n",
       "      <th>8429</th>\n",
       "      <td>у</td>\n",
       "      <td>ущемляться</td>\n",
       "      <td>62</td>\n",
       "      <td>8</td>\n",
       "      <td>16</td>\n",
       "      <td>38</td>\n",
       "      <td>0.251</td>\n",
       "      <td>0.111</td>\n",
       "      <td>0.172</td>\n",
       "      <td>0.467</td>\n",
       "    </tr>\n",
       "    <tr>\n",
       "      <th>8430</th>\n",
       "      <td>у</td>\n",
       "      <td>ущипывать</td>\n",
       "      <td>510</td>\n",
       "      <td>147</td>\n",
       "      <td>222</td>\n",
       "      <td>141</td>\n",
       "      <td>2.068</td>\n",
       "      <td>2.036</td>\n",
       "      <td>2.386</td>\n",
       "      <td>1.732</td>\n",
       "    </tr>\n",
       "    <tr>\n",
       "      <th>8431</th>\n",
       "      <td>у</td>\n",
       "      <td>уязвлять</td>\n",
       "      <td>1305</td>\n",
       "      <td>606</td>\n",
       "      <td>411</td>\n",
       "      <td>288</td>\n",
       "      <td>5.291</td>\n",
       "      <td>8.393</td>\n",
       "      <td>4.418</td>\n",
       "      <td>3.538</td>\n",
       "    </tr>\n",
       "    <tr>\n",
       "      <th>8432</th>\n",
       "      <td>у</td>\n",
       "      <td>уяснять</td>\n",
       "      <td>1803</td>\n",
       "      <td>677</td>\n",
       "      <td>740</td>\n",
       "      <td>386</td>\n",
       "      <td>7.311</td>\n",
       "      <td>9.377</td>\n",
       "      <td>7.954</td>\n",
       "      <td>4.742</td>\n",
       "    </tr>\n",
       "    <tr>\n",
       "      <th>8433</th>\n",
       "      <td>у</td>\n",
       "      <td>уясняться</td>\n",
       "      <td>206</td>\n",
       "      <td>108</td>\n",
       "      <td>87</td>\n",
       "      <td>11</td>\n",
       "      <td>0.835</td>\n",
       "      <td>1.496</td>\n",
       "      <td>0.935</td>\n",
       "      <td>0.135</td>\n",
       "    </tr>\n",
       "  </tbody>\n",
       "</table>\n",
       "<p>8434 rows × 10 columns</p>\n",
       "</div>"
      ],
      "text/plain": [
       "      prefix            lemma  abs_freq  abs_freq0  abs_freq1  abs_freq2  \\\n",
       "0     бе[зс]   бездействовать       541        155        255        131   \n",
       "1     бе[зс]    бездельничать       308         41        169         98   \n",
       "2     бе[зс]  безмолвствовать       726        361        191        174   \n",
       "3     бе[зс]      безобразить       149         99         43          7   \n",
       "4     бе[зс]   безобразничать       306        110        136         60   \n",
       "...      ...              ...       ...        ...        ...        ...   \n",
       "8429       у       ущемляться        62          8         16         38   \n",
       "8430       у        ущипывать       510        147        222        141   \n",
       "8431       у         уязвлять      1305        606        411        288   \n",
       "8432       у          уяснять      1803        677        740        386   \n",
       "8433       у        уясняться       206        108         87         11   \n",
       "\n",
       "       freq  freq0  freq1  freq2  \n",
       "0     2.194  2.147  2.741  1.609  \n",
       "1     1.249  0.568  1.817  1.204  \n",
       "2     2.944  5.000  2.053  2.138  \n",
       "3     0.604  1.371  0.462  0.086  \n",
       "4     1.241  1.524  1.462  0.737  \n",
       "...     ...    ...    ...    ...  \n",
       "8429  0.251  0.111  0.172  0.467  \n",
       "8430  2.068  2.036  2.386  1.732  \n",
       "8431  5.291  8.393  4.418  3.538  \n",
       "8432  7.311  9.377  7.954  4.742  \n",
       "8433  0.835  1.496  0.935  0.135  \n",
       "\n",
       "[8434 rows x 10 columns]"
      ]
     },
     "execution_count": 3,
     "metadata": {},
     "output_type": "execute_result"
    }
   ],
   "source": [
    "pref_df = pd.read_csv('prefixes_and_lemmas_dropna.tsv', sep='\\t')\n",
    "pref_df"
   ]
  },
  {
   "cell_type": "code",
   "execution_count": 4,
   "id": "3426df6c",
   "metadata": {},
   "outputs": [],
   "source": [
    "# list of dicts\n",
    "pref_dict = pref_df.to_dict(orient='records')"
   ]
  },
  {
   "cell_type": "code",
   "execution_count": 5,
   "id": "63411b9a",
   "metadata": {},
   "outputs": [],
   "source": [
    "verbs_to_search = sorted(set([v['lemma'] for v in pref_dict]))"
   ]
  },
  {
   "cell_type": "markdown",
   "id": "296f82bd",
   "metadata": {},
   "source": [
    "#### Получение грамматических профилей\n",
    "Открываем ранее полученные файлы:"
   ]
  },
  {
   "cell_type": "code",
   "execution_count": 6,
   "id": "d47af05f",
   "metadata": {},
   "outputs": [],
   "source": [
    "with open('presov_verb_dict.pickle', 'rb') as f:\n",
    "    presov_verb_dict = pickle.load(f)"
   ]
  },
  {
   "cell_type": "code",
   "execution_count": 7,
   "id": "81769dd8",
   "metadata": {},
   "outputs": [],
   "source": [
    "with open('sov_verb_dict.pickle', 'rb') as f:\n",
    "    sov_verb_dict = pickle.load(f)"
   ]
  },
  {
   "cell_type": "code",
   "execution_count": 8,
   "id": "b3b1b7f1",
   "metadata": {},
   "outputs": [],
   "source": [
    "with open('postsov_verb_dict.pickle', 'rb') as f:\n",
    "    postsov_verb_dict = pickle.load(f)"
   ]
  },
  {
   "cell_type": "markdown",
   "id": "93e827cc",
   "metadata": {},
   "source": [
    "(Giulianelli et al. 2022):\n",
    "- Tense : {Past 42, Pres 51}\n",
    "- VerbForm : {Part 68, Fin 25, Inf 9}\n",
    "- Mood : {Ind 25}\n",
    "- Voice : {Pass 17}\n",
    "\n",
    "Для нашего датасета:\n",
    "- tense: pres, inpr, past\n",
    "- verbform: ger, part, inf, fin\n",
    "- mood: ind, imp\n",
    "- number: sg, pl\n",
    "- person: 1p, 2p, 3p\n",
    "- gender: m, f, n\n",
    "- voice: act, pass\n",
    "\n",
    "Другое:\n",
    "- вид: perf, imperf\n",
    "- переходность: trans, intrans\n",
    "- падеж: есть только у причастий\n",
    "- форма: краткая/полная -- есть только у причастий\n",
    "- одушевленность: вообще что-то странное"
   ]
  },
  {
   "cell_type": "code",
   "execution_count": 9,
   "id": "c13d4497",
   "metadata": {},
   "outputs": [],
   "source": [
    "# full = {'tense': {'непрош': 0, 'прош': 0},\n",
    "#         'vform': {'прич': 0, 'деепр': 0, 'инф': 0, 'фин': 0},\n",
    "#         'mood': {'пов': 0, 'инд': 0},\n",
    "#         'numb': {'ед': 0, 'мн': 0},\n",
    "#         'pers': {'1-л': 0, '2-л': 0, '3-л': 0},\n",
    "#         'gend': {'муж': 0, 'жен': 0, 'сред': 0},\n",
    "#         'voice': {'действ': 0, 'страд': 0}\n",
    "#         }"
   ]
  },
  {
   "cell_type": "code",
   "execution_count": 10,
   "id": "eaecde8b",
   "metadata": {},
   "outputs": [],
   "source": [
    "# presov_gram_dict = {}\n",
    "# gram_list = set(['непрош', 'прош', 'прич', 'деепр', 'инф', 'фин', 'пов', 'изъяв', 'ед', 'мн', '1-л', '2-л', '3-л', 'муж', 'жен', 'сред', 'действ', 'страд'])\n",
    "# # grams_to_ignore = set(['полн', 'кр', 'им', 'вин', 'дат', 'твор', 'пр', 'од', 'неод'])\n",
    "\n",
    "# for verb in tqdm(presov_verb_dict):\n",
    "#     presov_gram_dict[verb] = {'непрош': 0, 'прош': 0,\n",
    "#                               'прич': 0, 'деепр': 0, 'инф': 0, 'фин': 0,\n",
    "#                               'пов': 0, 'изъяв': 0,\n",
    "#                               'ед': 0, 'мн': 0,\n",
    "#                               '1-л': 0, '2-л': 0, '3-л': 0,\n",
    "#                               'муж': 0, 'жен': 0, 'сред': 0,\n",
    "#                               'действ': 0, 'страд': 0}\n",
    "#     for token in presov_verb_dict[verb]:\n",
    "#         gram_info = re.sub('^V[=,]', '', token['gram'])\n",
    "#         # убрать одушевленность\n",
    "#         gram_info = re.sub('сов|несов|нп|пе|устар|обсц|разг|полн|кр|им|вин|род|дат|твор|од|неод', '', gram_info)\n",
    "#         gram_info = re.sub(',+', ',', gram_info).strip('(,=').split(',')\n",
    "#         for gram in gram_info:\n",
    "#             if gram in gram_list:\n",
    "#                 presov_gram_dict[verb][gram] += 1\n",
    "#         # не нужно ли это убрать?\n",
    "#         if 'прич' not in gram_info and 'деепр' not in gram_info and 'инф' not in gram_info:\n",
    "#             presov_gram_dict[verb]['фин'] += 1"
   ]
  },
  {
   "cell_type": "code",
   "execution_count": 11,
   "id": "c9f55c74",
   "metadata": {},
   "outputs": [],
   "source": [
    "def get_gram_profiles(verb_dict, all_grams=set()):\n",
    "\n",
    "    gram_dict = {}\n",
    "\n",
    "    for verb in tqdm(verb_dict):\n",
    "        gram_list = []\n",
    "\n",
    "        for token in verb_dict[verb]:\n",
    "            gram_info = re.sub('^V[=,]', '', token['gram'])\n",
    "            gram_info = re.sub('сов|несов|нп|пе|устар|обсц|разг|полн|кр|им|вин|род|дат|твор|од|неод',\n",
    "                               '', gram_info)\n",
    "            gram_info = re.sub(',+', ',', gram_info).strip('(,=').split(',')\n",
    "            gram_info = sorted(set([gram for gram in gram_info if gram != 'пр']))\n",
    "            gram = '_'.join(gram_info)\n",
    "            gram_list.append(gram)\n",
    "            all_grams.add(gram)\n",
    "\n",
    "        gram_counter = list(Counter(gram_list).items())\n",
    "\n",
    "        # нормализация\n",
    "        tok_num = len(verb_dict[verb])\n",
    "        for i, gram in enumerate(gram_counter):\n",
    "            norm_gram = gram[1] / tok_num\n",
    "            gram_counter[i] = (gram[0], norm_gram)\n",
    "\n",
    "        # сохраняем грамматический профиль глагола\n",
    "        gram_dict[verb] = gram_counter\n",
    "\n",
    "    return gram_dict, all_grams"
   ]
  },
  {
   "cell_type": "code",
   "execution_count": 12,
   "id": "557a18e9",
   "metadata": {},
   "outputs": [
    {
     "data": {
      "application/vnd.jupyter.widget-view+json": {
       "model_id": "d0b9825dca0048acb9aa8ac8466d34f1",
       "version_major": 2,
       "version_minor": 0
      },
      "text/plain": [
       "  0%|          | 0/8434 [00:00<?, ?it/s]"
      ]
     },
     "metadata": {},
     "output_type": "display_data"
    }
   ],
   "source": [
    "presov_gram_dict, all_grams = get_gram_profiles(presov_verb_dict)"
   ]
  },
  {
   "cell_type": "code",
   "execution_count": 13,
   "id": "6f3bd1de",
   "metadata": {},
   "outputs": [
    {
     "data": {
      "text/plain": [
       "[('инф', 0.2601544142329641),\n",
       " ('2-л_ед_пов', 0.12487411883182276),\n",
       " ('2-л_мн_пов', 0.27257468949311847),\n",
       " ('1-л_ед_изъяв_непрош', 0.030211480362537766),\n",
       " ('ед_жен_изъяв_прош', 0.03893924135615979),\n",
       " ('2-л_изъяв_мн_непрош', 0.0433031218529708),\n",
       " ('изъяв_мн_прош', 0.03726082578046324),\n",
       " ('3-л_ед_изъяв_непрош', 0.06411547499160793),\n",
       " ('ед_изъяв_муж_прош', 0.07452165156092648),\n",
       " ('2-л_ед_изъяв_непрош', 0.010406176569318564),\n",
       " ('действ_мн_непрош_прич', 0.0016784155756965425),\n",
       " ('3-л_изъяв_мн_непрош', 0.018798254447801276),\n",
       " ('деепр_непрош', 0.013763007720711649),\n",
       " ('действ_ед_муж_непрош_прич', 0.002014098690835851),\n",
       " ('действ_ед_муж_прич_прош', 0.000671366230278617),\n",
       " ('1-л_изъяв_мн_непрош', 0.0030211480362537764),\n",
       " ('деепр_прош', 0.0003356831151393085),\n",
       " ('действ_ед_жен_прич_прош', 0.000671366230278617),\n",
       " ('действ_мн_прич_прош', 0.0003356831151393085),\n",
       " ('ед_изъяв_прош_сред', 0.0010070493454179255),\n",
       " ('действ_ед_жен_непрош_прич', 0.001342732460557234)]"
      ]
     },
     "execution_count": 13,
     "metadata": {},
     "output_type": "execute_result"
    }
   ],
   "source": [
    "presov_gram_dict['беспокоиться']"
   ]
  },
  {
   "cell_type": "code",
   "execution_count": 14,
   "id": "6e5b9bdf",
   "metadata": {},
   "outputs": [
    {
     "data": {
      "application/vnd.jupyter.widget-view+json": {
       "model_id": "93f46452024c48628f3854fdddf5b8a2",
       "version_major": 2,
       "version_minor": 0
      },
      "text/plain": [
       "  0%|          | 0/8434 [00:00<?, ?it/s]"
      ]
     },
     "metadata": {},
     "output_type": "display_data"
    }
   ],
   "source": [
    "sov_gram_dict, all_grams = get_gram_profiles(sov_verb_dict, all_grams)"
   ]
  },
  {
   "cell_type": "code",
   "execution_count": 15,
   "id": "c73be5dd",
   "metadata": {},
   "outputs": [
    {
     "data": {
      "application/vnd.jupyter.widget-view+json": {
       "model_id": "873b68f07b014848998ed9aee27ee60a",
       "version_major": 2,
       "version_minor": 0
      },
      "text/plain": [
       "  0%|          | 0/8434 [00:00<?, ?it/s]"
      ]
     },
     "metadata": {},
     "output_type": "display_data"
    }
   ],
   "source": [
    "postsov_gram_dict, all_grams = get_gram_profiles(postsov_verb_dict, all_grams)"
   ]
  },
  {
   "cell_type": "markdown",
   "id": "e56a9dd5",
   "metadata": {},
   "source": [
    "#### Получаем векторы глаголов\n",
    "Сначала нужно убедиться, что словарь с каждым профилем содержит все возможные ключи."
   ]
  },
  {
   "cell_type": "code",
   "execution_count": 16,
   "id": "b84cf741",
   "metadata": {},
   "outputs": [],
   "source": [
    "def unify_gram_keys(gram_dict, all_grams):\n",
    "\n",
    "    for verb in gram_dict:\n",
    "        verb_forms = set([form[0] for form in gram_dict[verb]])\n",
    "        missing_grams = all_grams - verb_forms\n",
    "        for gram in missing_grams:\n",
    "            gram_dict[verb].append((gram, 0))\n",
    "        gram_dict[verb] = sorted(gram_dict[verb], key=lambda x: x[0])\n",
    "\n",
    "    return gram_dict"
   ]
  },
  {
   "cell_type": "code",
   "execution_count": 17,
   "id": "1591708b",
   "metadata": {},
   "outputs": [],
   "source": [
    "presov_gram_dict = unify_gram_keys(presov_gram_dict, all_grams)\n",
    "sov_gram_dict = unify_gram_keys(sov_gram_dict, all_grams)\n",
    "postsov_gram_dict = unify_gram_keys(postsov_gram_dict, all_grams)"
   ]
  },
  {
   "cell_type": "markdown",
   "id": "e88a24d5",
   "metadata": {},
   "source": [
    "Теперь переводим словари в векторы."
   ]
  },
  {
   "cell_type": "code",
   "execution_count": 18,
   "id": "d385108a",
   "metadata": {},
   "outputs": [],
   "source": [
    "presov_vect_dict = {verb: np.array([gram[1] for gram in presov_gram_dict[verb]])\n",
    "                    for verb in presov_gram_dict}"
   ]
  },
  {
   "cell_type": "code",
   "execution_count": 19,
   "id": "032a2f48",
   "metadata": {},
   "outputs": [
    {
     "data": {
      "text/plain": [
       "2979"
      ]
     },
     "execution_count": 19,
     "metadata": {},
     "output_type": "execute_result"
    }
   ],
   "source": [
    "len(presov_verb_dict['беспокоиться'])"
   ]
  },
  {
   "cell_type": "code",
   "execution_count": 20,
   "id": "3beb4af9",
   "metadata": {},
   "outputs": [
    {
     "data": {
      "text/plain": [
       "array([0.03021148, 0.00302115, 0.        , 0.01040618, 0.12487412,\n",
       "       0.04330312, 0.27257469, 0.06411547, 0.01879825, 0.01376301,\n",
       "       0.00033568, 0.00134273, 0.00067137, 0.0020141 , 0.00067137,\n",
       "       0.        , 0.        , 0.00167842, 0.00033568, 0.03893924,\n",
       "       0.        , 0.        , 0.07452165, 0.00100705, 0.        ,\n",
       "       0.        , 0.        , 0.        , 0.03726083, 0.        ,\n",
       "       0.        , 0.26015441, 0.        , 0.        ])"
      ]
     },
     "execution_count": 20,
     "metadata": {},
     "output_type": "execute_result"
    }
   ],
   "source": [
    "presov_vect_dict['беспокоиться']"
   ]
  },
  {
   "cell_type": "code",
   "execution_count": 21,
   "id": "506732e7",
   "metadata": {},
   "outputs": [],
   "source": [
    "sov_vect_dict = {verb: np.array([gram[1] for gram in sov_gram_dict[verb]])\n",
    "                 for verb in sov_gram_dict}\n",
    "postsov_vect_dict = {verb: np.array([gram[1] for gram in postsov_gram_dict[verb]])\n",
    "                     for verb in postsov_gram_dict}"
   ]
  },
  {
   "cell_type": "code",
   "execution_count": 22,
   "id": "883b3bdb",
   "metadata": {},
   "outputs": [],
   "source": [
    "for verb in pref_dict:\n",
    "    lemma = verb['lemma']\n",
    "    verb['gram_presov'] = presov_vect_dict[lemma]\n",
    "    verb['gram_sov'] = sov_vect_dict[lemma]\n",
    "    verb['gram_postsov'] = postsov_vect_dict[lemma]"
   ]
  },
  {
   "cell_type": "markdown",
   "id": "44b6c20e",
   "metadata": {},
   "source": [
    "#### Рассчитываем степень изменения между периодами"
   ]
  },
  {
   "cell_type": "code",
   "execution_count": 23,
   "id": "fb62d438",
   "metadata": {},
   "outputs": [
    {
     "data": {
      "application/vnd.jupyter.widget-view+json": {
       "model_id": "999105a4dabc447c82c3f97d6a6b639c",
       "version_major": 2,
       "version_minor": 0
      },
      "text/plain": [
       "  0%|          | 0/8434 [00:00<?, ?it/s]"
      ]
     },
     "metadata": {},
     "output_type": "display_data"
    }
   ],
   "source": [
    "for verb in tqdm(pref_dict):\n",
    "    verb['gram_pre_to_sov'] = round(cityblock(verb['gram_presov'], verb['gram_sov']), 3)\n",
    "    verb['gram_sov_to_post'] = round(cityblock(verb['gram_sov'], verb['gram_postsov']), 3)\n",
    "    verb['gram_pre_to_post'] = round(cityblock(verb['gram_presov'], verb['gram_postsov']), 3)"
   ]
  },
  {
   "cell_type": "markdown",
   "id": "d63277e5",
   "metadata": {},
   "source": [
    "#### Ранжируем по степени изменения в каждом периоде"
   ]
  },
  {
   "cell_type": "code",
   "execution_count": 31,
   "id": "92691000",
   "metadata": {},
   "outputs": [],
   "source": [
    "verbs_change_pre_to_sov = [{'lemma': verb['lemma'],\n",
    "                            'abs_freq0': verb['abs_freq0'],\n",
    "                            'abs_freq1': verb['abs_freq1'],\n",
    "                            'abs_freq2': verb['abs_freq2']}\n",
    "                           for verb in sorted(pref_dict,\n",
    "                                              key=lambda x:x['gram_pre_to_sov'],\n",
    "                                              reverse=True)]\n",
    "verbs_change_sov_to_post = [{'lemma': verb['lemma'],\n",
    "                            'abs_freq0': verb['abs_freq0'],\n",
    "                            'abs_freq1': verb['abs_freq1'],\n",
    "                            'abs_freq2': verb['abs_freq2']}\n",
    "                           for verb in sorted(pref_dict,\n",
    "                                              key=lambda x:x['gram_sov_to_post'],\n",
    "                                              reverse=True)]\n",
    "verbs_change_pre_to_post = [{'lemma': verb['lemma'],\n",
    "                            'abs_freq0': verb['abs_freq0'],\n",
    "                            'abs_freq1': verb['abs_freq1'],\n",
    "                            'abs_freq2': verb['abs_freq2']}\n",
    "                           for verb in sorted(pref_dict,\n",
    "                                              key=lambda x:x['gram_pre_to_post'],\n",
    "                                              reverse=True)]"
   ]
  },
  {
   "cell_type": "code",
   "execution_count": 32,
   "id": "6b29dcc1",
   "metadata": {},
   "outputs": [],
   "source": [
    "verbs_change_pre_to_sov = [verb['lemma'] for verb in verbs_change_pre_to_sov\n",
    "                           if verb['abs_freq0'] > 100 and verb['abs_freq1'] > 100 and verb['abs_freq2'] > 100][0:200]\n",
    "verbs_change_sov_to_post = [verb['lemma'] for verb in verbs_change_sov_to_post\n",
    "                            if verb['abs_freq0'] > 100 and verb['abs_freq1'] > 100 and verb['abs_freq2'] > 100][0:200]\n",
    "verbs_change_pre_to_post = [verb['lemma'] for verb in verbs_change_pre_to_post\n",
    "                            if verb['abs_freq0'] > 100 and verb['abs_freq1'] > 100 and verb['abs_freq2'] > 100][0:200]"
   ]
  },
  {
   "cell_type": "markdown",
   "id": "6c46bc97",
   "metadata": {},
   "source": [
    "#### Выбираем топ-10 наиболее изменившихся глаголов для дальнейшего анализа в ELMo"
   ]
  },
  {
   "cell_type": "code",
   "execution_count": 33,
   "id": "980183d4",
   "metadata": {},
   "outputs": [],
   "source": [
    "verbs_for_elmo = []\n",
    "for verb in verbs_change_pre_to_sov:\n",
    "    if verb in verbs_change_sov_to_post and verb in verbs_change_pre_to_post:\n",
    "        verbs_for_elmo.append(verb)\n",
    "    if len(verbs_for_elmo) == 10:\n",
    "        break"
   ]
  },
  {
   "cell_type": "code",
   "execution_count": 34,
   "id": "54aec006",
   "metadata": {},
   "outputs": [
    {
     "name": "stdout",
     "output_type": "stream",
     "text": [
      "['заметать', 'постановлять', 'изготавливаться', 'наследовать', 'претерпеть', 'взводить', 'засылать', 'дозволять', 'устрашать', 'округлять']\n"
     ]
    }
   ],
   "source": [
    "print(verbs_for_elmo)"
   ]
  },
  {
   "cell_type": "markdown",
   "id": "06628c58",
   "metadata": {},
   "source": [
    "#### Рассчитываем изменения в приставках"
   ]
  },
  {
   "cell_type": "code",
   "execution_count": 29,
   "id": "ec6f55cf",
   "metadata": {},
   "outputs": [],
   "source": [
    "prefixes = sorted(list(set([verb['prefix'] for verb in pref_dict])))"
   ]
  },
  {
   "cell_type": "code",
   "execution_count": 30,
   "id": "901945b7",
   "metadata": {},
   "outputs": [],
   "source": [
    "gram_tok_dict = {prefix: [] for prefix in prefixes}\n",
    "\n",
    "for verb in pref_dict:\n",
    "    gram_tok_dict[verb['prefix']].append(verb)"
   ]
  },
  {
   "cell_type": "code",
   "execution_count": 31,
   "id": "c6e5f0c9",
   "metadata": {},
   "outputs": [],
   "source": [
    "for prefix in gram_tok_dict:\n",
    "    verbs = gram_tok_dict[prefix]\n",
    "    pre_to_sov = [(verb['lemma'], verb['gram_pre_to_sov'])\n",
    "                  for verb in sorted(verbs,\n",
    "                                     key=lambda x: x['gram_pre_to_sov'],\n",
    "                                     reverse=True)]\n",
    "    sov_to_post = [(verb['lemma'], verb['gram_sov_to_post'])\n",
    "                   for verb in sorted(verbs,\n",
    "                                      key=lambda x: x['gram_sov_to_post'],\n",
    "                                      reverse=True)]\n",
    "    pre_to_post = [(verb['lemma'], verb['gram_pre_to_post'])\n",
    "                   for verb in sorted(verbs,\n",
    "                                      key=lambda x: x['gram_pre_to_post'],\n",
    "                                      reverse=True)]\n",
    "    gram_tok_dict[prefix] = {'pre_to_sov_mean': round(mean([v[1] for v in pre_to_sov]), 3),\n",
    "                             'sov_to_post_mean': round(mean([v[1] for v in sov_to_post]), 3),\n",
    "                             'pre_to_post_mean': round(mean([v[1] for v in pre_to_post]), 3),\n",
    "                             'pre_to_sov_ranged': pre_to_sov,\n",
    "                             'sov_to_post_ranged': sov_to_post,\n",
    "                             'pre_to_post_ranged': pre_to_post}"
   ]
  },
  {
   "cell_type": "code",
   "execution_count": 32,
   "id": "b8939ad5",
   "metadata": {},
   "outputs": [
    {
     "data": {
      "text/plain": [
       "0.473"
      ]
     },
     "execution_count": 32,
     "metadata": {},
     "output_type": "execute_result"
    }
   ],
   "source": [
    "gram_tok_dict['полу']['sov_to_post_mean']"
   ]
  },
  {
   "cell_type": "markdown",
   "id": "8d64311e",
   "metadata": {},
   "source": [
    "#### Ранжируем приставки по степени изменения"
   ]
  },
  {
   "cell_type": "code",
   "execution_count": 33,
   "id": "00893736",
   "metadata": {},
   "outputs": [],
   "source": [
    "prefs_pre_to_sov_ranged = [(pref,\n",
    "                            len(gram_tok_dict[pref]['pre_to_sov_ranged']),\n",
    "                            gram_tok_dict[pref]['pre_to_sov_mean'])\n",
    "                           for pref in sorted(gram_tok_dict,\n",
    "                                              key=lambda x: gram_tok_dict[x]['pre_to_sov_mean'],\n",
    "                                              reverse=True)]"
   ]
  },
  {
   "cell_type": "code",
   "execution_count": 34,
   "id": "4f29900d",
   "metadata": {},
   "outputs": [],
   "source": [
    "prefs_sov_to_post_ranged = [(pref,\n",
    "                             len(gram_tok_dict[pref]['sov_to_post_ranged']),\n",
    "                             gram_tok_dict[pref]['sov_to_post_mean'])\n",
    "                            for pref in sorted(gram_tok_dict,\n",
    "                                               key=lambda x: gram_tok_dict[x]['sov_to_post_mean'],\n",
    "                                               reverse=True)]"
   ]
  },
  {
   "cell_type": "code",
   "execution_count": 35,
   "id": "9117dc28",
   "metadata": {},
   "outputs": [],
   "source": [
    "prefs_pre_to_post_ranged = [(pref,\n",
    "                             len(gram_tok_dict[pref]['pre_to_post_ranged']),\n",
    "                             gram_tok_dict[pref]['pre_to_post_mean'])\n",
    "                            for pref in sorted(gram_tok_dict,\n",
    "                                               key=lambda x: gram_tok_dict[x]['pre_to_post_mean'],\n",
    "                                               reverse=True)]"
   ]
  },
  {
   "cell_type": "code",
   "execution_count": 36,
   "id": "af8f8491",
   "metadata": {},
   "outputs": [],
   "source": [
    "pref_ranged_df = pd.DataFrame(\n",
    "    {'gram_pre_to_sov': prefs_pre_to_sov_ranged,\n",
    "     'gram_sov_to_post': prefs_sov_to_post_ranged,\n",
    "     'gram_pre_to_post': prefs_pre_to_post_ranged,\n",
    "     })"
   ]
  },
  {
   "cell_type": "code",
   "execution_count": 37,
   "id": "e308e317",
   "metadata": {},
   "outputs": [
    {
     "data": {
      "text/html": [
       "<div>\n",
       "<style scoped>\n",
       "    .dataframe tbody tr th:only-of-type {\n",
       "        vertical-align: middle;\n",
       "    }\n",
       "\n",
       "    .dataframe tbody tr th {\n",
       "        vertical-align: top;\n",
       "    }\n",
       "\n",
       "    .dataframe thead th {\n",
       "        text-align: right;\n",
       "    }\n",
       "</style>\n",
       "<table border=\"1\" class=\"dataframe\">\n",
       "  <thead>\n",
       "    <tr style=\"text-align: right;\">\n",
       "      <th></th>\n",
       "      <th>gram_pre_to_sov</th>\n",
       "      <th>gram_sov_to_post</th>\n",
       "      <th>gram_pre_to_post</th>\n",
       "    </tr>\n",
       "  </thead>\n",
       "  <tbody>\n",
       "    <tr>\n",
       "      <th>0</th>\n",
       "      <td>(недо, 17, 0.757)</td>\n",
       "      <td>(недо, 17, 0.643)</td>\n",
       "      <td>(недо, 17, 0.901)</td>\n",
       "    </tr>\n",
       "    <tr>\n",
       "      <th>1</th>\n",
       "      <td>(обе[зс], 27, 0.621)</td>\n",
       "      <td>(обе[зс], 27, 0.582)</td>\n",
       "      <td>(обе[зс], 27, 0.715)</td>\n",
       "    </tr>\n",
       "    <tr>\n",
       "      <th>2</th>\n",
       "      <td>(над, 17, 0.605)</td>\n",
       "      <td>(бе[зс], 11, 0.574)</td>\n",
       "      <td>(над, 17, 0.689)</td>\n",
       "    </tr>\n",
       "    <tr>\n",
       "      <th>3</th>\n",
       "      <td>(пере, 356, 0.563)</td>\n",
       "      <td>(ни[зс], 10, 0.539)</td>\n",
       "      <td>(на, 523, 0.657)</td>\n",
       "    </tr>\n",
       "    <tr>\n",
       "      <th>4</th>\n",
       "      <td>(на, 523, 0.553)</td>\n",
       "      <td>(над, 17, 0.521)</td>\n",
       "      <td>(ни[зс], 10, 0.657)</td>\n",
       "    </tr>\n",
       "    <tr>\n",
       "      <th>5</th>\n",
       "      <td>(про, 483, 0.544)</td>\n",
       "      <td>(во[зс], 122, 0.506)</td>\n",
       "      <td>(пере, 356, 0.657)</td>\n",
       "    </tr>\n",
       "    <tr>\n",
       "      <th>6</th>\n",
       "      <td>(во?, 137, 0.54)</td>\n",
       "      <td>(пере, 356, 0.502)</td>\n",
       "      <td>(про, 483, 0.638)</td>\n",
       "    </tr>\n",
       "    <tr>\n",
       "      <th>7</th>\n",
       "      <td>(до, 153, 0.538)</td>\n",
       "      <td>(на, 523, 0.49)</td>\n",
       "      <td>(во?, 137, 0.637)</td>\n",
       "    </tr>\n",
       "    <tr>\n",
       "      <th>8</th>\n",
       "      <td>(от, 393, 0.534)</td>\n",
       "      <td>(до, 153, 0.482)</td>\n",
       "      <td>(бе[зс], 11, 0.625)</td>\n",
       "    </tr>\n",
       "    <tr>\n",
       "      <th>9</th>\n",
       "      <td>(вы, 444, 0.525)</td>\n",
       "      <td>(о, 815, 0.479)</td>\n",
       "      <td>(во[зс], 122, 0.625)</td>\n",
       "    </tr>\n",
       "    <tr>\n",
       "      <th>10</th>\n",
       "      <td>(и[зс], 275, 0.52)</td>\n",
       "      <td>(пред, 58, 0.475)</td>\n",
       "      <td>(о, 815, 0.623)</td>\n",
       "    </tr>\n",
       "    <tr>\n",
       "      <th>11</th>\n",
       "      <td>(ни[зс], 10, 0.516)</td>\n",
       "      <td>(и[зс], 275, 0.474)</td>\n",
       "      <td>(под, 265, 0.622)</td>\n",
       "    </tr>\n",
       "    <tr>\n",
       "      <th>12</th>\n",
       "      <td>(под, 265, 0.516)</td>\n",
       "      <td>(полу, 17, 0.473)</td>\n",
       "      <td>(до, 153, 0.621)</td>\n",
       "    </tr>\n",
       "    <tr>\n",
       "      <th>13</th>\n",
       "      <td>(бе[зс], 11, 0.515)</td>\n",
       "      <td>(под, 265, 0.472)</td>\n",
       "      <td>(и[зс], 275, 0.618)</td>\n",
       "    </tr>\n",
       "    <tr>\n",
       "      <th>14</th>\n",
       "      <td>(ра[зс], 621, 0.509)</td>\n",
       "      <td>(во?, 137, 0.471)</td>\n",
       "      <td>(от, 393, 0.608)</td>\n",
       "    </tr>\n",
       "    <tr>\n",
       "      <th>15</th>\n",
       "      <td>(во[зс], 122, 0.505)</td>\n",
       "      <td>(про, 483, 0.47)</td>\n",
       "      <td>(пред, 58, 0.606)</td>\n",
       "    </tr>\n",
       "    <tr>\n",
       "      <th>16</th>\n",
       "      <td>(о, 815, 0.502)</td>\n",
       "      <td>(от, 393, 0.457)</td>\n",
       "      <td>(за, 937, 0.595)</td>\n",
       "    </tr>\n",
       "    <tr>\n",
       "      <th>17</th>\n",
       "      <td>(по, 1007, 0.488)</td>\n",
       "      <td>(вы, 444, 0.446)</td>\n",
       "      <td>(вы, 444, 0.59)</td>\n",
       "    </tr>\n",
       "    <tr>\n",
       "      <th>18</th>\n",
       "      <td>(за, 937, 0.484)</td>\n",
       "      <td>(в[зс], 150, 0.444)</td>\n",
       "      <td>(ра[зс], 621, 0.586)</td>\n",
       "    </tr>\n",
       "    <tr>\n",
       "      <th>19</th>\n",
       "      <td>(в[зс], 150, 0.471)</td>\n",
       "      <td>(за, 937, 0.44)</td>\n",
       "      <td>(по, 1007, 0.583)</td>\n",
       "    </tr>\n",
       "    <tr>\n",
       "      <th>20</th>\n",
       "      <td>(с, 652, 0.469)</td>\n",
       "      <td>(ра[зс], 621, 0.438)</td>\n",
       "      <td>(с, 652, 0.583)</td>\n",
       "    </tr>\n",
       "    <tr>\n",
       "      <th>21</th>\n",
       "      <td>(пред, 58, 0.464)</td>\n",
       "      <td>(по, 1007, 0.435)</td>\n",
       "      <td>(в[зс], 150, 0.579)</td>\n",
       "    </tr>\n",
       "    <tr>\n",
       "      <th>22</th>\n",
       "      <td>(при, 411, 0.456)</td>\n",
       "      <td>(при, 411, 0.429)</td>\n",
       "      <td>(у, 465, 0.567)</td>\n",
       "    </tr>\n",
       "    <tr>\n",
       "      <th>23</th>\n",
       "      <td>(у, 465, 0.454)</td>\n",
       "      <td>(у, 465, 0.426)</td>\n",
       "      <td>(при, 411, 0.555)</td>\n",
       "    </tr>\n",
       "    <tr>\n",
       "      <th>24</th>\n",
       "      <td>(пре, 68, 0.437)</td>\n",
       "      <td>(с, 652, 0.424)</td>\n",
       "      <td>(пре, 68, 0.535)</td>\n",
       "    </tr>\n",
       "    <tr>\n",
       "      <th>25</th>\n",
       "      <td>(полу, 17, 0.407)</td>\n",
       "      <td>(пре, 68, 0.402)</td>\n",
       "      <td>(полу, 17, 0.427)</td>\n",
       "    </tr>\n",
       "  </tbody>\n",
       "</table>\n",
       "</div>"
      ],
      "text/plain": [
       "         gram_pre_to_sov      gram_sov_to_post      gram_pre_to_post\n",
       "0      (недо, 17, 0.757)     (недо, 17, 0.643)     (недо, 17, 0.901)\n",
       "1   (обе[зс], 27, 0.621)  (обе[зс], 27, 0.582)  (обе[зс], 27, 0.715)\n",
       "2       (над, 17, 0.605)   (бе[зс], 11, 0.574)      (над, 17, 0.689)\n",
       "3     (пере, 356, 0.563)   (ни[зс], 10, 0.539)      (на, 523, 0.657)\n",
       "4       (на, 523, 0.553)      (над, 17, 0.521)   (ни[зс], 10, 0.657)\n",
       "5      (про, 483, 0.544)  (во[зс], 122, 0.506)    (пере, 356, 0.657)\n",
       "6       (во?, 137, 0.54)    (пере, 356, 0.502)     (про, 483, 0.638)\n",
       "7       (до, 153, 0.538)       (на, 523, 0.49)     (во?, 137, 0.637)\n",
       "8       (от, 393, 0.534)      (до, 153, 0.482)   (бе[зс], 11, 0.625)\n",
       "9       (вы, 444, 0.525)       (о, 815, 0.479)  (во[зс], 122, 0.625)\n",
       "10    (и[зс], 275, 0.52)     (пред, 58, 0.475)       (о, 815, 0.623)\n",
       "11   (ни[зс], 10, 0.516)   (и[зс], 275, 0.474)     (под, 265, 0.622)\n",
       "12     (под, 265, 0.516)     (полу, 17, 0.473)      (до, 153, 0.621)\n",
       "13   (бе[зс], 11, 0.515)     (под, 265, 0.472)   (и[зс], 275, 0.618)\n",
       "14  (ра[зс], 621, 0.509)     (во?, 137, 0.471)      (от, 393, 0.608)\n",
       "15  (во[зс], 122, 0.505)      (про, 483, 0.47)     (пред, 58, 0.606)\n",
       "16       (о, 815, 0.502)      (от, 393, 0.457)      (за, 937, 0.595)\n",
       "17     (по, 1007, 0.488)      (вы, 444, 0.446)       (вы, 444, 0.59)\n",
       "18      (за, 937, 0.484)   (в[зс], 150, 0.444)  (ра[зс], 621, 0.586)\n",
       "19   (в[зс], 150, 0.471)       (за, 937, 0.44)     (по, 1007, 0.583)\n",
       "20       (с, 652, 0.469)  (ра[зс], 621, 0.438)       (с, 652, 0.583)\n",
       "21     (пред, 58, 0.464)     (по, 1007, 0.435)   (в[зс], 150, 0.579)\n",
       "22     (при, 411, 0.456)     (при, 411, 0.429)       (у, 465, 0.567)\n",
       "23       (у, 465, 0.454)       (у, 465, 0.426)     (при, 411, 0.555)\n",
       "24      (пре, 68, 0.437)       (с, 652, 0.424)      (пре, 68, 0.535)\n",
       "25     (полу, 17, 0.407)      (пре, 68, 0.402)     (полу, 17, 0.427)"
      ]
     },
     "execution_count": 37,
     "metadata": {},
     "output_type": "execute_result"
    }
   ],
   "source": [
    "pref_ranged_df"
   ]
  },
  {
   "cell_type": "code",
   "execution_count": 38,
   "id": "558357d4",
   "metadata": {},
   "outputs": [],
   "source": [
    "ranged_dict = pref_ranged_df.to_dict(orient='records')"
   ]
  },
  {
   "cell_type": "code",
   "execution_count": 39,
   "id": "b04e7342",
   "metadata": {},
   "outputs": [],
   "source": [
    "# приводим к стандартному виду\n",
    "convt = {'бе[зс]': 'без-',\n",
    "         'в[зс]': 'вз-',\n",
    "         'во?': 'в-',\n",
    "         'во[зс]': 'воз-',\n",
    "         'вы': 'вы-',\n",
    "         'до': 'до-',\n",
    "         'за': 'за-',\n",
    "         'и[зс]': 'из-',\n",
    "         'на': 'на-',\n",
    "         'над': 'над-',\n",
    "         'недо': 'недо-',\n",
    "         'ни[зс]': 'низ-',\n",
    "         'о': 'о-',\n",
    "         'обе[зс]': 'обез-',\n",
    "         'от': 'от-',\n",
    "         'пере': 'пере-',\n",
    "         'по': 'по-',\n",
    "         'под': 'под-',\n",
    "         'полу': 'полу-',\n",
    "         'пре': 'пре-',\n",
    "         'пред': 'пред-',\n",
    "         'при': 'при-',\n",
    "         'про': 'про-',\n",
    "         'ра[зс]': 'раз-',\n",
    "         'с': 'с-',\n",
    "         'у': 'у-'}"
   ]
  },
  {
   "cell_type": "code",
   "execution_count": 40,
   "id": "0bcc3030",
   "metadata": {},
   "outputs": [],
   "source": [
    "for row in ranged_dict:\n",
    "    for col in row:\n",
    "        row[col] = convt[row[col][0]]"
   ]
  },
  {
   "cell_type": "code",
   "execution_count": 41,
   "id": "b91df75d",
   "metadata": {},
   "outputs": [
    {
     "data": {
      "text/html": [
       "<div>\n",
       "<style scoped>\n",
       "    .dataframe tbody tr th:only-of-type {\n",
       "        vertical-align: middle;\n",
       "    }\n",
       "\n",
       "    .dataframe tbody tr th {\n",
       "        vertical-align: top;\n",
       "    }\n",
       "\n",
       "    .dataframe thead th {\n",
       "        text-align: right;\n",
       "    }\n",
       "</style>\n",
       "<table border=\"1\" class=\"dataframe\">\n",
       "  <thead>\n",
       "    <tr style=\"text-align: right;\">\n",
       "      <th></th>\n",
       "      <th>gram_pre_to_sov</th>\n",
       "      <th>gram_sov_to_post</th>\n",
       "      <th>gram_pre_to_post</th>\n",
       "    </tr>\n",
       "  </thead>\n",
       "  <tbody>\n",
       "    <tr>\n",
       "      <th>0</th>\n",
       "      <td>недо-</td>\n",
       "      <td>недо-</td>\n",
       "      <td>недо-</td>\n",
       "    </tr>\n",
       "    <tr>\n",
       "      <th>1</th>\n",
       "      <td>обез-</td>\n",
       "      <td>обез-</td>\n",
       "      <td>обез-</td>\n",
       "    </tr>\n",
       "    <tr>\n",
       "      <th>2</th>\n",
       "      <td>над-</td>\n",
       "      <td>без-</td>\n",
       "      <td>над-</td>\n",
       "    </tr>\n",
       "    <tr>\n",
       "      <th>3</th>\n",
       "      <td>пере-</td>\n",
       "      <td>низ-</td>\n",
       "      <td>на-</td>\n",
       "    </tr>\n",
       "    <tr>\n",
       "      <th>4</th>\n",
       "      <td>на-</td>\n",
       "      <td>над-</td>\n",
       "      <td>низ-</td>\n",
       "    </tr>\n",
       "    <tr>\n",
       "      <th>5</th>\n",
       "      <td>про-</td>\n",
       "      <td>воз-</td>\n",
       "      <td>пере-</td>\n",
       "    </tr>\n",
       "    <tr>\n",
       "      <th>6</th>\n",
       "      <td>в-</td>\n",
       "      <td>пере-</td>\n",
       "      <td>про-</td>\n",
       "    </tr>\n",
       "    <tr>\n",
       "      <th>7</th>\n",
       "      <td>до-</td>\n",
       "      <td>на-</td>\n",
       "      <td>в-</td>\n",
       "    </tr>\n",
       "    <tr>\n",
       "      <th>8</th>\n",
       "      <td>от-</td>\n",
       "      <td>до-</td>\n",
       "      <td>без-</td>\n",
       "    </tr>\n",
       "    <tr>\n",
       "      <th>9</th>\n",
       "      <td>вы-</td>\n",
       "      <td>о-</td>\n",
       "      <td>воз-</td>\n",
       "    </tr>\n",
       "    <tr>\n",
       "      <th>10</th>\n",
       "      <td>из-</td>\n",
       "      <td>пред-</td>\n",
       "      <td>о-</td>\n",
       "    </tr>\n",
       "    <tr>\n",
       "      <th>11</th>\n",
       "      <td>низ-</td>\n",
       "      <td>из-</td>\n",
       "      <td>под-</td>\n",
       "    </tr>\n",
       "    <tr>\n",
       "      <th>12</th>\n",
       "      <td>под-</td>\n",
       "      <td>полу-</td>\n",
       "      <td>до-</td>\n",
       "    </tr>\n",
       "    <tr>\n",
       "      <th>13</th>\n",
       "      <td>без-</td>\n",
       "      <td>под-</td>\n",
       "      <td>из-</td>\n",
       "    </tr>\n",
       "    <tr>\n",
       "      <th>14</th>\n",
       "      <td>раз-</td>\n",
       "      <td>в-</td>\n",
       "      <td>от-</td>\n",
       "    </tr>\n",
       "    <tr>\n",
       "      <th>15</th>\n",
       "      <td>воз-</td>\n",
       "      <td>про-</td>\n",
       "      <td>пред-</td>\n",
       "    </tr>\n",
       "    <tr>\n",
       "      <th>16</th>\n",
       "      <td>о-</td>\n",
       "      <td>от-</td>\n",
       "      <td>за-</td>\n",
       "    </tr>\n",
       "    <tr>\n",
       "      <th>17</th>\n",
       "      <td>по-</td>\n",
       "      <td>вы-</td>\n",
       "      <td>вы-</td>\n",
       "    </tr>\n",
       "    <tr>\n",
       "      <th>18</th>\n",
       "      <td>за-</td>\n",
       "      <td>вз-</td>\n",
       "      <td>раз-</td>\n",
       "    </tr>\n",
       "    <tr>\n",
       "      <th>19</th>\n",
       "      <td>вз-</td>\n",
       "      <td>за-</td>\n",
       "      <td>по-</td>\n",
       "    </tr>\n",
       "    <tr>\n",
       "      <th>20</th>\n",
       "      <td>с-</td>\n",
       "      <td>раз-</td>\n",
       "      <td>с-</td>\n",
       "    </tr>\n",
       "    <tr>\n",
       "      <th>21</th>\n",
       "      <td>пред-</td>\n",
       "      <td>по-</td>\n",
       "      <td>вз-</td>\n",
       "    </tr>\n",
       "    <tr>\n",
       "      <th>22</th>\n",
       "      <td>при-</td>\n",
       "      <td>при-</td>\n",
       "      <td>у-</td>\n",
       "    </tr>\n",
       "    <tr>\n",
       "      <th>23</th>\n",
       "      <td>у-</td>\n",
       "      <td>у-</td>\n",
       "      <td>при-</td>\n",
       "    </tr>\n",
       "    <tr>\n",
       "      <th>24</th>\n",
       "      <td>пре-</td>\n",
       "      <td>с-</td>\n",
       "      <td>пре-</td>\n",
       "    </tr>\n",
       "    <tr>\n",
       "      <th>25</th>\n",
       "      <td>полу-</td>\n",
       "      <td>пре-</td>\n",
       "      <td>полу-</td>\n",
       "    </tr>\n",
       "  </tbody>\n",
       "</table>\n",
       "</div>"
      ],
      "text/plain": [
       "   gram_pre_to_sov gram_sov_to_post gram_pre_to_post\n",
       "0            недо-            недо-            недо-\n",
       "1            обез-            обез-            обез-\n",
       "2             над-             без-             над-\n",
       "3            пере-             низ-              на-\n",
       "4              на-             над-             низ-\n",
       "5             про-             воз-            пере-\n",
       "6               в-            пере-             про-\n",
       "7              до-              на-               в-\n",
       "8              от-              до-             без-\n",
       "9              вы-               о-             воз-\n",
       "10             из-            пред-               о-\n",
       "11            низ-              из-             под-\n",
       "12            под-            полу-              до-\n",
       "13            без-             под-              из-\n",
       "14            раз-               в-              от-\n",
       "15            воз-             про-            пред-\n",
       "16              о-              от-              за-\n",
       "17             по-              вы-              вы-\n",
       "18             за-              вз-             раз-\n",
       "19             вз-              за-              по-\n",
       "20              с-             раз-               с-\n",
       "21           пред-              по-              вз-\n",
       "22            при-             при-               у-\n",
       "23              у-               у-             при-\n",
       "24            пре-               с-             пре-\n",
       "25           полу-             пре-            полу-"
      ]
     },
     "execution_count": 41,
     "metadata": {},
     "output_type": "execute_result"
    }
   ],
   "source": [
    "clean_ranged_df = pd.DataFrame(ranged_dict)\n",
    "clean_ranged_df"
   ]
  }
 ],
 "metadata": {
  "kernelspec": {
   "display_name": "Python 3 (ipykernel)",
   "language": "python",
   "name": "python3"
  },
  "language_info": {
   "codemirror_mode": {
    "name": "ipython",
    "version": 3
   },
   "file_extension": ".py",
   "mimetype": "text/x-python",
   "name": "python",
   "nbconvert_exporter": "python",
   "pygments_lexer": "ipython3",
   "version": "3.9.7"
  }
 },
 "nbformat": 4,
 "nbformat_minor": 5
}
