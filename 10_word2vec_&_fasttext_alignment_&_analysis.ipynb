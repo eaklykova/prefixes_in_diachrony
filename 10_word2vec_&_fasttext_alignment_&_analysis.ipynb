{
 "cells": [
  {
   "cell_type": "markdown",
   "id": "3a133453",
   "metadata": {},
   "source": [
    "# Микродиахроническое исследование русских приставок методами дистрибутивной семантики\n",
    "## Автор: Елизавета Клыкова, БКЛ181\n",
    "### Выравнивание моделей, анализ изменений и кластеризация\n",
    "1. Взять код Orthogonal Procrustes alignment у Hamilton et al. (2016)\n",
    "2. Выровнять модели: советский с досоветским, постсоветский с советским\n",
    "3. Повторить для fasttext и для word2vec на леммах + частях речи\n",
    "4. Рассчитать попарное расстояние Манхэттэна для релевантных периодов\n",
    "5. Отранжировать глаголы внутри приставки и приставки относительно друг друга\n",
    "6. Кластеризовать глаголы внутри каждой приставки в разные периоды и посмотреть на изменения"
   ]
  },
  {
   "cell_type": "markdown",
   "id": "7cd19ae2",
   "metadata": {},
   "source": [
    "#### Импорт модулей"
   ]
  },
  {
   "cell_type": "code",
   "execution_count": 1,
   "id": "136602c1",
   "metadata": {},
   "outputs": [],
   "source": [
    "# %load_ext pycodestyle_magic\n",
    "# %pycodestyle_on"
   ]
  },
  {
   "cell_type": "code",
   "execution_count": 2,
   "id": "87500667",
   "metadata": {},
   "outputs": [],
   "source": [
    "import gensim\n",
    "import pickle\n",
    "import numpy as np\n",
    "import pandas as pd\n",
    "from tqdm.auto import tqdm\n",
    "from statistics import mean\n",
    "import scipy.cluster.hierarchy as hcluster\n",
    "from sklearn.cluster import AffinityPropagation\n",
    "import matplotlib.pyplot as plt\n",
    "from scipy.spatial.distance import cityblock\n",
    "from gensim.models.fasttext import load_facebook_model\n",
    "\n",
    "import warnings\n",
    "warnings.filterwarnings('ignore')"
   ]
  },
  {
   "cell_type": "markdown",
   "id": "a109c7fc",
   "metadata": {},
   "source": [
    "#### Загрузка моделей"
   ]
  },
  {
   "cell_type": "code",
   "execution_count": 3,
   "id": "ce6c4bc9",
   "metadata": {},
   "outputs": [],
   "source": [
    "def load_word2vec_model(file_with_model):\n",
    "    model = gensim.models.KeyedVectors.load_word2vec_format(file_with_model,\n",
    "                                                            binary=True)\n",
    "    print('Размер словаря:', len(model.wv.vocab))\n",
    "    return model"
   ]
  },
  {
   "cell_type": "markdown",
   "id": "60ef6fa2",
   "metadata": {},
   "source": [
    "#### Word2vec (леммы)"
   ]
  },
  {
   "cell_type": "code",
   "execution_count": 4,
   "id": "b120d797",
   "metadata": {},
   "outputs": [
    {
     "name": "stdout",
     "output_type": "stream",
     "text": [
      "Размер словаря: 127656\n"
     ]
    }
   ],
   "source": [
    "wv_presov = load_word2vec_model('word2vec/word2vec_presov_lemmas.bin')"
   ]
  },
  {
   "cell_type": "code",
   "execution_count": 5,
   "id": "866bb064",
   "metadata": {},
   "outputs": [
    {
     "name": "stdout",
     "output_type": "stream",
     "text": [
      "Размер словаря: 151890\n"
     ]
    }
   ],
   "source": [
    "wv_sov = load_word2vec_model('word2vec/word2vec_sov_lemmas.bin')"
   ]
  },
  {
   "cell_type": "code",
   "execution_count": 6,
   "id": "5fa5bc48",
   "metadata": {},
   "outputs": [
    {
     "name": "stdout",
     "output_type": "stream",
     "text": [
      "Размер словаря: 149617\n"
     ]
    }
   ],
   "source": [
    "wv_postsov = load_word2vec_model('word2vec/word2vec_postsov_lemmas.bin')"
   ]
  },
  {
   "cell_type": "markdown",
   "id": "0fcbb015",
   "metadata": {},
   "source": [
    "#### Word2vec (леммы + части речи)"
   ]
  },
  {
   "cell_type": "code",
   "execution_count": 7,
   "id": "9f84a737",
   "metadata": {},
   "outputs": [
    {
     "name": "stdout",
     "output_type": "stream",
     "text": [
      "Размер словаря: 123804\n"
     ]
    }
   ],
   "source": [
    "wv_pos_presov = load_word2vec_model('word2vec/word2vec_presov_lemmas_pos.bin')"
   ]
  },
  {
   "cell_type": "code",
   "execution_count": 8,
   "id": "5af3a953",
   "metadata": {},
   "outputs": [
    {
     "name": "stdout",
     "output_type": "stream",
     "text": [
      "Размер словаря: 147146\n"
     ]
    }
   ],
   "source": [
    "wv_pos_sov = load_word2vec_model('word2vec/word2vec_sov_lemmas_pos.bin')"
   ]
  },
  {
   "cell_type": "code",
   "execution_count": 9,
   "id": "1a01070c",
   "metadata": {},
   "outputs": [
    {
     "name": "stdout",
     "output_type": "stream",
     "text": [
      "Размер словаря: 144650\n"
     ]
    }
   ],
   "source": [
    "wv_pos_postsov = load_word2vec_model('word2vec/word2vec_postsov_lemmas_pos.bin')"
   ]
  },
  {
   "cell_type": "markdown",
   "id": "e2f15528",
   "metadata": {},
   "source": [
    "#### FastText"
   ]
  },
  {
   "cell_type": "code",
   "execution_count": 10,
   "id": "8e8f5e01",
   "metadata": {},
   "outputs": [
    {
     "name": "stdout",
     "output_type": "stream",
     "text": [
      "Размер словаря: 127657\n"
     ]
    }
   ],
   "source": [
    "ft_presov = load_facebook_model('fasttext/fasttext_presov_lemmas.bin')\n",
    "ft_presov.init_sims(replace=True)\n",
    "print('Размер словаря:', len(ft_presov.wv.vocab))"
   ]
  },
  {
   "cell_type": "code",
   "execution_count": 11,
   "id": "d9a5738e",
   "metadata": {},
   "outputs": [
    {
     "name": "stdout",
     "output_type": "stream",
     "text": [
      "Размер словаря: 151891\n"
     ]
    }
   ],
   "source": [
    "ft_sov = load_facebook_model('fasttext/fasttext_sov_lemmas.bin')\n",
    "ft_sov.init_sims(replace=True)\n",
    "print('Размер словаря:', len(ft_sov.wv.vocab))"
   ]
  },
  {
   "cell_type": "code",
   "execution_count": 12,
   "id": "763a724e",
   "metadata": {},
   "outputs": [
    {
     "name": "stdout",
     "output_type": "stream",
     "text": [
      "Размер словаря: 149618\n"
     ]
    }
   ],
   "source": [
    "ft_postsov = load_facebook_model('fasttext/fasttext_postsov_lemmas.bin')\n",
    "ft_postsov.init_sims(replace=True)\n",
    "print('Размер словаря:', len(ft_postsov.wv.vocab))"
   ]
  },
  {
   "cell_type": "markdown",
   "id": "a2fd5edd",
   "metadata": {},
   "source": [
    "#### Выравнивание: Orthogonal Procrustes alignment, (Hamilton et al. 2016)\n",
    "Код взят [отсюда](https://gist.github.com/zhicongchen/9e23d5c3f1e5b1293b16133485cd17d8)."
   ]
  },
  {
   "cell_type": "code",
   "execution_count": 13,
   "id": "94104438",
   "metadata": {},
   "outputs": [],
   "source": [
    "def intersection_align_gensim(m1, m2, words=None):\n",
    "    \"\"\"\n",
    "    Intersect two gensim word2vec models, m1 and m2.\n",
    "    Only the shared vocabulary between them is kept.\n",
    "    If 'words' is set (as list or set), then the vocabulary is intersected with this list as well.\n",
    "    Indices are re-organized from 0..N in order of descending frequency (=sum of counts from both m1 and m2).\n",
    "    These indices correspond to the new syn0 and syn0norm objects in both gensim models:\n",
    "        -- so that Row 0 of m1.syn0 will be for the same word as Row 0 of m2.syn0\n",
    "        -- you can find the index of any word on the .index2word list: model.index2word.index(word) => 2\n",
    "    The .vocab dictionary is also updated for each model, preserving the count but updating the index.\n",
    "    \"\"\"\n",
    "\n",
    "    # Get the vocab for each model\n",
    "    vocab_m1 = set(m1.wv.vocab.keys())\n",
    "    vocab_m2 = set(m2.wv.vocab.keys())\n",
    "\n",
    "    # Find the common vocabulary\n",
    "    common_vocab = vocab_m1 & vocab_m2\n",
    "    if words:\n",
    "        common_vocab &= set(words)\n",
    "\n",
    "    # If no alignment necessary because vocab is identical...\n",
    "    if not vocab_m1-common_vocab and not vocab_m2-common_vocab:\n",
    "        return (m1, m2)\n",
    "\n",
    "    # Otherwise sort by frequency (summed for both)\n",
    "    common_vocab = list(common_vocab)\n",
    "    common_vocab.sort(key=lambda w: m1.wv.vocab[w].count + m2.wv.vocab[w].count, reverse=True)\n",
    "\n",
    "    # Then for each model...\n",
    "    for m in [m1, m2]:\n",
    "        # Replace old syn0norm array with new one (with common vocab)\n",
    "        indices = [m.wv.vocab[w].index for w in common_vocab]\n",
    "        old_arr = m.wv.syn0norm\n",
    "        new_arr = np.array([old_arr[index] for index in indices])\n",
    "        m.wv.syn0norm = m.wv.syn0 = new_arr\n",
    "\n",
    "        # Replace old vocab dictionary with new one (with common vocab)\n",
    "        # and old index2word with new one\n",
    "        m.wv.index2word = common_vocab\n",
    "        old_vocab = m.wv.vocab\n",
    "        new_vocab = {}\n",
    "        for new_index, word in enumerate(common_vocab):\n",
    "            old_vocab_obj = old_vocab[word]\n",
    "            new_vocab[word] = gensim.models.word2vec.Vocab(index=new_index, count=old_vocab_obj.count)\n",
    "        m.wv.vocab = new_vocab\n",
    "\n",
    "    return (m1, m2)"
   ]
  },
  {
   "cell_type": "code",
   "execution_count": 14,
   "id": "76411993",
   "metadata": {},
   "outputs": [],
   "source": [
    "def smart_procrustes_align_gensim(base_embed, other_embed, words=None):\n",
    "    \"\"\"\n",
    "    Procrustes align two gensim word2vec models (to allow for comparison between same word across models).\n",
    "    Code ported from HistWords <https://github.com/williamleif/histwords> by William Hamilton <wleif@stanford.edu>.\n",
    "        (With help from William. Thank you!)\n",
    "\n",
    "    First, intersect the vocabularies (see `intersection_align_gensim` documentation).\n",
    "    Then do the alignment on the other_embed model.\n",
    "    Replace the other_embed model's syn0 and syn0norm numpy matrices with the aligned version.\n",
    "    Return other_embed.\n",
    "\n",
    "    If `words` is set, intersect the two models' vocabulary with the vocabulary in words (see `intersection_align_gensim` documentation).\n",
    "    \"\"\"\n",
    "\n",
    "    # patch by Richard So [https://twitter.com/richardjeanso] (thanks!) to update this code for new version of gensim\n",
    "    base_embed.init_sims()\n",
    "    other_embed.init_sims()\n",
    "\n",
    "    # make sure vocabulary and indices are aligned\n",
    "    in_base_embed, in_other_embed = intersection_align_gensim(base_embed, other_embed, words=words)\n",
    "\n",
    "    # get the embedding matrices\n",
    "    base_vecs = in_base_embed.wv.syn0norm\n",
    "    other_vecs = in_other_embed.wv.syn0norm\n",
    "\n",
    "    # just a matrix dot product with numpy\n",
    "    m = other_vecs.T.dot(base_vecs)\n",
    "    # SVD method from numpy\n",
    "    u, _, v = np.linalg.svd(m)\n",
    "    # another matrix operation\n",
    "    ortho = u.dot(v)\n",
    "    # Replace original array with modified one\n",
    "    # i.e. multiplying the embedding matrix (syn0norm)by \"ortho\"\n",
    "    other_embed.wv.syn0norm = other_embed.wv.syn0 = (other_embed.wv.syn0norm).dot(ortho)\n",
    "\n",
    "    return other_embed"
   ]
  },
  {
   "cell_type": "markdown",
   "id": "667fb347",
   "metadata": {},
   "source": [
    "Выравниваем word2vec на леммах:"
   ]
  },
  {
   "cell_type": "code",
   "execution_count": 15,
   "id": "3380ba97",
   "metadata": {},
   "outputs": [],
   "source": [
    "wv_sov_to_presov = smart_procrustes_align_gensim(wv_presov, wv_sov)"
   ]
  },
  {
   "cell_type": "code",
   "execution_count": 16,
   "id": "f89ba7ce",
   "metadata": {},
   "outputs": [],
   "source": [
    "wv_postsov_to_sov = smart_procrustes_align_gensim(wv_sov, wv_postsov)"
   ]
  },
  {
   "cell_type": "markdown",
   "id": "575737fb",
   "metadata": {},
   "source": [
    "Выравниваем word2vec с частями речи:"
   ]
  },
  {
   "cell_type": "code",
   "execution_count": 17,
   "id": "d56ac147",
   "metadata": {},
   "outputs": [],
   "source": [
    "wv_pos_sov_to_presov = smart_procrustes_align_gensim(wv_pos_presov, wv_pos_sov)"
   ]
  },
  {
   "cell_type": "code",
   "execution_count": 18,
   "id": "ce3f9636",
   "metadata": {},
   "outputs": [],
   "source": [
    "wv_pos_postsov_to_sov = smart_procrustes_align_gensim(wv_pos_sov, wv_pos_postsov)"
   ]
  },
  {
   "cell_type": "markdown",
   "id": "768f6d44",
   "metadata": {},
   "source": [
    "Выравниваем fastText-модели:"
   ]
  },
  {
   "cell_type": "code",
   "execution_count": 19,
   "id": "265704ed",
   "metadata": {},
   "outputs": [],
   "source": [
    "ft_sov_to_presov = smart_procrustes_align_gensim(ft_presov, ft_sov)"
   ]
  },
  {
   "cell_type": "code",
   "execution_count": 20,
   "id": "cbc3a37f",
   "metadata": {},
   "outputs": [],
   "source": [
    "ft_postsov_to_sov = smart_procrustes_align_gensim(ft_sov, ft_postsov)"
   ]
  },
  {
   "cell_type": "markdown",
   "id": "1d4f3d0e",
   "metadata": {},
   "source": [
    "#### Получение векторов глаголов"
   ]
  },
  {
   "cell_type": "code",
   "execution_count": 21,
   "id": "fcb736c5",
   "metadata": {},
   "outputs": [
    {
     "data": {
      "text/html": [
       "<div>\n",
       "<style scoped>\n",
       "    .dataframe tbody tr th:only-of-type {\n",
       "        vertical-align: middle;\n",
       "    }\n",
       "\n",
       "    .dataframe tbody tr th {\n",
       "        vertical-align: top;\n",
       "    }\n",
       "\n",
       "    .dataframe thead th {\n",
       "        text-align: right;\n",
       "    }\n",
       "</style>\n",
       "<table border=\"1\" class=\"dataframe\">\n",
       "  <thead>\n",
       "    <tr style=\"text-align: right;\">\n",
       "      <th></th>\n",
       "      <th>prefix</th>\n",
       "      <th>lemma</th>\n",
       "      <th>abs_freq</th>\n",
       "      <th>abs_freq0</th>\n",
       "      <th>abs_freq1</th>\n",
       "      <th>abs_freq2</th>\n",
       "      <th>freq</th>\n",
       "      <th>freq0</th>\n",
       "      <th>freq1</th>\n",
       "      <th>freq2</th>\n",
       "    </tr>\n",
       "  </thead>\n",
       "  <tbody>\n",
       "    <tr>\n",
       "      <th>0</th>\n",
       "      <td>бе[зс]</td>\n",
       "      <td>бездействовать</td>\n",
       "      <td>541</td>\n",
       "      <td>155</td>\n",
       "      <td>255</td>\n",
       "      <td>131</td>\n",
       "      <td>2.194</td>\n",
       "      <td>2.147</td>\n",
       "      <td>2.741</td>\n",
       "      <td>1.609</td>\n",
       "    </tr>\n",
       "    <tr>\n",
       "      <th>1</th>\n",
       "      <td>бе[зс]</td>\n",
       "      <td>бездельничать</td>\n",
       "      <td>308</td>\n",
       "      <td>41</td>\n",
       "      <td>169</td>\n",
       "      <td>98</td>\n",
       "      <td>1.249</td>\n",
       "      <td>0.568</td>\n",
       "      <td>1.817</td>\n",
       "      <td>1.204</td>\n",
       "    </tr>\n",
       "    <tr>\n",
       "      <th>2</th>\n",
       "      <td>бе[зс]</td>\n",
       "      <td>безмолвствовать</td>\n",
       "      <td>726</td>\n",
       "      <td>361</td>\n",
       "      <td>191</td>\n",
       "      <td>174</td>\n",
       "      <td>2.944</td>\n",
       "      <td>5.000</td>\n",
       "      <td>2.053</td>\n",
       "      <td>2.138</td>\n",
       "    </tr>\n",
       "    <tr>\n",
       "      <th>3</th>\n",
       "      <td>бе[зс]</td>\n",
       "      <td>безобразить</td>\n",
       "      <td>149</td>\n",
       "      <td>99</td>\n",
       "      <td>43</td>\n",
       "      <td>7</td>\n",
       "      <td>0.604</td>\n",
       "      <td>1.371</td>\n",
       "      <td>0.462</td>\n",
       "      <td>0.086</td>\n",
       "    </tr>\n",
       "    <tr>\n",
       "      <th>4</th>\n",
       "      <td>бе[зс]</td>\n",
       "      <td>безобразничать</td>\n",
       "      <td>306</td>\n",
       "      <td>110</td>\n",
       "      <td>136</td>\n",
       "      <td>60</td>\n",
       "      <td>1.241</td>\n",
       "      <td>1.524</td>\n",
       "      <td>1.462</td>\n",
       "      <td>0.737</td>\n",
       "    </tr>\n",
       "  </tbody>\n",
       "</table>\n",
       "</div>"
      ],
      "text/plain": [
       "   prefix            lemma  abs_freq  abs_freq0  abs_freq1  abs_freq2   freq  \\\n",
       "0  бе[зс]   бездействовать       541        155        255        131  2.194   \n",
       "1  бе[зс]    бездельничать       308         41        169         98  1.249   \n",
       "2  бе[зс]  безмолвствовать       726        361        191        174  2.944   \n",
       "3  бе[зс]      безобразить       149         99         43          7  0.604   \n",
       "4  бе[зс]   безобразничать       306        110        136         60  1.241   \n",
       "\n",
       "   freq0  freq1  freq2  \n",
       "0  2.147  2.741  1.609  \n",
       "1  0.568  1.817  1.204  \n",
       "2  5.000  2.053  2.138  \n",
       "3  1.371  0.462  0.086  \n",
       "4  1.524  1.462  0.737  "
      ]
     },
     "execution_count": 21,
     "metadata": {},
     "output_type": "execute_result"
    }
   ],
   "source": [
    "pref_df = pd.read_csv('prefixes_and_lemmas_freq.tsv', sep='\\t')\n",
    "pref_df.head()"
   ]
  },
  {
   "cell_type": "code",
   "execution_count": 22,
   "id": "517d026a",
   "metadata": {},
   "outputs": [],
   "source": [
    "# list of dicts\n",
    "pref_dict = pref_df.to_dict(orient='records')"
   ]
  },
  {
   "cell_type": "markdown",
   "id": "e74a219a",
   "metadata": {},
   "source": [
    "Нам нужны:\n",
    "- вектор досоветского периода\n",
    "- вектор советского периода, выровненный с досоветским\n",
    "- вектор постсоветского периода, выровненный с советским (и досоветским по определению)\n",
    "- было проверено, что при выравнивании постсоветского с досоветским получаются те же векторы\n",
    "- все то же самое для моделей с частями речи\n",
    "- все то же самое для fastText-моделей"
   ]
  },
  {
   "cell_type": "code",
   "execution_count": 23,
   "id": "76bac74a",
   "metadata": {},
   "outputs": [],
   "source": [
    "for verb in pref_dict:\n",
    "    # word2vec на леммах\n",
    "    lemma = verb['lemma']\n",
    "    verb['wv_presov'] = wv_presov[lemma] if lemma in wv_presov else None\n",
    "    verb['wv_sov'] = wv_sov_to_presov[lemma] if lemma in wv_sov_to_presov else None\n",
    "    verb['wv_postsov'] = wv_postsov_to_sov[lemma] if lemma in wv_postsov_to_sov else None\n",
    "    # word2vec с частями речи\n",
    "    lemma_pos = verb['lemma'] + '_' + 'V'\n",
    "    verb['wvpos_presov'] = wv_pos_presov[lemma_pos] if lemma_pos in wv_pos_presov else None\n",
    "    verb['wvpos_sov'] = wv_pos_sov_to_presov[lemma_pos] if lemma_pos in wv_pos_sov_to_presov else None\n",
    "    verb['wvpos_postsov'] = wv_pos_postsov_to_sov[lemma_pos] if lemma_pos in wv_pos_postsov_to_sov else None\n",
    "    # fasttext\n",
    "    verb['ft_presov'] = ft_presov[lemma] if lemma in ft_presov else None\n",
    "    verb['ft_sov'] = ft_sov_to_presov[lemma] if lemma in ft_sov_to_presov else None\n",
    "    verb['ft_postsov'] = ft_postsov_to_sov[lemma] if lemma in ft_postsov_to_sov else None"
   ]
  },
  {
   "cell_type": "code",
   "execution_count": 24,
   "id": "7d85107d",
   "metadata": {},
   "outputs": [
    {
     "data": {
      "text/html": [
       "<div>\n",
       "<style scoped>\n",
       "    .dataframe tbody tr th:only-of-type {\n",
       "        vertical-align: middle;\n",
       "    }\n",
       "\n",
       "    .dataframe tbody tr th {\n",
       "        vertical-align: top;\n",
       "    }\n",
       "\n",
       "    .dataframe thead th {\n",
       "        text-align: right;\n",
       "    }\n",
       "</style>\n",
       "<table border=\"1\" class=\"dataframe\">\n",
       "  <thead>\n",
       "    <tr style=\"text-align: right;\">\n",
       "      <th></th>\n",
       "      <th>prefix</th>\n",
       "      <th>lemma</th>\n",
       "      <th>abs_freq</th>\n",
       "      <th>abs_freq0</th>\n",
       "      <th>abs_freq1</th>\n",
       "      <th>abs_freq2</th>\n",
       "      <th>freq</th>\n",
       "      <th>freq0</th>\n",
       "      <th>freq1</th>\n",
       "      <th>freq2</th>\n",
       "      <th>wv_presov</th>\n",
       "      <th>wv_sov</th>\n",
       "      <th>wv_postsov</th>\n",
       "      <th>wvpos_presov</th>\n",
       "      <th>wvpos_sov</th>\n",
       "      <th>wvpos_postsov</th>\n",
       "      <th>ft_presov</th>\n",
       "      <th>ft_sov</th>\n",
       "      <th>ft_postsov</th>\n",
       "    </tr>\n",
       "  </thead>\n",
       "  <tbody>\n",
       "    <tr>\n",
       "      <th>0</th>\n",
       "      <td>бе[зс]</td>\n",
       "      <td>бездействовать</td>\n",
       "      <td>541</td>\n",
       "      <td>155</td>\n",
       "      <td>255</td>\n",
       "      <td>131</td>\n",
       "      <td>2.194</td>\n",
       "      <td>2.147</td>\n",
       "      <td>2.741</td>\n",
       "      <td>1.609</td>\n",
       "      <td>[-0.023052273, -0.12562126, -0.0661711, -0.056...</td>\n",
       "      <td>[0.045035847, -0.089103796, -0.104690984, 0.03...</td>\n",
       "      <td>[0.10868745, -0.006713072, -0.121952675, 0.040...</td>\n",
       "      <td>[-0.03860679, 0.017324327, 0.04515939, 0.00860...</td>\n",
       "      <td>[0.013748187, 0.0057130447, 0.11317766, 0.0329...</td>\n",
       "      <td>[-0.075591795, -0.041445807, 0.08768769, -0.04...</td>\n",
       "      <td>[-0.03743155, 0.08501605, 0.06470327, 0.121702...</td>\n",
       "      <td>[-0.056611735, 0.089228176, 0.050963335, 0.117...</td>\n",
       "      <td>[-0.07614583, 0.111062504, 0.10515018, 0.12608...</td>\n",
       "    </tr>\n",
       "    <tr>\n",
       "      <th>1</th>\n",
       "      <td>бе[зс]</td>\n",
       "      <td>бездельничать</td>\n",
       "      <td>308</td>\n",
       "      <td>41</td>\n",
       "      <td>169</td>\n",
       "      <td>98</td>\n",
       "      <td>1.249</td>\n",
       "      <td>0.568</td>\n",
       "      <td>1.817</td>\n",
       "      <td>1.204</td>\n",
       "      <td>[0.086817734, -0.027619349, 0.010952894, -0.07...</td>\n",
       "      <td>[0.07287336, -0.07627704, 0.025137031, 0.08807...</td>\n",
       "      <td>[0.028157884, -0.0708785, -0.0076874625, 0.026...</td>\n",
       "      <td>[0.04126555, -0.021287525, 0.08565935, -0.0361...</td>\n",
       "      <td>[0.07325783, -0.0040860167, 0.026817102, -0.02...</td>\n",
       "      <td>[-0.0110313045, 0.07867826, 0.024997363, -0.06...</td>\n",
       "      <td>[-0.053011004, 0.047406126, 0.13473499, 0.0451...</td>\n",
       "      <td>[-0.026981538, 0.06025122, 0.10029247, 0.02105...</td>\n",
       "      <td>[-0.06522496, 0.078543365, 0.09723295, 0.06298...</td>\n",
       "    </tr>\n",
       "    <tr>\n",
       "      <th>2</th>\n",
       "      <td>бе[зс]</td>\n",
       "      <td>безмолвствовать</td>\n",
       "      <td>726</td>\n",
       "      <td>361</td>\n",
       "      <td>191</td>\n",
       "      <td>174</td>\n",
       "      <td>2.944</td>\n",
       "      <td>5.000</td>\n",
       "      <td>2.053</td>\n",
       "      <td>2.138</td>\n",
       "      <td>[0.032911796, -0.08076292, -0.08197429, -0.090...</td>\n",
       "      <td>[0.13080676, 0.014954596, -0.07196053, 0.01733...</td>\n",
       "      <td>[0.06310802, 0.007184277, -0.022681594, 0.0052...</td>\n",
       "      <td>[-0.075714454, 0.1076868, 0.07268564, -0.02730...</td>\n",
       "      <td>[-0.023441153, -0.019269854, 0.12296256, 0.096...</td>\n",
       "      <td>[0.0146042025, 0.010473826, 0.1419688, 0.00868...</td>\n",
       "      <td>[-0.056494866, 0.10670928, 0.15303405, 0.06594...</td>\n",
       "      <td>[-0.053572807, 0.05914339, 0.14568467, 0.09370...</td>\n",
       "      <td>[-0.05812422, 0.052551158, 0.15714656, 0.07250...</td>\n",
       "    </tr>\n",
       "  </tbody>\n",
       "</table>\n",
       "</div>"
      ],
      "text/plain": [
       "   prefix            lemma  abs_freq  abs_freq0  abs_freq1  abs_freq2   freq  \\\n",
       "0  бе[зс]   бездействовать       541        155        255        131  2.194   \n",
       "1  бе[зс]    бездельничать       308         41        169         98  1.249   \n",
       "2  бе[зс]  безмолвствовать       726        361        191        174  2.944   \n",
       "\n",
       "   freq0  freq1  freq2                                          wv_presov  \\\n",
       "0  2.147  2.741  1.609  [-0.023052273, -0.12562126, -0.0661711, -0.056...   \n",
       "1  0.568  1.817  1.204  [0.086817734, -0.027619349, 0.010952894, -0.07...   \n",
       "2  5.000  2.053  2.138  [0.032911796, -0.08076292, -0.08197429, -0.090...   \n",
       "\n",
       "                                              wv_sov  \\\n",
       "0  [0.045035847, -0.089103796, -0.104690984, 0.03...   \n",
       "1  [0.07287336, -0.07627704, 0.025137031, 0.08807...   \n",
       "2  [0.13080676, 0.014954596, -0.07196053, 0.01733...   \n",
       "\n",
       "                                          wv_postsov  \\\n",
       "0  [0.10868745, -0.006713072, -0.121952675, 0.040...   \n",
       "1  [0.028157884, -0.0708785, -0.0076874625, 0.026...   \n",
       "2  [0.06310802, 0.007184277, -0.022681594, 0.0052...   \n",
       "\n",
       "                                        wvpos_presov  \\\n",
       "0  [-0.03860679, 0.017324327, 0.04515939, 0.00860...   \n",
       "1  [0.04126555, -0.021287525, 0.08565935, -0.0361...   \n",
       "2  [-0.075714454, 0.1076868, 0.07268564, -0.02730...   \n",
       "\n",
       "                                           wvpos_sov  \\\n",
       "0  [0.013748187, 0.0057130447, 0.11317766, 0.0329...   \n",
       "1  [0.07325783, -0.0040860167, 0.026817102, -0.02...   \n",
       "2  [-0.023441153, -0.019269854, 0.12296256, 0.096...   \n",
       "\n",
       "                                       wvpos_postsov  \\\n",
       "0  [-0.075591795, -0.041445807, 0.08768769, -0.04...   \n",
       "1  [-0.0110313045, 0.07867826, 0.024997363, -0.06...   \n",
       "2  [0.0146042025, 0.010473826, 0.1419688, 0.00868...   \n",
       "\n",
       "                                           ft_presov  \\\n",
       "0  [-0.03743155, 0.08501605, 0.06470327, 0.121702...   \n",
       "1  [-0.053011004, 0.047406126, 0.13473499, 0.0451...   \n",
       "2  [-0.056494866, 0.10670928, 0.15303405, 0.06594...   \n",
       "\n",
       "                                              ft_sov  \\\n",
       "0  [-0.056611735, 0.089228176, 0.050963335, 0.117...   \n",
       "1  [-0.026981538, 0.06025122, 0.10029247, 0.02105...   \n",
       "2  [-0.053572807, 0.05914339, 0.14568467, 0.09370...   \n",
       "\n",
       "                                          ft_postsov  \n",
       "0  [-0.07614583, 0.111062504, 0.10515018, 0.12608...  \n",
       "1  [-0.06522496, 0.078543365, 0.09723295, 0.06298...  \n",
       "2  [-0.05812422, 0.052551158, 0.15714656, 0.07250...  "
      ]
     },
     "execution_count": 24,
     "metadata": {},
     "output_type": "execute_result"
    }
   ],
   "source": [
    "vector_df = pd.DataFrame(pref_dict)\n",
    "vector_df.head(3)"
   ]
  },
  {
   "cell_type": "code",
   "execution_count": 25,
   "id": "9fae8a99",
   "metadata": {},
   "outputs": [
    {
     "data": {
      "text/plain": [
       "11"
      ]
     },
     "execution_count": 25,
     "metadata": {},
     "output_type": "execute_result"
    }
   ],
   "source": [
    "vector_df.shape[0] - vector_df.dropna().shape[0]"
   ]
  },
  {
   "cell_type": "code",
   "execution_count": 26,
   "id": "0714b282",
   "metadata": {},
   "outputs": [],
   "source": [
    "vector_df.dropna(inplace=True)\n",
    "pref_dict = vector_df.to_dict(orient='records')"
   ]
  },
  {
   "cell_type": "code",
   "execution_count": null,
   "id": "7c0ca2e8",
   "metadata": {},
   "outputs": [],
   "source": [
    "vector_df.drop(columns=['wv_presov', 'wv_sov', 'wv_postsov',\n",
    "                        'wvpos_presov', 'wvpos_sov', 'wvpos_postsov',\n",
    "                        'ft_presov', 'ft_sov', 'ft_postsov'],\n",
    "               inplace=True)"
   ]
  },
  {
   "cell_type": "code",
   "execution_count": null,
   "id": "eae1fd73",
   "metadata": {},
   "outputs": [],
   "source": [
    "vector_df.to_csv('prefixes_and_lemmas_dropna.tsv', sep='\\t', index=False)"
   ]
  },
  {
   "cell_type": "markdown",
   "id": "2daf098a",
   "metadata": {},
   "source": [
    "#### Выявление изменений с помощью расстояния Манхеттена\n",
    "Расстояние Манхэттэна: Σ|Ai – Bi|. Для каждой леммы считаем расстояние между советским и досоветским, постсоветским и советским, постсоветским и досоветским (+ то же самое для модели с частями речи и для fastText)."
   ]
  },
  {
   "cell_type": "code",
   "execution_count": 27,
   "id": "9df7b2ee",
   "metadata": {},
   "outputs": [
    {
     "data": {
      "application/vnd.jupyter.widget-view+json": {
       "model_id": "f407ea6318f642c289f80af9c924fe2b",
       "version_major": 2,
       "version_minor": 0
      },
      "text/plain": [
       "  0%|          | 0/8434 [00:00<?, ?it/s]"
      ]
     },
     "metadata": {},
     "output_type": "display_data"
    }
   ],
   "source": [
    "for verb in tqdm(pref_dict):\n",
    "    # word2vec на леммах\n",
    "    verb['wv_pre_to_sov'] = round(cityblock(verb['wv_presov'], verb['wv_sov']), 3)\n",
    "    verb['wv_sov_to_post'] = round(cityblock(verb['wv_sov'], verb['wv_postsov']), 3)\n",
    "    verb['wv_pre_to_post'] = round(cityblock(verb['wv_presov'], verb['wv_postsov']), 3)\n",
    "    # word2vec с частями речи\n",
    "    verb['wvpos_pre_to_sov'] = round(cityblock(verb['wvpos_presov'], verb['wvpos_sov']), 3)\n",
    "    verb['wvpos_sov_to_post'] = round(cityblock(verb['wvpos_sov'], verb['wvpos_postsov']), 3)\n",
    "    verb['wvpos_pre_to_post'] = round(cityblock(verb['wvpos_presov'], verb['wvpos_postsov']), 3)\n",
    "    # fasttext\n",
    "    verb['ft_pre_to_sov'] = round(cityblock(verb['ft_presov'], verb['ft_sov']), 3)\n",
    "    verb['ft_sov_to_post'] = round(cityblock(verb['ft_sov'], verb['ft_postsov']), 3)\n",
    "    verb['ft_pre_to_post'] = round(cityblock(verb['ft_presov'], verb['ft_postsov']), 3)"
   ]
  },
  {
   "cell_type": "markdown",
   "id": "417f5ff9",
   "metadata": {},
   "source": [
    "Внутри каждой приставки и каждого периода отранжируем приставки по степени изменения."
   ]
  },
  {
   "cell_type": "code",
   "execution_count": 28,
   "id": "4fa0c7f9",
   "metadata": {},
   "outputs": [],
   "source": [
    "prefixes = sorted(list(set([verb['prefix'] for verb in pref_dict])))"
   ]
  },
  {
   "cell_type": "code",
   "execution_count": 29,
   "id": "9db4c9e7",
   "metadata": {},
   "outputs": [],
   "source": [
    "w2v_lemma_dict = {}\n",
    "w2v_pos_dict = {}\n",
    "ft_lemma_dict = {}\n",
    "\n",
    "for prefix in prefixes:\n",
    "    w2v_lemma_dict[prefix] = []\n",
    "    w2v_pos_dict[prefix] = []\n",
    "    ft_lemma_dict[prefix] = []\n",
    "\n",
    "for verb in pref_dict:\n",
    "    w2v_lemma_dict[verb['prefix']].append(verb)\n",
    "    w2v_pos_dict[verb['prefix']].append(verb)\n",
    "    ft_lemma_dict[verb['prefix']].append(verb)"
   ]
  },
  {
   "cell_type": "markdown",
   "id": "93574806",
   "metadata": {},
   "source": [
    "#### Считаем для базовых моделей"
   ]
  },
  {
   "cell_type": "code",
   "execution_count": 30,
   "id": "e44e12e2",
   "metadata": {},
   "outputs": [],
   "source": [
    "for prefix in w2v_lemma_dict:\n",
    "    verbs = w2v_lemma_dict[prefix]\n",
    "    pre_to_sov = [(verb['lemma'], verb['wv_pre_to_sov'])\n",
    "                  for verb in sorted(verbs,\n",
    "                                     key=lambda x: x['wv_pre_to_sov'],\n",
    "                                     reverse=True)]\n",
    "    sov_to_post = [(verb['lemma'], verb['wv_sov_to_post'])\n",
    "                   for verb in sorted(verbs,\n",
    "                                      key=lambda x: x['wv_sov_to_post'],\n",
    "                                      reverse=True)]\n",
    "    pre_to_post = [(verb['lemma'], verb['wv_pre_to_post'])\n",
    "                   for verb in sorted(verbs,\n",
    "                                      key=lambda x: x['wv_pre_to_post'],\n",
    "                                      reverse=True)]\n",
    "    w2v_lemma_dict[prefix] = {'pre_to_sov_mean': round(mean([v[1] for v in pre_to_sov]), 3),\n",
    "                              'sov_to_post_mean': round(mean([v[1] for v in sov_to_post]), 3),\n",
    "                              'pre_to_post_mean': round(mean([v[1] for v in pre_to_post]), 3),\n",
    "                              'pre_to_sov_ranged': pre_to_sov,\n",
    "                              'sov_to_post_ranged': sov_to_post,\n",
    "                              'pre_to_post_ranged': pre_to_post}"
   ]
  },
  {
   "cell_type": "code",
   "execution_count": 31,
   "id": "f222d881",
   "metadata": {},
   "outputs": [
    {
     "data": {
      "text/plain": [
       "14.401"
      ]
     },
     "execution_count": 31,
     "metadata": {},
     "output_type": "execute_result"
    }
   ],
   "source": [
    "w2v_lemma_dict['полу']['sov_to_post_mean']"
   ]
  },
  {
   "cell_type": "markdown",
   "id": "c3f2028b",
   "metadata": {},
   "source": [
    "#### Ранжирование приставок по средней степени изменения в период"
   ]
  },
  {
   "cell_type": "code",
   "execution_count": 32,
   "id": "17b7ad7a",
   "metadata": {},
   "outputs": [],
   "source": [
    "prefs_pre_to_sov_ranged = [pref\n",
    "                           for pref in sorted(w2v_lemma_dict,\n",
    "                                              key=lambda x: w2v_lemma_dict[x]['pre_to_sov_mean'],\n",
    "                                              reverse=True)]"
   ]
  },
  {
   "cell_type": "code",
   "execution_count": 33,
   "id": "2a1a4e70",
   "metadata": {},
   "outputs": [],
   "source": [
    "prefs_sov_to_post_ranged = [pref\n",
    "                            for pref in sorted(w2v_lemma_dict,\n",
    "                                               key=lambda x: w2v_lemma_dict[x]['sov_to_post_mean'],\n",
    "                                               reverse=True)]"
   ]
  },
  {
   "cell_type": "code",
   "execution_count": 34,
   "id": "bc52aff6",
   "metadata": {},
   "outputs": [],
   "source": [
    "prefs_pre_to_post_ranged = [pref\n",
    "                            for pref in sorted(w2v_lemma_dict,\n",
    "                                               key=lambda x: w2v_lemma_dict[x]['pre_to_post_mean'],\n",
    "                                               reverse=True)]"
   ]
  },
  {
   "cell_type": "markdown",
   "id": "f25738f5",
   "metadata": {},
   "source": [
    "#### Повторяем все, что выше, для моделей с частями речи"
   ]
  },
  {
   "cell_type": "code",
   "execution_count": 35,
   "id": "53e3644e",
   "metadata": {},
   "outputs": [],
   "source": [
    "for prefix in w2v_pos_dict:\n",
    "    verbs = w2v_pos_dict[prefix]\n",
    "    pre_to_sov = [(verb['lemma'], verb['wvpos_pre_to_sov'])\n",
    "                  for verb in sorted(verbs,\n",
    "                                     key=lambda x: x['wvpos_pre_to_sov'],\n",
    "                                     reverse=True)]\n",
    "    sov_to_post = [(verb['lemma'], verb['wvpos_sov_to_post'])\n",
    "                   for verb in sorted(verbs,\n",
    "                                      key=lambda x: x['wvpos_sov_to_post'],\n",
    "                                      reverse=True)]\n",
    "    pre_to_post = [(verb['lemma'], verb['wvpos_pre_to_post'])\n",
    "                   for verb in sorted(verbs,\n",
    "                                      key=lambda x: x['wvpos_pre_to_post'],\n",
    "                                      reverse=True)]\n",
    "    w2v_pos_dict[prefix] = {'pre_to_sov_mean': round(mean([v[1] for v in pre_to_sov]), 3),\n",
    "                            'sov_to_post_mean': round(mean([v[1] for v in sov_to_post]), 3),\n",
    "                            'pre_to_post_mean': round(mean([v[1] for v in pre_to_post]), 3),\n",
    "                            'pre_to_sov_ranged': pre_to_sov,\n",
    "                            'sov_to_post_ranged': sov_to_post,\n",
    "                            'pre_to_post_ranged': pre_to_post}"
   ]
  },
  {
   "cell_type": "code",
   "execution_count": 36,
   "id": "67ec7766",
   "metadata": {},
   "outputs": [],
   "source": [
    "prefs_pre_to_sov_pos_ranged = [pref\n",
    "                               for pref in sorted(w2v_pos_dict,\n",
    "                                                  key=lambda x: w2v_pos_dict[x]['pre_to_sov_mean'],\n",
    "                                                  reverse=True)]"
   ]
  },
  {
   "cell_type": "code",
   "execution_count": 37,
   "id": "c021e9ec",
   "metadata": {},
   "outputs": [],
   "source": [
    "prefs_sov_to_post_pos_ranged = [pref\n",
    "                                for pref in sorted(w2v_pos_dict,\n",
    "                                                   key=lambda x: w2v_pos_dict[x]['sov_to_post_mean'],\n",
    "                                                   reverse=True)]"
   ]
  },
  {
   "cell_type": "code",
   "execution_count": 38,
   "id": "0836db76",
   "metadata": {},
   "outputs": [],
   "source": [
    "prefs_pre_to_post_pos_ranged = [pref\n",
    "                                for pref in sorted(w2v_pos_dict,\n",
    "                                                   key=lambda x: w2v_pos_dict[x]['pre_to_post_mean'],\n",
    "                                                   reverse=True)]"
   ]
  },
  {
   "cell_type": "markdown",
   "id": "c8abca6b",
   "metadata": {},
   "source": [
    "#### Повторяем для fastText"
   ]
  },
  {
   "cell_type": "code",
   "execution_count": 39,
   "id": "a0c51a8e",
   "metadata": {},
   "outputs": [],
   "source": [
    "for prefix in ft_lemma_dict:\n",
    "    verbs = ft_lemma_dict[prefix]\n",
    "    pre_to_sov = [(verb['lemma'], verb['ft_pre_to_sov'])\n",
    "                  for verb in sorted(verbs,\n",
    "                                     key=lambda x: x['ft_pre_to_sov'],\n",
    "                                     reverse=True)]\n",
    "    sov_to_post = [(verb['lemma'], verb['ft_sov_to_post'])\n",
    "                   for verb in sorted(verbs,\n",
    "                                      key=lambda x: x['ft_sov_to_post'],\n",
    "                                      reverse=True)]\n",
    "    pre_to_post = [(verb['lemma'], verb['ft_pre_to_post'])\n",
    "                   for verb in sorted(verbs,\n",
    "                                      key=lambda x: x['ft_pre_to_post'],\n",
    "                                      reverse=True)]\n",
    "    ft_lemma_dict[prefix] = {'pre_to_sov_mean': round(mean([v[1] for v in pre_to_sov]), 3),\n",
    "                             'sov_to_post_mean': round(mean([v[1] for v in sov_to_post]), 3),\n",
    "                             'pre_to_post_mean': round(mean([v[1] for v in pre_to_post]), 3),\n",
    "                             'pre_to_sov_ranged': pre_to_sov,\n",
    "                             'sov_to_post_ranged': sov_to_post,\n",
    "                             'pre_to_post_ranged': pre_to_post}"
   ]
  },
  {
   "cell_type": "code",
   "execution_count": 40,
   "id": "7b9ab7c2",
   "metadata": {},
   "outputs": [],
   "source": [
    "prefs_pre_to_sov_ft_ranged = [pref\n",
    "                              for pref in sorted(ft_lemma_dict,\n",
    "                                                 key=lambda x: ft_lemma_dict[x]['pre_to_sov_mean'],\n",
    "                                                 reverse=True)]"
   ]
  },
  {
   "cell_type": "code",
   "execution_count": 41,
   "id": "ffa382c8",
   "metadata": {},
   "outputs": [],
   "source": [
    "prefs_sov_to_post_ft_ranged = [pref\n",
    "                               for pref in sorted(ft_lemma_dict,\n",
    "                                                  key=lambda x: ft_lemma_dict[x]['sov_to_post_mean'],\n",
    "                                                  reverse=True)]"
   ]
  },
  {
   "cell_type": "code",
   "execution_count": 42,
   "id": "b7281038",
   "metadata": {},
   "outputs": [],
   "source": [
    "prefs_pre_to_post_ft_ranged = [pref\n",
    "                               for pref in sorted(ft_lemma_dict,\n",
    "                                                  key=lambda x: ft_lemma_dict[x]['pre_to_post_mean'],\n",
    "                                                  reverse=True)]"
   ]
  },
  {
   "cell_type": "markdown",
   "id": "2f19555f",
   "metadata": {},
   "source": [
    "#### FastText для отдельных приставок"
   ]
  },
  {
   "cell_type": "code",
   "execution_count": 43,
   "id": "5e1a7269",
   "metadata": {},
   "outputs": [],
   "source": [
    "ft_prefs = [['без-', 'бес-', 'безо-'], ['вз-', 'вс-', 'взо-'], ['в-', 'во-'],\n",
    "            ['воз-', 'вос-', 'возо-'], ['вы-'], ['до-'], ['за-'], ['из-', 'ис-', 'изо-'],\n",
    "            ['на-'], ['над-', 'надо-'], ['недо-'], ['низ-', 'нис-', 'низо-'],\n",
    "            ['о-', 'об-', 'обо-'], ['обез-', 'обес-'], ['от-', 'ото-'], ['пере-'],\n",
    "            ['по-'], ['под-', 'подо-'], ['полу-'], ['пре-'], ['пред-', 'предо-'],\n",
    "            ['при-'], ['про-'], ['раз-', 'рас-', 'разо-'], ['с-', 'со-'], ['у-']]"
   ]
  },
  {
   "cell_type": "code",
   "execution_count": 44,
   "id": "137b76c5",
   "metadata": {},
   "outputs": [],
   "source": [
    "ft_pref_dict = {}\n",
    "\n",
    "for prefix in ft_prefs:\n",
    "    ft_pref_presov = []\n",
    "    ft_pref_sov = []\n",
    "    ft_pref_postsov = []\n",
    "    for rep in prefix:\n",
    "        ft_pref_presov.append(ft_presov[rep.strip('-')])\n",
    "        ft_pref_sov.append(ft_sov_to_presov[rep.strip('-')])\n",
    "        ft_pref_postsov.append(ft_postsov_to_sov[rep.strip('-')])\n",
    "\n",
    "    ft_pref_dict[prefix[0]] = {'presov': np.average(np.array(ft_pref_presov), axis=0),\n",
    "                               'sov': np.average(np.array(ft_pref_sov), axis=0),\n",
    "                               'postsov': np.average(np.array(ft_pref_postsov), axis=0)}"
   ]
  },
  {
   "cell_type": "code",
   "execution_count": 45,
   "id": "f00c4631",
   "metadata": {},
   "outputs": [],
   "source": [
    "for pref in ft_pref_dict:\n",
    "    ft_pref_dict[pref]['pre_to_sov'] = round(cityblock(ft_pref_dict[pref]['presov'],\n",
    "                                                       ft_pref_dict[pref]['sov']), 3)\n",
    "    ft_pref_dict[pref]['sov_to_post'] = round(cityblock(ft_pref_dict[pref]['sov'],\n",
    "                                                       ft_pref_dict[pref]['postsov']), 3)\n",
    "    ft_pref_dict[pref]['pre_to_post'] = round(cityblock(ft_pref_dict[pref]['presov'],\n",
    "                                                       ft_pref_dict[pref]['postsov']), 3)"
   ]
  },
  {
   "cell_type": "code",
   "execution_count": 46,
   "id": "e8066d5c",
   "metadata": {},
   "outputs": [],
   "source": [
    "found_pref_dict = {}\n",
    "for pref in ft_pref_dict:\n",
    "    if ft_pref_dict[pref]['pre_to_sov'] > -100 and ft_pref_dict[pref]['sov_to_post'] > -100 and ft_pref_dict[pref]['pre_to_post'] > -100:\n",
    "        found_pref_dict[pref] = ft_pref_dict[pref]"
   ]
  },
  {
   "cell_type": "code",
   "execution_count": 47,
   "id": "c4a9c370",
   "metadata": {},
   "outputs": [
    {
     "data": {
      "text/plain": [
       "22"
      ]
     },
     "execution_count": 47,
     "metadata": {},
     "output_type": "execute_result"
    }
   ],
   "source": [
    "len(found_pref_dict)"
   ]
  },
  {
   "cell_type": "code",
   "execution_count": 48,
   "id": "2984def3",
   "metadata": {},
   "outputs": [],
   "source": [
    "prefs_pre_to_sov_ft2 = [pref\n",
    "                        for pref in sorted(found_pref_dict,\n",
    "                                           key=lambda x: found_pref_dict[x]['pre_to_sov'],\n",
    "                                           reverse=True)]"
   ]
  },
  {
   "cell_type": "code",
   "execution_count": 49,
   "id": "ef7edf40",
   "metadata": {},
   "outputs": [],
   "source": [
    "prefs_sov_to_post_ft2 = [pref\n",
    "                         for pref in sorted(found_pref_dict,\n",
    "                                            key=lambda x: found_pref_dict[x]['sov_to_post'],\n",
    "                                            reverse=True)]"
   ]
  },
  {
   "cell_type": "code",
   "execution_count": 50,
   "id": "6cafd9d2",
   "metadata": {},
   "outputs": [],
   "source": [
    "prefs_pre_to_post_ft2 = [pref\n",
    "                         for pref in sorted(found_pref_dict,\n",
    "                                            key=lambda x: found_pref_dict[x]['pre_to_post'],\n",
    "                                            reverse=True)]"
   ]
  },
  {
   "cell_type": "markdown",
   "id": "53466f1d",
   "metadata": {},
   "source": [
    "#### Повторяем для ELMo"
   ]
  },
  {
   "cell_type": "code",
   "execution_count": 51,
   "id": "e2c17e98",
   "metadata": {},
   "outputs": [],
   "source": [
    "with open('verbs_to_search.pickle', 'rb') as f:\n",
    "    verbs_to_search = pickle.load(f)"
   ]
  },
  {
   "cell_type": "code",
   "execution_count": 52,
   "id": "ec983281",
   "metadata": {},
   "outputs": [],
   "source": [
    "with open('prefs_verbs_10.pickle', 'rb') as f:\n",
    "    prefs_verbs_10 = pickle.load(f)"
   ]
  },
  {
   "cell_type": "code",
   "execution_count": 53,
   "id": "a034b8cf",
   "metadata": {},
   "outputs": [],
   "source": [
    "with open('presov_samples.pickle', 'rb') as f:\n",
    "    presov_samples = pickle.load(f)"
   ]
  },
  {
   "cell_type": "code",
   "execution_count": 54,
   "id": "53c5a596",
   "metadata": {},
   "outputs": [],
   "source": [
    "with open('sov_samples.pickle', 'rb') as f:\n",
    "    sov_samples = pickle.load(f)"
   ]
  },
  {
   "cell_type": "code",
   "execution_count": 55,
   "id": "11338cb9",
   "metadata": {},
   "outputs": [],
   "source": [
    "with open('postsov_samples.pickle', 'rb') as f:\n",
    "    postsov_samples = pickle.load(f)"
   ]
  },
  {
   "cell_type": "code",
   "execution_count": 56,
   "id": "ce70371e",
   "metadata": {},
   "outputs": [],
   "source": [
    "verb_embeddings = {}\n",
    "for verb in verbs_to_search:\n",
    "    mean_presov = np.average([emb[-1] for emb in presov_samples[verb]], axis=0)\n",
    "    mean_sov = np.average([emb[-1] for emb in sov_samples[verb]], axis=0)\n",
    "    mean_postsov = np.average([emb[-1] for emb in postsov_samples[verb]], axis=0)\n",
    "    verb_embeddings[verb] = {'presov': mean_presov,\n",
    "                             'sov': mean_sov,\n",
    "                             'postsov': mean_postsov,\n",
    "                             'pre_to_sov': cityblock(mean_presov, mean_sov),\n",
    "                             'sov_to_post': cityblock(mean_sov, mean_postsov),\n",
    "                             'pre_to_post': cityblock(mean_presov, mean_postsov)}"
   ]
  },
  {
   "cell_type": "code",
   "execution_count": 57,
   "id": "f1a71e5b",
   "metadata": {},
   "outputs": [],
   "source": [
    "pref_embeddings = {}\n",
    "for pref in prefs_verbs_10:\n",
    "    pref_embeddings[pref] = {}\n",
    "    for verb in prefs_verbs_10[pref]:\n",
    "        pref_embeddings[pref][verb] = verb_embeddings[verb]"
   ]
  },
  {
   "cell_type": "code",
   "execution_count": 58,
   "id": "7794f7a7",
   "metadata": {},
   "outputs": [],
   "source": [
    "pref_change = {}\n",
    "for pref in pref_embeddings:\n",
    "    presov_change = mean(pref_embeddings[pref][verb]['pre_to_sov']\n",
    "                         for verb in pref_embeddings[pref])\n",
    "    sov_change = mean(pref_embeddings[pref][verb]['sov_to_post']\n",
    "                      for verb in pref_embeddings[pref])\n",
    "    postsov_change = mean(pref_embeddings[pref][verb]['pre_to_post']\n",
    "                          for verb in pref_embeddings[pref])\n",
    "    pref_change[pref] = {'pre_to_sov': presov_change,\n",
    "                         'sov_to_post': sov_change,\n",
    "                         'pre_to_post': postsov_change}"
   ]
  },
  {
   "cell_type": "code",
   "execution_count": 59,
   "id": "3fcd0339",
   "metadata": {},
   "outputs": [],
   "source": [
    "elmo_pre_to_sov_ranged = [pref for pref in sorted(pref_change,\n",
    "                                             key=lambda x: pref_change[pref]['pre_to_sov'],\n",
    "                                             reverse=True)]"
   ]
  },
  {
   "cell_type": "code",
   "execution_count": 60,
   "id": "f08366b8",
   "metadata": {},
   "outputs": [],
   "source": [
    "elmo_sov_to_post_ranged = [pref for pref in sorted(pref_change,\n",
    "                                              key=lambda x: pref_change[pref]['sov_to_post'],\n",
    "                                              reverse=True)]"
   ]
  },
  {
   "cell_type": "code",
   "execution_count": 61,
   "id": "6d0b2df0",
   "metadata": {},
   "outputs": [],
   "source": [
    "elmo_pre_to_post_ranged = [pref for pref in sorted(pref_change,\n",
    "                                              key=lambda x: pref_change[pref]['pre_to_post'],\n",
    "                                              reverse=True)]"
   ]
  },
  {
   "cell_type": "markdown",
   "id": "f80dde54",
   "metadata": {},
   "source": [
    "#### Собираем в датафрейм для наглядности"
   ]
  },
  {
   "cell_type": "code",
   "execution_count": 62,
   "id": "61286552",
   "metadata": {},
   "outputs": [],
   "source": [
    "# приводим к стандартному виду\n",
    "convt = {'бе[зс]': 'без-',\n",
    "         'в[зс]': 'вз-',\n",
    "         'во?': 'в-',\n",
    "         'во[зс]': 'воз-',\n",
    "         'вы': 'вы-',\n",
    "         'до': 'до-',\n",
    "         'за': 'за-',\n",
    "         'и[зс]': 'из-',\n",
    "         'на': 'на-',\n",
    "         'над': 'над-',\n",
    "         'недо': 'недо-',\n",
    "         'ни[зс]': 'низ-',\n",
    "         'о': 'о-',\n",
    "         'обе[зс]': 'обез-',\n",
    "         'от': 'от-',\n",
    "         'пере': 'пере-',\n",
    "         'по': 'по-',\n",
    "         'под': 'под-',\n",
    "         'полу': 'полу-',\n",
    "         'пре': 'пре-',\n",
    "         'пред': 'пред-',\n",
    "         'при': 'при-',\n",
    "         'про': 'про-',\n",
    "         'ра[зс]': 'раз-',\n",
    "         'с': 'с-',\n",
    "         'у': 'у-'}"
   ]
  },
  {
   "cell_type": "code",
   "execution_count": 63,
   "id": "ac067970",
   "metadata": {},
   "outputs": [],
   "source": [
    "dt = {'w2vlem_pre_to_sov': prefs_pre_to_sov_ranged,\n",
    "      'w2vlem_sov_to_post': prefs_sov_to_post_ranged,\n",
    "      'w2vlem_pre_to_post': prefs_pre_to_post_ranged,\n",
    "      'w2vpos_pre_to_sov': prefs_pre_to_sov_pos_ranged,\n",
    "      'w2vpos_sov_to_post': prefs_sov_to_post_pos_ranged,\n",
    "      'w2vpos_pre_to_post': prefs_pre_to_post_pos_ranged,\n",
    "      'ftlem_pre_to_sov': prefs_pre_to_sov_ft_ranged,\n",
    "      'ftvlem_sov_to_post': prefs_sov_to_post_ft_ranged,\n",
    "      'ftvlem_pre_to_post': prefs_pre_to_post_ft_ranged,\n",
    "      'elmo_pre_to_sov': elmo_pre_to_sov_ranged,\n",
    "      'elmo_sov_to_post': elmo_sov_to_post_ranged,\n",
    "      'elmo_pre_to_post': elmo_pre_to_post_ranged,\n",
    "      }\n",
    "\n",
    "for lst in list(dt.values()):\n",
    "    for i, val in enumerate(lst):\n",
    "        lst[i] = convt[val]"
   ]
  },
  {
   "cell_type": "code",
   "execution_count": 64,
   "id": "43ffd750",
   "metadata": {},
   "outputs": [
    {
     "name": "stdout",
     "output_type": "stream",
     "text": [
      "0 низ-\n",
      "7 пре-\n",
      "13 полу-\n",
      "21 раз-\n"
     ]
    }
   ],
   "source": [
    "for i, pref in enumerate(prefs_pre_to_sov_ft_ranged):\n",
    "    if pref not in prefs_pre_to_sov_ft2:\n",
    "        print(i, pref)"
   ]
  },
  {
   "cell_type": "code",
   "execution_count": 65,
   "id": "895bbdba",
   "metadata": {},
   "outputs": [
    {
     "name": "stdout",
     "output_type": "stream",
     "text": [
      "['про-', 'по-', 'за-', 'недо-', 'с-', 'до-', 'при-', 'вы-', 'от-', 'пере-', 'на-', 'над-', 'под-', 'в-', 'у-', 'пред-', 'обез-', 'из-', 'о-', 'вз-', 'без-', 'воз-']\n"
     ]
    }
   ],
   "source": [
    "print(prefs_pre_to_sov_ft2)"
   ]
  },
  {
   "cell_type": "code",
   "execution_count": 66,
   "id": "fbc65a4c",
   "metadata": {},
   "outputs": [],
   "source": [
    "prefs_pre_to_sov_ft2 = ['--', 'про-', 'по-', 'за-', 'недо-', 'с-', 'до-', '--', 'при-', 'вы-', 'от-', 'пере-', 'на-', '--', 'над-', 'под-', 'в-', 'у-', 'пред-', 'обез-', 'из-', '--', 'о-', 'вз-', 'без-', 'воз-']"
   ]
  },
  {
   "cell_type": "code",
   "execution_count": 67,
   "id": "42dc5b36",
   "metadata": {},
   "outputs": [
    {
     "name": "stdout",
     "output_type": "stream",
     "text": [
      "0 низ-\n",
      "7 полу-\n",
      "13 пре-\n",
      "24 раз-\n"
     ]
    }
   ],
   "source": [
    "for i, pref in enumerate(prefs_sov_to_post_ft_ranged):\n",
    "    if pref not in prefs_sov_to_post_ft2:\n",
    "        print(i, pref)"
   ]
  },
  {
   "cell_type": "code",
   "execution_count": 68,
   "id": "65eff8aa",
   "metadata": {},
   "outputs": [
    {
     "name": "stdout",
     "output_type": "stream",
     "text": [
      "['с-', 'от-', 'по-', 'недо-', 'про-', 'при-', 'о-', 'до-', 'пред-', 'за-', 'на-', 'пере-', 'вз-', 'под-', 'в-', 'обез-', 'вы-', 'воз-', 'из-', 'без-', 'у-', 'над-']\n"
     ]
    }
   ],
   "source": [
    "print(prefs_sov_to_post_ft2)"
   ]
  },
  {
   "cell_type": "code",
   "execution_count": 69,
   "id": "12f0f650",
   "metadata": {},
   "outputs": [],
   "source": [
    "prefs_sov_to_post_ft2 = ['--', 'с-', 'от-', 'по-', 'недо-', 'про-', 'при-', '--', 'о-', 'до-', 'пред-', 'за-', 'на-', '--', 'пере-', 'вз-', 'под-', 'в-', 'обез-', 'вы-', 'воз-', 'из-', 'без-', 'у-', '--', 'над-']"
   ]
  },
  {
   "cell_type": "code",
   "execution_count": 70,
   "id": "85ca65fb",
   "metadata": {},
   "outputs": [
    {
     "name": "stdout",
     "output_type": "stream",
     "text": [
      "1 пре-\n",
      "3 низ-\n",
      "9 полу-\n",
      "24 раз-\n"
     ]
    }
   ],
   "source": [
    "for i, pref in enumerate(prefs_pre_to_post_ft_ranged):\n",
    "    if pref not in prefs_pre_to_post_ft2:\n",
    "        print(i, pref)"
   ]
  },
  {
   "cell_type": "code",
   "execution_count": 71,
   "id": "9871072c",
   "metadata": {},
   "outputs": [
    {
     "name": "stdout",
     "output_type": "stream",
     "text": [
      "['с-', 'про-', 'за-', 'до-', 'пред-', 'по-', 'от-', 'у-', 'над-', 'при-', 'вз-', 'на-', 'под-', 'о-', 'пере-', 'недо-', 'вы-', 'в-', 'обез-', 'без-', 'из-', 'воз-']\n"
     ]
    }
   ],
   "source": [
    "print(prefs_pre_to_post_ft2)"
   ]
  },
  {
   "cell_type": "code",
   "execution_count": 72,
   "id": "0890c180",
   "metadata": {},
   "outputs": [],
   "source": [
    "prefs_pre_to_post_ft2 = ['с-', '--', 'про-', '--', 'за-', 'до-', 'пред-', 'по-', 'от-', '--', 'у-', 'над-', 'при-', 'вз-', 'на-', 'под-', 'о-', 'пере-', 'недо-', 'вы-', 'в-', 'обез-', 'без-', 'из-', '--', 'воз-']"
   ]
  },
  {
   "cell_type": "code",
   "execution_count": 73,
   "id": "02778f5c",
   "metadata": {},
   "outputs": [],
   "source": [
    "pref_ranged_df = pd.DataFrame(\n",
    "    {'w2vlem_pre_to_sov': prefs_pre_to_sov_ranged,\n",
    "     'w2vlem_sov_to_post': prefs_sov_to_post_ranged,\n",
    "     'w2vlem_pre_to_post': prefs_pre_to_post_ranged,\n",
    "     'w2vpos_pre_to_sov': prefs_pre_to_sov_pos_ranged,\n",
    "     'w2vpos_sov_to_post': prefs_sov_to_post_pos_ranged,\n",
    "     'w2vpos_pre_to_post': prefs_pre_to_post_pos_ranged,\n",
    "     'ftlem_pre_to_sov': prefs_pre_to_sov_ft_ranged,\n",
    "     'ftlem_sov_to_post': prefs_sov_to_post_ft_ranged,\n",
    "     'ftlem_pre_to_post': prefs_pre_to_post_ft_ranged,\n",
    "     'ftpref_pre_to_sov': prefs_pre_to_sov_ft2,\n",
    "     'ftpref_sov_to_post': prefs_sov_to_post_ft2,\n",
    "     'ftpref_pre_to_post': prefs_pre_to_post_ft2,\n",
    "     'elmo_pre_to_sov': elmo_pre_to_sov_ranged,\n",
    "     'elmo_sov_to_post': elmo_sov_to_post_ranged,\n",
    "     'elmo_pre_to_post': elmo_pre_to_post_ranged,\n",
    "     })"
   ]
  },
  {
   "cell_type": "code",
   "execution_count": 74,
   "id": "a88991bb",
   "metadata": {},
   "outputs": [
    {
     "data": {
      "text/html": [
       "<div>\n",
       "<style scoped>\n",
       "    .dataframe tbody tr th:only-of-type {\n",
       "        vertical-align: middle;\n",
       "    }\n",
       "\n",
       "    .dataframe tbody tr th {\n",
       "        vertical-align: top;\n",
       "    }\n",
       "\n",
       "    .dataframe thead th {\n",
       "        text-align: right;\n",
       "    }\n",
       "</style>\n",
       "<table border=\"1\" class=\"dataframe\">\n",
       "  <thead>\n",
       "    <tr style=\"text-align: right;\">\n",
       "      <th></th>\n",
       "      <th>w2vlem_pre_to_sov</th>\n",
       "      <th>w2vlem_sov_to_post</th>\n",
       "      <th>w2vlem_pre_to_post</th>\n",
       "      <th>w2vpos_pre_to_sov</th>\n",
       "      <th>w2vpos_sov_to_post</th>\n",
       "      <th>w2vpos_pre_to_post</th>\n",
       "      <th>ftlem_pre_to_sov</th>\n",
       "      <th>ftlem_sov_to_post</th>\n",
       "      <th>ftlem_pre_to_post</th>\n",
       "      <th>ftpref_pre_to_sov</th>\n",
       "      <th>ftpref_sov_to_post</th>\n",
       "      <th>ftpref_pre_to_post</th>\n",
       "      <th>elmo_pre_to_sov</th>\n",
       "      <th>elmo_sov_to_post</th>\n",
       "      <th>elmo_pre_to_post</th>\n",
       "    </tr>\n",
       "  </thead>\n",
       "  <tbody>\n",
       "    <tr>\n",
       "      <th>0</th>\n",
       "      <td>недо-</td>\n",
       "      <td>недо-</td>\n",
       "      <td>недо-</td>\n",
       "      <td>недо-</td>\n",
       "      <td>полу-</td>\n",
       "      <td>недо-</td>\n",
       "      <td>низ-</td>\n",
       "      <td>низ-</td>\n",
       "      <td>воз-</td>\n",
       "      <td>--</td>\n",
       "      <td>--</td>\n",
       "      <td>с-</td>\n",
       "      <td>недо-</td>\n",
       "      <td>недо-</td>\n",
       "      <td>недо-</td>\n",
       "    </tr>\n",
       "    <tr>\n",
       "      <th>1</th>\n",
       "      <td>обез-</td>\n",
       "      <td>полу-</td>\n",
       "      <td>обез-</td>\n",
       "      <td>обез-</td>\n",
       "      <td>обез-</td>\n",
       "      <td>обез-</td>\n",
       "      <td>воз-</td>\n",
       "      <td>воз-</td>\n",
       "      <td>пре-</td>\n",
       "      <td>про-</td>\n",
       "      <td>с-</td>\n",
       "      <td>--</td>\n",
       "      <td>на-</td>\n",
       "      <td>на-</td>\n",
       "      <td>на-</td>\n",
       "    </tr>\n",
       "    <tr>\n",
       "      <th>2</th>\n",
       "      <td>полу-</td>\n",
       "      <td>обез-</td>\n",
       "      <td>полу-</td>\n",
       "      <td>полу-</td>\n",
       "      <td>недо-</td>\n",
       "      <td>полу-</td>\n",
       "      <td>обез-</td>\n",
       "      <td>обез-</td>\n",
       "      <td>обез-</td>\n",
       "      <td>по-</td>\n",
       "      <td>от-</td>\n",
       "      <td>про-</td>\n",
       "      <td>при-</td>\n",
       "      <td>при-</td>\n",
       "      <td>при-</td>\n",
       "    </tr>\n",
       "    <tr>\n",
       "      <th>3</th>\n",
       "      <td>над-</td>\n",
       "      <td>без-</td>\n",
       "      <td>без-</td>\n",
       "      <td>без-</td>\n",
       "      <td>без-</td>\n",
       "      <td>без-</td>\n",
       "      <td>по-</td>\n",
       "      <td>по-</td>\n",
       "      <td>низ-</td>\n",
       "      <td>за-</td>\n",
       "      <td>по-</td>\n",
       "      <td>--</td>\n",
       "      <td>над-</td>\n",
       "      <td>над-</td>\n",
       "      <td>над-</td>\n",
       "    </tr>\n",
       "    <tr>\n",
       "      <th>4</th>\n",
       "      <td>без-</td>\n",
       "      <td>над-</td>\n",
       "      <td>пере-</td>\n",
       "      <td>над-</td>\n",
       "      <td>над-</td>\n",
       "      <td>пере-</td>\n",
       "      <td>вз-</td>\n",
       "      <td>о-</td>\n",
       "      <td>из-</td>\n",
       "      <td>недо-</td>\n",
       "      <td>недо-</td>\n",
       "      <td>за-</td>\n",
       "      <td>до-</td>\n",
       "      <td>до-</td>\n",
       "      <td>до-</td>\n",
       "    </tr>\n",
       "    <tr>\n",
       "      <th>5</th>\n",
       "      <td>пере-</td>\n",
       "      <td>низ-</td>\n",
       "      <td>над-</td>\n",
       "      <td>пере-</td>\n",
       "      <td>низ-</td>\n",
       "      <td>над-</td>\n",
       "      <td>из-</td>\n",
       "      <td>вз-</td>\n",
       "      <td>пред-</td>\n",
       "      <td>с-</td>\n",
       "      <td>про-</td>\n",
       "      <td>до-</td>\n",
       "      <td>низ-</td>\n",
       "      <td>низ-</td>\n",
       "      <td>низ-</td>\n",
       "    </tr>\n",
       "    <tr>\n",
       "      <th>6</th>\n",
       "      <td>на-</td>\n",
       "      <td>пере-</td>\n",
       "      <td>на-</td>\n",
       "      <td>на-</td>\n",
       "      <td>пере-</td>\n",
       "      <td>на-</td>\n",
       "      <td>без-</td>\n",
       "      <td>из-</td>\n",
       "      <td>по-</td>\n",
       "      <td>до-</td>\n",
       "      <td>при-</td>\n",
       "      <td>пред-</td>\n",
       "      <td>про-</td>\n",
       "      <td>про-</td>\n",
       "      <td>про-</td>\n",
       "    </tr>\n",
       "    <tr>\n",
       "      <th>7</th>\n",
       "      <td>про-</td>\n",
       "      <td>на-</td>\n",
       "      <td>за-</td>\n",
       "      <td>про-</td>\n",
       "      <td>на-</td>\n",
       "      <td>за-</td>\n",
       "      <td>пре-</td>\n",
       "      <td>полу-</td>\n",
       "      <td>у-</td>\n",
       "      <td>--</td>\n",
       "      <td>--</td>\n",
       "      <td>по-</td>\n",
       "      <td>вы-</td>\n",
       "      <td>вы-</td>\n",
       "      <td>вы-</td>\n",
       "    </tr>\n",
       "    <tr>\n",
       "      <th>8</th>\n",
       "      <td>за-</td>\n",
       "      <td>из-</td>\n",
       "      <td>из-</td>\n",
       "      <td>за-</td>\n",
       "      <td>из-</td>\n",
       "      <td>из-</td>\n",
       "      <td>у-</td>\n",
       "      <td>за-</td>\n",
       "      <td>о-</td>\n",
       "      <td>при-</td>\n",
       "      <td>о-</td>\n",
       "      <td>от-</td>\n",
       "      <td>у-</td>\n",
       "      <td>у-</td>\n",
       "      <td>у-</td>\n",
       "    </tr>\n",
       "    <tr>\n",
       "      <th>9</th>\n",
       "      <td>раз-</td>\n",
       "      <td>за-</td>\n",
       "      <td>про-</td>\n",
       "      <td>раз-</td>\n",
       "      <td>за-</td>\n",
       "      <td>о-</td>\n",
       "      <td>о-</td>\n",
       "      <td>у-</td>\n",
       "      <td>полу-</td>\n",
       "      <td>вы-</td>\n",
       "      <td>до-</td>\n",
       "      <td>--</td>\n",
       "      <td>по-</td>\n",
       "      <td>по-</td>\n",
       "      <td>по-</td>\n",
       "    </tr>\n",
       "    <tr>\n",
       "      <th>10</th>\n",
       "      <td>из-</td>\n",
       "      <td>о-</td>\n",
       "      <td>о-</td>\n",
       "      <td>из-</td>\n",
       "      <td>о-</td>\n",
       "      <td>про-</td>\n",
       "      <td>за-</td>\n",
       "      <td>на-</td>\n",
       "      <td>с-</td>\n",
       "      <td>от-</td>\n",
       "      <td>пред-</td>\n",
       "      <td>у-</td>\n",
       "      <td>под-</td>\n",
       "      <td>под-</td>\n",
       "      <td>под-</td>\n",
       "    </tr>\n",
       "    <tr>\n",
       "      <th>11</th>\n",
       "      <td>о-</td>\n",
       "      <td>воз-</td>\n",
       "      <td>раз-</td>\n",
       "      <td>о-</td>\n",
       "      <td>воз-</td>\n",
       "      <td>раз-</td>\n",
       "      <td>с-</td>\n",
       "      <td>с-</td>\n",
       "      <td>без-</td>\n",
       "      <td>пере-</td>\n",
       "      <td>за-</td>\n",
       "      <td>над-</td>\n",
       "      <td>пре-</td>\n",
       "      <td>пре-</td>\n",
       "      <td>пре-</td>\n",
       "    </tr>\n",
       "    <tr>\n",
       "      <th>12</th>\n",
       "      <td>низ-</td>\n",
       "      <td>про-</td>\n",
       "      <td>под-</td>\n",
       "      <td>от-</td>\n",
       "      <td>про-</td>\n",
       "      <td>под-</td>\n",
       "      <td>вы-</td>\n",
       "      <td>пред-</td>\n",
       "      <td>за-</td>\n",
       "      <td>на-</td>\n",
       "      <td>на-</td>\n",
       "      <td>при-</td>\n",
       "      <td>полу-</td>\n",
       "      <td>полу-</td>\n",
       "      <td>полу-</td>\n",
       "    </tr>\n",
       "    <tr>\n",
       "      <th>13</th>\n",
       "      <td>от-</td>\n",
       "      <td>раз-</td>\n",
       "      <td>от-</td>\n",
       "      <td>низ-</td>\n",
       "      <td>раз-</td>\n",
       "      <td>от-</td>\n",
       "      <td>полу-</td>\n",
       "      <td>пре-</td>\n",
       "      <td>на-</td>\n",
       "      <td>--</td>\n",
       "      <td>--</td>\n",
       "      <td>вз-</td>\n",
       "      <td>из-</td>\n",
       "      <td>из-</td>\n",
       "      <td>из-</td>\n",
       "    </tr>\n",
       "    <tr>\n",
       "      <th>14</th>\n",
       "      <td>под-</td>\n",
       "      <td>вз-</td>\n",
       "      <td>вз-</td>\n",
       "      <td>под-</td>\n",
       "      <td>под-</td>\n",
       "      <td>вз-</td>\n",
       "      <td>на-</td>\n",
       "      <td>про-</td>\n",
       "      <td>вз-</td>\n",
       "      <td>над-</td>\n",
       "      <td>пере-</td>\n",
       "      <td>на-</td>\n",
       "      <td>от-</td>\n",
       "      <td>от-</td>\n",
       "      <td>от-</td>\n",
       "    </tr>\n",
       "    <tr>\n",
       "      <th>15</th>\n",
       "      <td>в-</td>\n",
       "      <td>под-</td>\n",
       "      <td>низ-</td>\n",
       "      <td>в-</td>\n",
       "      <td>вз-</td>\n",
       "      <td>в-</td>\n",
       "      <td>над-</td>\n",
       "      <td>в-</td>\n",
       "      <td>про-</td>\n",
       "      <td>под-</td>\n",
       "      <td>вз-</td>\n",
       "      <td>под-</td>\n",
       "      <td>раз-</td>\n",
       "      <td>раз-</td>\n",
       "      <td>раз-</td>\n",
       "    </tr>\n",
       "    <tr>\n",
       "      <th>16</th>\n",
       "      <td>по-</td>\n",
       "      <td>по-</td>\n",
       "      <td>воз-</td>\n",
       "      <td>по-</td>\n",
       "      <td>по-</td>\n",
       "      <td>по-</td>\n",
       "      <td>про-</td>\n",
       "      <td>над-</td>\n",
       "      <td>вы-</td>\n",
       "      <td>в-</td>\n",
       "      <td>под-</td>\n",
       "      <td>о-</td>\n",
       "      <td>за-</td>\n",
       "      <td>за-</td>\n",
       "      <td>за-</td>\n",
       "    </tr>\n",
       "    <tr>\n",
       "      <th>17</th>\n",
       "      <td>вы-</td>\n",
       "      <td>от-</td>\n",
       "      <td>в-</td>\n",
       "      <td>вз-</td>\n",
       "      <td>от-</td>\n",
       "      <td>воз-</td>\n",
       "      <td>от-</td>\n",
       "      <td>без-</td>\n",
       "      <td>в-</td>\n",
       "      <td>у-</td>\n",
       "      <td>в-</td>\n",
       "      <td>пере-</td>\n",
       "      <td>о-</td>\n",
       "      <td>о-</td>\n",
       "      <td>о-</td>\n",
       "    </tr>\n",
       "    <tr>\n",
       "      <th>18</th>\n",
       "      <td>воз-</td>\n",
       "      <td>до-</td>\n",
       "      <td>по-</td>\n",
       "      <td>вы-</td>\n",
       "      <td>в-</td>\n",
       "      <td>низ-</td>\n",
       "      <td>пред-</td>\n",
       "      <td>от-</td>\n",
       "      <td>недо-</td>\n",
       "      <td>пред-</td>\n",
       "      <td>обез-</td>\n",
       "      <td>недо-</td>\n",
       "      <td>вз-</td>\n",
       "      <td>вз-</td>\n",
       "      <td>вз-</td>\n",
       "    </tr>\n",
       "    <tr>\n",
       "      <th>19</th>\n",
       "      <td>вз-</td>\n",
       "      <td>в-</td>\n",
       "      <td>вы-</td>\n",
       "      <td>воз-</td>\n",
       "      <td>до-</td>\n",
       "      <td>вы-</td>\n",
       "      <td>при-</td>\n",
       "      <td>вы-</td>\n",
       "      <td>от-</td>\n",
       "      <td>обез-</td>\n",
       "      <td>вы-</td>\n",
       "      <td>вы-</td>\n",
       "      <td>обез-</td>\n",
       "      <td>обез-</td>\n",
       "      <td>обез-</td>\n",
       "    </tr>\n",
       "    <tr>\n",
       "      <th>20</th>\n",
       "      <td>до-</td>\n",
       "      <td>с-</td>\n",
       "      <td>с-</td>\n",
       "      <td>до-</td>\n",
       "      <td>вы-</td>\n",
       "      <td>с-</td>\n",
       "      <td>в-</td>\n",
       "      <td>до-</td>\n",
       "      <td>до-</td>\n",
       "      <td>из-</td>\n",
       "      <td>воз-</td>\n",
       "      <td>в-</td>\n",
       "      <td>пере-</td>\n",
       "      <td>пере-</td>\n",
       "      <td>пере-</td>\n",
       "    </tr>\n",
       "    <tr>\n",
       "      <th>21</th>\n",
       "      <td>с-</td>\n",
       "      <td>вы-</td>\n",
       "      <td>до-</td>\n",
       "      <td>с-</td>\n",
       "      <td>с-</td>\n",
       "      <td>до-</td>\n",
       "      <td>раз-</td>\n",
       "      <td>недо-</td>\n",
       "      <td>при-</td>\n",
       "      <td>--</td>\n",
       "      <td>из-</td>\n",
       "      <td>обез-</td>\n",
       "      <td>с-</td>\n",
       "      <td>с-</td>\n",
       "      <td>с-</td>\n",
       "    </tr>\n",
       "    <tr>\n",
       "      <th>22</th>\n",
       "      <td>при-</td>\n",
       "      <td>при-</td>\n",
       "      <td>пред-</td>\n",
       "      <td>при-</td>\n",
       "      <td>при-</td>\n",
       "      <td>пред-</td>\n",
       "      <td>до-</td>\n",
       "      <td>при-</td>\n",
       "      <td>над-</td>\n",
       "      <td>о-</td>\n",
       "      <td>без-</td>\n",
       "      <td>без-</td>\n",
       "      <td>воз-</td>\n",
       "      <td>воз-</td>\n",
       "      <td>воз-</td>\n",
       "    </tr>\n",
       "    <tr>\n",
       "      <th>23</th>\n",
       "      <td>пред-</td>\n",
       "      <td>у-</td>\n",
       "      <td>при-</td>\n",
       "      <td>пред-</td>\n",
       "      <td>у-</td>\n",
       "      <td>при-</td>\n",
       "      <td>пере-</td>\n",
       "      <td>под-</td>\n",
       "      <td>пере-</td>\n",
       "      <td>вз-</td>\n",
       "      <td>у-</td>\n",
       "      <td>из-</td>\n",
       "      <td>без-</td>\n",
       "      <td>без-</td>\n",
       "      <td>без-</td>\n",
       "    </tr>\n",
       "    <tr>\n",
       "      <th>24</th>\n",
       "      <td>у-</td>\n",
       "      <td>пред-</td>\n",
       "      <td>у-</td>\n",
       "      <td>у-</td>\n",
       "      <td>пред-</td>\n",
       "      <td>у-</td>\n",
       "      <td>недо-</td>\n",
       "      <td>раз-</td>\n",
       "      <td>раз-</td>\n",
       "      <td>без-</td>\n",
       "      <td>--</td>\n",
       "      <td>--</td>\n",
       "      <td>в-</td>\n",
       "      <td>в-</td>\n",
       "      <td>в-</td>\n",
       "    </tr>\n",
       "    <tr>\n",
       "      <th>25</th>\n",
       "      <td>пре-</td>\n",
       "      <td>пре-</td>\n",
       "      <td>пре-</td>\n",
       "      <td>пре-</td>\n",
       "      <td>пре-</td>\n",
       "      <td>пре-</td>\n",
       "      <td>под-</td>\n",
       "      <td>пере-</td>\n",
       "      <td>под-</td>\n",
       "      <td>воз-</td>\n",
       "      <td>над-</td>\n",
       "      <td>воз-</td>\n",
       "      <td>пред-</td>\n",
       "      <td>пред-</td>\n",
       "      <td>пред-</td>\n",
       "    </tr>\n",
       "  </tbody>\n",
       "</table>\n",
       "</div>"
      ],
      "text/plain": [
       "   w2vlem_pre_to_sov w2vlem_sov_to_post w2vlem_pre_to_post w2vpos_pre_to_sov  \\\n",
       "0              недо-              недо-              недо-             недо-   \n",
       "1              обез-              полу-              обез-             обез-   \n",
       "2              полу-              обез-              полу-             полу-   \n",
       "3               над-               без-               без-              без-   \n",
       "4               без-               над-              пере-              над-   \n",
       "5              пере-               низ-               над-             пере-   \n",
       "6                на-              пере-                на-               на-   \n",
       "7               про-                на-                за-              про-   \n",
       "8                за-                из-                из-               за-   \n",
       "9               раз-                за-               про-              раз-   \n",
       "10               из-                 о-                 о-               из-   \n",
       "11                о-               воз-               раз-                о-   \n",
       "12              низ-               про-               под-               от-   \n",
       "13               от-               раз-                от-              низ-   \n",
       "14              под-                вз-                вз-              под-   \n",
       "15                в-               под-               низ-                в-   \n",
       "16               по-                по-               воз-               по-   \n",
       "17               вы-                от-                 в-               вз-   \n",
       "18              воз-                до-                по-               вы-   \n",
       "19               вз-                 в-                вы-              воз-   \n",
       "20               до-                 с-                 с-               до-   \n",
       "21                с-                вы-                до-                с-   \n",
       "22              при-               при-              пред-              при-   \n",
       "23             пред-                 у-               при-             пред-   \n",
       "24                у-              пред-                 у-                у-   \n",
       "25              пре-               пре-               пре-              пре-   \n",
       "\n",
       "   w2vpos_sov_to_post w2vpos_pre_to_post ftlem_pre_to_sov ftlem_sov_to_post  \\\n",
       "0               полу-              недо-             низ-              низ-   \n",
       "1               обез-              обез-             воз-              воз-   \n",
       "2               недо-              полу-            обез-             обез-   \n",
       "3                без-               без-              по-               по-   \n",
       "4                над-              пере-              вз-                о-   \n",
       "5                низ-               над-              из-               вз-   \n",
       "6               пере-                на-             без-               из-   \n",
       "7                 на-                за-             пре-             полу-   \n",
       "8                 из-                из-               у-               за-   \n",
       "9                 за-                 о-               о-                у-   \n",
       "10                 о-               про-              за-               на-   \n",
       "11               воз-               раз-               с-                с-   \n",
       "12               про-               под-              вы-             пред-   \n",
       "13               раз-                от-            полу-              пре-   \n",
       "14               под-                вз-              на-              про-   \n",
       "15                вз-                 в-             над-                в-   \n",
       "16                по-                по-             про-              над-   \n",
       "17                от-               воз-              от-              без-   \n",
       "18                 в-               низ-            пред-               от-   \n",
       "19                до-                вы-             при-               вы-   \n",
       "20                вы-                 с-               в-               до-   \n",
       "21                 с-                до-             раз-             недо-   \n",
       "22               при-              пред-              до-              при-   \n",
       "23                 у-               при-            пере-              под-   \n",
       "24              пред-                 у-            недо-              раз-   \n",
       "25               пре-               пре-             под-             пере-   \n",
       "\n",
       "   ftlem_pre_to_post ftpref_pre_to_sov ftpref_sov_to_post ftpref_pre_to_post  \\\n",
       "0               воз-                --                 --                 с-   \n",
       "1               пре-              про-                 с-                 --   \n",
       "2              обез-               по-                от-               про-   \n",
       "3               низ-               за-                по-                 --   \n",
       "4                из-             недо-              недо-                за-   \n",
       "5              пред-                с-               про-                до-   \n",
       "6                по-               до-               при-              пред-   \n",
       "7                 у-                --                 --                по-   \n",
       "8                 о-              при-                 о-                от-   \n",
       "9              полу-               вы-                до-                 --   \n",
       "10                с-               от-              пред-                 у-   \n",
       "11              без-             пере-                за-               над-   \n",
       "12               за-               на-                на-               при-   \n",
       "13               на-                --                 --                вз-   \n",
       "14               вз-              над-              пере-                на-   \n",
       "15              про-              под-                вз-               под-   \n",
       "16               вы-                в-               под-                 о-   \n",
       "17                в-                у-                 в-              пере-   \n",
       "18             недо-             пред-              обез-              недо-   \n",
       "19               от-             обез-                вы-                вы-   \n",
       "20               до-               из-               воз-                 в-   \n",
       "21              при-                --                из-              обез-   \n",
       "22              над-                о-               без-               без-   \n",
       "23             пере-               вз-                 у-                из-   \n",
       "24              раз-              без-                 --                 --   \n",
       "25              под-              воз-               над-               воз-   \n",
       "\n",
       "   elmo_pre_to_sov elmo_sov_to_post elmo_pre_to_post  \n",
       "0            недо-            недо-            недо-  \n",
       "1              на-              на-              на-  \n",
       "2             при-             при-             при-  \n",
       "3             над-             над-             над-  \n",
       "4              до-              до-              до-  \n",
       "5             низ-             низ-             низ-  \n",
       "6             про-             про-             про-  \n",
       "7              вы-              вы-              вы-  \n",
       "8               у-               у-               у-  \n",
       "9              по-              по-              по-  \n",
       "10            под-             под-             под-  \n",
       "11            пре-             пре-             пре-  \n",
       "12           полу-            полу-            полу-  \n",
       "13             из-              из-              из-  \n",
       "14             от-              от-              от-  \n",
       "15            раз-             раз-             раз-  \n",
       "16             за-              за-              за-  \n",
       "17              о-               о-               о-  \n",
       "18             вз-              вз-              вз-  \n",
       "19           обез-            обез-            обез-  \n",
       "20           пере-            пере-            пере-  \n",
       "21              с-               с-               с-  \n",
       "22            воз-             воз-             воз-  \n",
       "23            без-             без-             без-  \n",
       "24              в-               в-               в-  \n",
       "25           пред-            пред-            пред-  "
      ]
     },
     "execution_count": 74,
     "metadata": {},
     "output_type": "execute_result"
    }
   ],
   "source": [
    "pref_ranged_df"
   ]
  },
  {
   "cell_type": "markdown",
   "id": "3f72721d",
   "metadata": {},
   "source": [
    "#### Кластеризация глаголов с помощью word2vec"
   ]
  },
  {
   "cell_type": "code",
   "execution_count": 75,
   "id": "cf1c158e",
   "metadata": {},
   "outputs": [],
   "source": [
    "w2v_presov_for_clust = {pref: [] for pref in prefixes}\n",
    "w2v_sov_for_clust = {pref: [] for pref in prefixes}\n",
    "w2v_postsov_for_clust = {pref: [] for pref in prefixes}\n",
    "\n",
    "for verb in pref_dict:\n",
    "    if verb['wv_presov'] is not None and verb['wv_sov'] is not None and verb['wv_postsov'] is not None:\n",
    "        w2v_presov_for_clust[verb['prefix']].append((verb['lemma'], verb['wv_presov']))\n",
    "        w2v_sov_for_clust[verb['prefix']].append((verb['lemma'], verb['wv_sov']))\n",
    "        w2v_postsov_for_clust[verb['prefix']].append((verb['lemma'], verb['wv_postsov']))"
   ]
  },
  {
   "cell_type": "markdown",
   "id": "8133fa6c",
   "metadata": {},
   "source": [
    "#### Смотрим на число кластеров"
   ]
  },
  {
   "cell_type": "code",
   "execution_count": 77,
   "id": "63bc8435",
   "metadata": {},
   "outputs": [
    {
     "data": {
      "application/vnd.jupyter.widget-view+json": {
       "model_id": "d2be3562d5a94b9e835893e1700887e3",
       "version_major": 2,
       "version_minor": 0
      },
      "text/plain": [
       "  0%|          | 0/26 [00:00<?, ?it/s]"
      ]
     },
     "metadata": {},
     "output_type": "display_data"
    }
   ],
   "source": [
    "num_clusters_affprop = {pref: [] for pref in prefixes}\n",
    "\n",
    "for pref in tqdm(num_clusters_affprop):\n",
    "    vectors = np.array([sent[-1] for sent in w2v_presov_for_clust[pref]])\n",
    "    affprop = AffinityPropagation(random_state=42).fit(vectors)\n",
    "    num_clusters_affprop[pref].append(len(affprop.cluster_centers_indices_))\n",
    "\n",
    "    vectors = np.array([sent[-1] for sent in w2v_sov_for_clust[pref]])\n",
    "    affprop = AffinityPropagation(random_state=42).fit(vectors)\n",
    "    num_clusters_affprop[pref].append(len(affprop.cluster_centers_indices_))\n",
    "\n",
    "    vectors = np.array([sent[-1] for sent in w2v_postsov_for_clust[pref]])\n",
    "    affprop = AffinityPropagation(random_state=42).fit(vectors)\n",
    "    num_clusters_affprop[pref].append(len(affprop.cluster_centers_indices_))"
   ]
  },
  {
   "cell_type": "code",
   "execution_count": 78,
   "id": "089ee5d8",
   "metadata": {},
   "outputs": [
    {
     "data": {
      "text/plain": [
       "{'бе[зс]': [4, 4, 4],\n",
       " 'в[зс]': [25, 23, 21],\n",
       " 'во?': [23, 25, 26],\n",
       " 'во[зс]': [22, 21, 0],\n",
       " 'вы': [55, 59, 53],\n",
       " 'до': [22, 24, 25],\n",
       " 'за': [105, 110, 99],\n",
       " 'и[зс]': [46, 44, 44],\n",
       " 'на': [67, 70, 0],\n",
       " 'над': [5, 5, 4],\n",
       " 'недо': [4, 5, 4],\n",
       " 'ни[зс]': [3, 3, 3],\n",
       " 'о': [99, 104, 96],\n",
       " 'обе[зс]': [7, 7, 5],\n",
       " 'от': [49, 51, 47],\n",
       " 'пере': [46, 48, 48],\n",
       " 'по': [113, 112, 116],\n",
       " 'под': [39, 41, 36],\n",
       " 'полу': [5, 4, 5],\n",
       " 'пре': [18, 15, 15],\n",
       " 'пред': [11, 12, 11],\n",
       " 'при': [50, 53, 53],\n",
       " 'про': [58, 57, 52],\n",
       " 'ра[зс]': [73, 77, 79],\n",
       " 'с': [79, 89, 74],\n",
       " 'у': [68, 67, 66]}"
      ]
     },
     "execution_count": 78,
     "metadata": {},
     "output_type": "execute_result"
    }
   ],
   "source": [
    "num_clusters_affprop"
   ]
  },
  {
   "cell_type": "code",
   "execution_count": 87,
   "id": "b6b3421f",
   "metadata": {},
   "outputs": [
    {
     "data": {
      "application/vnd.jupyter.widget-view+json": {
       "model_id": "0c5b48d7245244a98387646d2bb7a4f8",
       "version_major": 2,
       "version_minor": 0
      },
      "text/plain": [
       "  0%|          | 0/26 [00:00<?, ?it/s]"
      ]
     },
     "metadata": {},
     "output_type": "display_data"
    }
   ],
   "source": [
    "num_clusters_hcl = {pref: [] for pref in prefixes}\n",
    "\n",
    "for pref in tqdm(num_clusters_hcl):\n",
    "    vectors = np.array([sent[-1] for sent in w2v_presov_for_clust[pref]])\n",
    "    cl = hcluster.linkage(vectors)\n",
    "    clusters = hcluster.fcluster(cl, 1)\n",
    "    num_clusters_hcl[pref].append(len(set(clusters)))\n",
    "\n",
    "    vectors = np.array([sent[-1] for sent in w2v_sov_for_clust[pref]])\n",
    "    cl = hcluster.linkage(vectors)\n",
    "    clusters = hcluster.fcluster(cl, 1)\n",
    "    num_clusters_hcl[pref].append(len(set(clusters)))\n",
    "\n",
    "    vectors = np.array([sent[-1] for sent in w2v_postsov_for_clust[pref]])\n",
    "    cl = hcluster.linkage(vectors)\n",
    "    clusters = hcluster.fcluster(cl, 1)\n",
    "    num_clusters_hcl[pref].append(len(set(clusters)))"
   ]
  },
  {
   "cell_type": "code",
   "execution_count": 88,
   "id": "6d167c59",
   "metadata": {},
   "outputs": [
    {
     "data": {
      "text/plain": [
       "{'бе[зс]': [5, 1, 1],\n",
       " 'в[зс]': [78, 83, 74],\n",
       " 'во?': [80, 71, 73],\n",
       " 'во[зс]': [48, 59, 72],\n",
       " 'вы': [285, 276, 308],\n",
       " 'до': [99, 67, 93],\n",
       " 'за': [583, 561, 613],\n",
       " 'и[зс]': [133, 146, 142],\n",
       " 'на': [299, 296, 322],\n",
       " 'над': [1, 7, 1],\n",
       " 'недо': [7, 6, 8],\n",
       " 'ни[зс]': [1, 1, 7],\n",
       " 'о': [459, 465, 472],\n",
       " 'обе[зс]': [16, 1, 12],\n",
       " 'от': [241, 228, 230],\n",
       " 'пере': [217, 195, 217],\n",
       " 'по': [677, 630, 655],\n",
       " 'под': [130, 135, 144],\n",
       " 'полу': [10, 11, 7],\n",
       " 'пре': [20, 33, 32],\n",
       " 'пред': [24, 30, 37],\n",
       " 'при': [239, 234, 249],\n",
       " 'про': [312, 289, 298],\n",
       " 'ра[зс]': [385, 341, 347],\n",
       " 'с': [386, 374, 408],\n",
       " 'у': [236, 275, 244]}"
      ]
     },
     "execution_count": 88,
     "metadata": {},
     "output_type": "execute_result"
    }
   ],
   "source": [
    "num_clusters_hcl"
   ]
  },
  {
   "cell_type": "markdown",
   "id": "947495f8",
   "metadata": {},
   "source": [
    "#### Внимательнее смотрим на кластеры\n",
    "3, 5, 9, 11, 13"
   ]
  },
  {
   "cell_type": "code",
   "execution_count": 126,
   "id": "d0b7e634",
   "metadata": {},
   "outputs": [
    {
     "data": {
      "image/png": "[encoded data removed]",
      "text/plain": [
       "<Figure size 1440x504 with 1 Axes>"
      ]
     },
     "metadata": {
      "needs_background": "light"
     },
     "output_type": "display_data"
    }
   ],
   "source": [
    "idx = 13\n",
    "labels = [sent[0] for sent in w2v_presov_for_clust[prefixes[idx]]]\n",
    "vectors = np.array([sent[-1] for sent in w2v_presov_for_clust[prefixes[idx]]])\n",
    "\n",
    "cl = hcluster.linkage(vectors)\n",
    "plt.figure(figsize=(20, 7))\n",
    "dn = hcluster.dendrogram(cl)\n",
    "plt.show()"
   ]
  },
  {
   "cell_type": "code",
   "execution_count": 127,
   "id": "4a4ea6a8",
   "metadata": {},
   "outputs": [
    {
     "data": {
      "text/plain": [
       "16"
      ]
     },
     "execution_count": 127,
     "metadata": {},
     "output_type": "execute_result"
    }
   ],
   "source": [
    "clusters = hcluster.fcluster(cl, 1)\n",
    "len(set(clusters))"
   ]
  },
  {
   "cell_type": "code",
   "execution_count": 128,
   "id": "93f28020",
   "metadata": {},
   "outputs": [
    {
     "name": "stdout",
     "output_type": "stream",
     "text": [
      "1\n",
      "обезглавливать, обезображивать, обессмысливать\n",
      "6\n",
      "обезличивать, обезуметь, обеспамятеть, обессилевать, обессиливать\n"
     ]
    }
   ],
   "source": [
    "clusters_dict = {}\n",
    "\n",
    "for i, cluster in enumerate(clusters):\n",
    "    verb = labels[i]\n",
    "    vector = vectors[i]\n",
    "    labeled_vector = (verb, vector)\n",
    "    if cluster not in clusters_dict:\n",
    "        clusters_dict[cluster] = [labeled_vector]\n",
    "    else:\n",
    "        clusters_dict[cluster].append(labeled_vector)\n",
    "\n",
    "for cluster in clusters_dict:\n",
    "    elements = [el[0] for el in clusters_dict[cluster]]\n",
    "    if len(elements) > 2:\n",
    "        print(cluster)\n",
    "        print(', '.join(elements))"
   ]
  },
  {
   "cell_type": "code",
   "execution_count": 129,
   "id": "0e6285bc",
   "metadata": {},
   "outputs": [
    {
     "data": {
      "image/png": "[encoded data removed]",
      "text/plain": [
       "<Figure size 1440x504 with 1 Axes>"
      ]
     },
     "metadata": {
      "needs_background": "light"
     },
     "output_type": "display_data"
    }
   ],
   "source": [
    "idx = 13\n",
    "labels = [sent[0] for sent in w2v_sov_for_clust[prefixes[idx]]]\n",
    "vectors = np.array([sent[-1] for sent in w2v_sov_for_clust[prefixes[idx]]])\n",
    "\n",
    "cl = hcluster.linkage(vectors)\n",
    "plt.figure(figsize=(20, 7))\n",
    "dn = hcluster.dendrogram(cl)\n",
    "plt.show()"
   ]
  },
  {
   "cell_type": "code",
   "execution_count": 130,
   "id": "00d158b4",
   "metadata": {},
   "outputs": [
    {
     "data": {
      "text/plain": [
       "1"
      ]
     },
     "execution_count": 130,
     "metadata": {},
     "output_type": "execute_result"
    }
   ],
   "source": [
    "clusters = hcluster.fcluster(cl, 1)\n",
    "len(set(clusters))"
   ]
  },
  {
   "cell_type": "code",
   "execution_count": 131,
   "id": "5457fab5",
   "metadata": {},
   "outputs": [
    {
     "name": "stdout",
     "output_type": "stream",
     "text": [
      "1\n",
      "обезволивать, обезвреживать, обезглавливать, обездоливать, обеззараживать, обезличивать, обезличиваться, обезлюдеть, обезлюдить, обезножеть, обезножить, обезображивать, обезопасить, обезоруживать, обезуметь, обескровливать, обескураживать, обеспамятеть, обессилевать, обессиливать, обессмертить, обессмысливать, обесцвечивать, обесцвечиваться, обесценивать, обесцениваться, обесчещивать\n"
     ]
    }
   ],
   "source": [
    "clusters_dict = {}\n",
    "\n",
    "for i, cluster in enumerate(clusters):\n",
    "    verb = labels[i]\n",
    "    vector = vectors[i]\n",
    "    labeled_vector = (verb, vector)\n",
    "    if cluster not in clusters_dict:\n",
    "        clusters_dict[cluster] = [labeled_vector]\n",
    "    else:\n",
    "        clusters_dict[cluster].append(labeled_vector)\n",
    "\n",
    "for cluster in clusters_dict:\n",
    "    elements = [el[0] for el in clusters_dict[cluster]]\n",
    "    if len(elements) > 2:\n",
    "        print(cluster)\n",
    "        print(', '.join(elements))"
   ]
  },
  {
   "cell_type": "code",
   "execution_count": 132,
   "id": "f893455f",
   "metadata": {},
   "outputs": [
    {
     "data": {
      "image/png": "[encoded data removed]",
      "text/plain": [
       "<Figure size 1440x504 with 1 Axes>"
      ]
     },
     "metadata": {
      "needs_background": "light"
     },
     "output_type": "display_data"
    }
   ],
   "source": [
    "idx = 13\n",
    "labels = [sent[0] for sent in w2v_postsov_for_clust[prefixes[idx]]]\n",
    "vectors = np.array([sent[-1] for sent in w2v_postsov_for_clust[prefixes[idx]]])\n",
    "\n",
    "cl = hcluster.linkage(vectors)\n",
    "plt.figure(figsize=(20, 7))\n",
    "dn = hcluster.dendrogram(cl)\n",
    "plt.show()"
   ]
  },
  {
   "cell_type": "code",
   "execution_count": 133,
   "id": "d79464bb",
   "metadata": {},
   "outputs": [
    {
     "data": {
      "text/plain": [
       "12"
      ]
     },
     "execution_count": 133,
     "metadata": {},
     "output_type": "execute_result"
    }
   ],
   "source": [
    "clusters = hcluster.fcluster(cl, 1)\n",
    "len(set(clusters))"
   ]
  },
  {
   "cell_type": "code",
   "execution_count": 134,
   "id": "a0a6c5c6",
   "metadata": {},
   "outputs": [
    {
     "name": "stdout",
     "output_type": "stream",
     "text": [
      "1\n",
      "обезвреживать, обезопасить, обезоруживать, обескураживать\n",
      "3\n",
      "обезглавливать, обезображивать, обесцвечивать, обесцвечиваться\n",
      "4\n",
      "обездоливать, обезлюдеть, обезножеть, обезуметь, обескровливать, обессилевать, обессиливать\n",
      "2\n",
      "обессмысливать, обесценивать, обесцениваться\n"
     ]
    }
   ],
   "source": [
    "clusters_dict = {}\n",
    "\n",
    "for i, cluster in enumerate(clusters):\n",
    "    verb = labels[i]\n",
    "    vector = vectors[i]\n",
    "    labeled_vector = (verb, vector)\n",
    "    if cluster not in clusters_dict:\n",
    "        clusters_dict[cluster] = [labeled_vector]\n",
    "    else:\n",
    "        clusters_dict[cluster].append(labeled_vector)\n",
    "\n",
    "for cluster in clusters_dict:\n",
    "    elements = [el[0] for el in clusters_dict[cluster]]\n",
    "    if len(elements) > 2:\n",
    "        print(cluster)\n",
    "        print(', '.join(elements))"
   ]
  }
 ],
 "metadata": {
  "kernelspec": {
   "display_name": "Python 3 (ipykernel)",
   "language": "python",
   "name": "python3"
  },
  "language_info": {
   "codemirror_mode": {
    "name": "ipython",
    "version": 3
   },
   "file_extension": ".py",
   "mimetype": "text/x-python",
   "name": "python",
   "nbconvert_exporter": "python",
   "pygments_lexer": "ipython3",
   "version": "3.9.7"
  }
 },
 "nbformat": 4,
 "nbformat_minor": 5
}
