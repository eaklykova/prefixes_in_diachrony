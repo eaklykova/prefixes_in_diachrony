{
 "cells": [
  {
   "cell_type": "markdown",
   "id": "71d43126",
   "metadata": {},
   "source": [
    "# Микродиахроническое исследование русских приставок методами дистрибутивной семантики\n",
    "## Автор: Елизавета Клыкова, БКЛ181\n",
    "### Обучение fasttext-моделей"
   ]
  },
  {
   "cell_type": "markdown",
   "id": "ec35d73c",
   "metadata": {},
   "source": [
    "#### Импорт модулей"
   ]
  },
  {
   "cell_type": "code",
   "execution_count": 1,
   "id": "9ef9b41f",
   "metadata": {},
   "outputs": [],
   "source": [
    "%load_ext pycodestyle_magic\n",
    "%pycodestyle_on"
   ]
  },
  {
   "cell_type": "code",
   "execution_count": 2,
   "id": "bbbaf2dc",
   "metadata": {},
   "outputs": [],
   "source": [
    "import fasttext"
   ]
  },
  {
   "cell_type": "markdown",
   "id": "0628c431",
   "metadata": {},
   "source": [
    "#### Обучение моделей\n",
    "На тех же данных и с теми же параметрами, что и базовый word2vec (т.е. леммы без пунктуации). Алгоритм -- CBOW."
   ]
  },
  {
   "cell_type": "code",
   "execution_count": 3,
   "id": "6f66164e",
   "metadata": {},
   "outputs": [],
   "source": [
    "# досоветский период\n",
    "presov_ft_model = fasttext.train_unsupervised('word2vec_presov.txt',\n",
    "                                              model='cbow')"
   ]
  },
  {
   "cell_type": "code",
   "execution_count": 4,
   "id": "c510cb00",
   "metadata": {},
   "outputs": [
    {
     "data": {
      "text/plain": [
       "127657"
      ]
     },
     "execution_count": 4,
     "metadata": {},
     "output_type": "execute_result"
    }
   ],
   "source": [
    "len(presov_ft_model.words)"
   ]
  },
  {
   "cell_type": "code",
   "execution_count": 5,
   "id": "c49847ce",
   "metadata": {},
   "outputs": [],
   "source": [
    "presov_ft_model.save_model('fasttext_presov_lemmas.bin')"
   ]
  },
  {
   "cell_type": "code",
   "execution_count": 6,
   "id": "7663b089",
   "metadata": {},
   "outputs": [],
   "source": [
    "# советский период\n",
    "sov_ft_model = fasttext.train_unsupervised('word2vec_sov.txt',\n",
    "                                           model='cbow')"
   ]
  },
  {
   "cell_type": "code",
   "execution_count": 7,
   "id": "0d36891d",
   "metadata": {},
   "outputs": [
    {
     "data": {
      "text/plain": [
       "151891"
      ]
     },
     "execution_count": 7,
     "metadata": {},
     "output_type": "execute_result"
    }
   ],
   "source": [
    "len(sov_ft_model.words)"
   ]
  },
  {
   "cell_type": "code",
   "execution_count": 8,
   "id": "422e05e1",
   "metadata": {},
   "outputs": [],
   "source": [
    "sov_ft_model.save_model('fasttext_sov_lemmas.bin')"
   ]
  },
  {
   "cell_type": "code",
   "execution_count": 9,
   "id": "3039f229",
   "metadata": {},
   "outputs": [],
   "source": [
    "# постсоветский период\n",
    "postsov_ft_model = fasttext.train_unsupervised('word2vec_postsov.txt',\n",
    "                                               model='cbow')"
   ]
  },
  {
   "cell_type": "code",
   "execution_count": 10,
   "id": "0287392d",
   "metadata": {},
   "outputs": [
    {
     "data": {
      "text/plain": [
       "149618"
      ]
     },
     "execution_count": 10,
     "metadata": {},
     "output_type": "execute_result"
    }
   ],
   "source": [
    "len(postsov_ft_model.words)"
   ]
  },
  {
   "cell_type": "code",
   "execution_count": 11,
   "id": "922ca44e",
   "metadata": {},
   "outputs": [],
   "source": [
    "postsov_ft_model.save_model('fasttext_postsov_lemmas.bin')"
   ]
  }
 ],
 "metadata": {
  "kernelspec": {
   "display_name": "Python 3 (ipykernel)",
   "language": "python",
   "name": "python3"
  },
  "language_info": {
   "codemirror_mode": {
    "name": "ipython",
    "version": 3
   },
   "file_extension": ".py",
   "mimetype": "text/x-python",
   "name": "python",
   "nbconvert_exporter": "python",
   "pygments_lexer": "ipython3",
   "version": "3.9.7"
  }
 },
 "nbformat": 4,
 "nbformat_minor": 5
}
