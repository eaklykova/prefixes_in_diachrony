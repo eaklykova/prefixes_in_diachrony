{
 "cells": [
  {
   "cell_type": "markdown",
   "metadata": {},
   "source": [
    "# Микродиахроническое исследование русских приставок методами дистрибутивной семантики\n",
    "## Автор: Елизавета Клыкова, БКЛ181\n",
    "### Анализ результатов ELMo: кластеризация изменившихся глаголов"
   ]
  },
  {
   "cell_type": "markdown",
   "metadata": {},
   "source": [
    "#### Импорт модулей"
   ]
  },
  {
   "cell_type": "code",
   "execution_count": 1,
   "metadata": {
    "execution": {
     "iopub.execute_input": "2022-05-27T07:37:45.363151Z",
     "iopub.status.busy": "2022-05-27T07:37:45.362740Z",
     "iopub.status.idle": "2022-05-27T07:37:45.377470Z",
     "shell.execute_reply": "2022-05-27T07:37:45.376411Z",
     "shell.execute_reply.started": "2022-05-27T07:37:45.363073Z"
    }
   },
   "outputs": [],
   "source": [
    "# %load_ext pycodestyle_magic\n",
    "# %pycodestyle_on"
   ]
  },
  {
   "cell_type": "code",
   "execution_count": 2,
   "metadata": {
    "execution": {
     "iopub.execute_input": "2022-05-27T07:37:58.850129Z",
     "iopub.status.busy": "2022-05-27T07:37:58.847809Z",
     "iopub.status.idle": "2022-05-27T07:38:03.025558Z",
     "shell.execute_reply": "2022-05-27T07:38:03.024765Z",
     "shell.execute_reply.started": "2022-05-27T07:37:58.850092Z"
    }
   },
   "outputs": [],
   "source": [
    "import pickle\n",
    "import numpy as np\n",
    "from tqdm.auto import tqdm\n",
    "import scipy.cluster.hierarchy as hcluster\n",
    "from sklearn.cluster import AffinityPropagation as affprop\n",
    "import matplotlib.pyplot as plt"
   ]
  },
  {
   "cell_type": "markdown",
   "metadata": {},
   "source": [
    "#### Считываем файлы с эмбеддингами"
   ]
  },
  {
   "cell_type": "code",
   "execution_count": 3,
   "metadata": {},
   "outputs": [],
   "source": [
    "with open('presov_samples_clust.pickle', 'rb') as f:\n",
    "    presov_samples = pickle.load(f)"
   ]
  },
  {
   "cell_type": "code",
   "execution_count": 4,
   "metadata": {},
   "outputs": [],
   "source": [
    "with open('sov_samples_clust.pickle', 'rb') as f:\n",
    "    sov_samples = pickle.load(f)"
   ]
  },
  {
   "cell_type": "code",
   "execution_count": 5,
   "metadata": {},
   "outputs": [],
   "source": [
    "with open('postsov_samples_clust.pickle', 'rb') as f:\n",
    "    postsov_samples = pickle.load(f)"
   ]
  },
  {
   "cell_type": "code",
   "execution_count": 6,
   "metadata": {},
   "outputs": [],
   "source": [
    "verbs_to_search = ['заметать', 'постановлять', 'изготавливаться', 'наследовать', 'претерпеть', 'взводить', 'засылать', 'дозволять', 'устрашать', 'округлять']"
   ]
  },
  {
   "cell_type": "code",
   "execution_count": 7,
   "metadata": {},
   "outputs": [],
   "source": [
    "idx = 0\n",
    "presov_labels_0 = [''.join(sent[0]) for sent in presov_samples[verbs_to_search[idx]]]\n",
    "presov_vectors_0 = np.array([sent[-1] for sent in presov_samples[verbs_to_search[idx]]])"
   ]
  },
  {
   "cell_type": "code",
   "execution_count": 8,
   "metadata": {},
   "outputs": [
    {
     "data": {
      "image/png": "[encoded data removed]",
      "text/plain": [
       "<Figure size 1440x504 with 1 Axes>"
      ]
     },
     "metadata": {
      "needs_background": "light"
     },
     "output_type": "display_data"
    }
   ],
   "source": [
    "cl = hcluster.linkage(presov_vectors_0)\n",
    "plt.figure(figsize=(20, 7))\n",
    "dn = hcluster.dendrogram(cl)\n",
    "plt.show()"
   ]
  },
  {
   "cell_type": "code",
   "execution_count": 9,
   "metadata": {},
   "outputs": [
    {
     "data": {
      "text/plain": [
       "11"
      ]
     },
     "execution_count": 9,
     "metadata": {},
     "output_type": "execute_result"
    }
   ],
   "source": [
    "clusters = hcluster.fcluster(cl, 1.01)\n",
    "len(set(clusters))"
   ]
  },
  {
   "cell_type": "code",
   "execution_count": 10,
   "metadata": {},
   "outputs": [
    {
     "name": "stdout",
     "output_type": "stream",
     "text": [
      "5\n",
      "Я узнал уж после, что он рыбак и что, идучи поутру с пристани, наткнулся на меня нечаянно и, заметя, чего я еще дышу, ради Христа перенес меня к себе в избу.\n",
      "Наконец улан, которому я поручена была в смотрение, и имевший еще и теперь власть ментора, заметя, что на седле моем сакв нет и что лицо мое бледно, предложил мне три больших заплесневелых сухаря; я с радостью взяла их и положила в яму, полную дождевой воды, чтобы они несколько размокли.\n",
      "Отходит и, заметя, что мать говорит с Васильковым, выражает нетерпение)#.\n",
      "Англичанин, влюбленный в одну из них, увидя беду, тотчас кинулся с берега в озеро, нырнул и вытащил одну барыню; но, заметя, что это была не возлюбленная его, бросил ее опять в воду и нырнул еще раз, чтобы спасти настоящую.\n",
      "\n",
      "4\n",
      "Заметя нашу новопоявившуюся из леса колонну, неприятель направил на нее несколько орудий с кирпичных батарей (он превратил кирпичный завод в сильное полевое укрепление, употребя кирпичи на сделание шанцов и брустверов).\n",
      "Заметя, что хозяйка внимательно прислушивается к его словам, он почувствовал себя так же просто и свободно, как в добрые часу наедине с Евгенией, когда забывал, что она женщина.\n",
      "Заметя в нем охоту к войне, я предложил ему ехать со мною в армию.\n",
      "Заметя это, она растерялась, вертелась с конем по дороге и сначала не догадалась отпустить со смычка Карамку, который визжал и рвался на помощь к своему хозяину.\n",
      "В начале второй половины мая, в 1863 году, сижу я, задумавшись, на крылечке и верчу в голове, что же делать Как быть Заметя мое тяжелое раздумье и зная, в чем дело, кр мне тихонько подошел Алексей.\n",
      "\n",
      "1\n",
      "Ехали мы сравнительно довольно резво; но когда за версту до дому следовало проезжать через деревню Плоты, то, по причине страшных ухабов и развалов по заметенной снегом улице, пришлось ехать шагом.\n",
      "Пройдя опять несколько шагов, остановились и присели на заметенную снегом лавочку.\n",
      "Не старая еще баба идет, спотыкаясь, по заметенной дороге таким шагом, в котором видно, что идущий потерял уже всякое представление о какой бы то ни было цели.\n",
      "Но увидел нечаянно, когда раз вечером дядька нес его на руках в баню через глухой переулок, заметенный снежными сугробами.\n",
      "\n",
      "11\n",
      "Все это было помещено на дровни, мы сели на ящики и поехали обратно в деревню, а вьюга заметала наши следы.\n",
      "Из донесения его от 28 июля 1712 года видно, что он усмотрел на восточной стороне Колымы протянувшийся в море мыс, окруженный непроходимыми льдами, но не заметал никакого острова, и что жестокой погодой с моря отнесло его назад, причем он едва не погиб.\n",
      "Идет, головой кивает, бородой след заметает; как свистнет да топнет на своих на приказчиков -- ночи тьму затмили; а за работу принялись, так не только по горсти земли -- по зерну, по одной песчинке на брата не досталось!\n",
      "Был всего один след, да и тот замело вчерашним снегом.\n",
      "Словно вымер или ушел куда-нибудь весь народ; даже на улицах не было заметно ничьих следов; ветер, слегка подувавший по временам, замел песком колеи от проехавших колес и следы прохожих.\n",
      "Точно облачко вьюги набежало на нее, как на солнце, замело кружевными снежинками.\n",
      "Вьюга все следы заметет, никто не приметит их.\n",
      "Пускай еще по дерзостной привычке старой нахально машет черным знаменем своим над Русью Черномор, пускай и ступою гремит и помелом свой след Яга ехидно заметает, но в роковой тиши сбирается и крепнет русский дух.\n",
      "По захлебисто-частому лаю слышно было, что гонят матерого зайца и что он хитро путает следы, а собаки неотступно заметают его следы своими: не бросаются наперерез, не окружают его стаей, только вьют сзади его те же самые, его же путаные петли, и никуда он не уйдет от них, -- не может уйти: выбьется из сил и сядет, спрятав уши.\n",
      "Давно-ли замели -- И, не ожидая ответа, продолжал:- Плохо нашему брату жить стало.\n",
      "Круглое отверстие шахты-дудки было прикрыто хвоей, чтобы не замело снегом.\n",
      "Там хлопьями валится снег и заметает дорогу -- здесь меня греют твои объятия.\n",
      "Снег замел почти весь мост с высокими статуями и нежно ложился на плечи, голову и руки.\n",
      "По снегу бежит и хвостом за собой след заметает.\n",
      "Синяя поддевка, как шлейф юбки, заметала за ним след, и голубая дамская шляпа с павлиньим пером лезла на затылок.\n",
      "\n",
      "6\n",
      "В комнате Новикова было грязно и разбросано, как будто вихрь прошел по ней, заметя пол бумажками, соломой и всяким хламом.\n",
      "Колтышко, заметя из своего кабинета входящего Хвалынцева с Лесницким, сам пошел к ним навстречу и как знакомый, молча, но с милой, приветливой улыбкой протянул и радушно пожал руку студента.\n",
      "Орест, входившей в дверь с балкона из сада, заметя их, останавливается и прячется за косяком.)\n",
      "А-а, павлин растерял свои перья и обратился в простую ворону, -- неожиданно произнес, заметя ее появление, Андро.\n",
      "Видя, что никто не идет, Огарев, с большим присутствием духа, вынул из кармана ножик и трубку, разрезал сапог, потом закурил и пролежал так, кажется, до утра: Рано поутру прошел итальянец, знавший Огарева, и, хотя последний лежал не близко от дороги, итальянец стал всматриваться, а Огарев, заметя это, стал звать его.\n",
      "Кудимыч остановился в дверях, беглым взглядом окинул внутренность церкви и, заметя в толпе Федьку Хомяка, улыбнулся с таким злобным удовольствием, что Кирша дал себе честное слово -- спасти от напраслины невинного крестьянина и вывести на свежую воду подложного колдуна.\n",
      "Но, заметя его свирепые взгляды, она увидела, что он раздражен и что предметом этого раздражения была она.\n",
      "Его Светлость, заметя каждого из начальников и вообще всех подчиненных отличные деяния в пользу Отечества и прославления российского народа, оказанные в сражении 26-го числа, удостоверяет, что приятнейшая и с сердцем его согласующаяся обязанность есть представить Государю Императору каждого заслуги, и, что все вообще будут иметь воздаяние, соразмерное их трудам и усердию Начальник Главного штаба Ермолов.\n",
      "Профессор Гаврилов, заметя это, посадил меня подле старшего казенного студента Дмитревского, которому поручил за нами следить; вместе с тем его Гаврилова наняла мать приходить давать нам уроки на дому; сестре же Марье между тем профессор французской словесности Aviat давал вместе С нами уроки литературы, а Loustot -- рисования.\n",
      "Ты чего нас подслушиваешь -- погрозился он с пьяной улыбкой, заметя мой взгляд.\n",
      "Хозяин, заметя мое удивление, вывел меня в сени и молча показал на небольшую дверь, ведущую, как я думал, в сад.\n",
      "Тореадор! -- забасил на весь коридор пятиклассник Курицын, обладающий титаническим басом, и тотчас же смолк, осекся и нырнул за колонну, заметя невдалеке всем хорошо знакомую сухую и длинную фигуру директора.\n",
      "Господа, мы просим, чтоб речей не было, этого не желала покойница и не желаем мы, -- произнес Розанов, заметя у гражданина со стеариновою свечою какую-то тетрадку.\n",
      "\n",
      "\n",
      "2\n",
      "Не видите вы, что баба пришла просто следы замести Сына уже нет, его не вернуть, а любовник жив и в беде.\n",
      "Ты правду сказал, -- с задумчивым унынием говорила она, -- мы зашли далеко, а выхода нет: надо скорей расстаться и замести след прошлого.\n",
      "\n",
      "3\n",
      "И помянутой канал, которой из озера приведен был в город сперва, как он, Зотов, к городу пришел, велел заметать нарочно, дабы ис того озера воды в город не шло.\n",
      "Парижские цветочницы одного разбора с рыбными торговками (les poissardes) ; страшно не понравиться им; они в состоянии заметать вас грязью.\n",
      "\n",
      "9\n",
      "Снег летит по синеющим полянам и ложится сугробами, заметая несчастную Пралевку.\n",
      "Пойдемте, -- сказал дядюшка, покачиваясь с ноги на ногу и заметая змиеобразным движением платка свой след по паркету.\n",
      "\n",
      "\n",
      "\n"
     ]
    }
   ],
   "source": [
    "clusters_dict = {}\n",
    "\n",
    "for i, cluster in enumerate(clusters):\n",
    "    verb = presov_labels_0[i]\n",
    "    vector = presov_vectors_0[i]\n",
    "    labeled_vector = (verb, vector)\n",
    "    if cluster not in clusters_dict:\n",
    "        clusters_dict[cluster] = [labeled_vector]\n",
    "    else:\n",
    "        clusters_dict[cluster].append(labeled_vector)\n",
    "\n",
    "for cluster in clusters_dict:\n",
    "    elements = [el[0] for el in clusters_dict[cluster]]\n",
    "    if len(elements) > 1:\n",
    "        print(cluster)\n",
    "        for element in elements:\n",
    "            print(element)\n",
    "    print()"
   ]
  }
 ],
 "metadata": {
  "kernelspec": {
   "display_name": "Python 3 (ipykernel)",
   "language": "python",
   "name": "python3"
  },
  "language_info": {
   "codemirror_mode": {
    "name": "ipython",
    "version": 3
   },
   "file_extension": ".py",
   "mimetype": "text/x-python",
   "name": "python",
   "nbconvert_exporter": "python",
   "pygments_lexer": "ipython3",
   "version": "3.9.7"
  }
 },
 "nbformat": 4,
 "nbformat_minor": 4
}
