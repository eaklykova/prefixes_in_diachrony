{
 "cells": [
  {
   "cell_type": "markdown",
   "id": "3a133453",
   "metadata": {},
   "source": [
    "# Микродиахроническое исследование русских приставок методами дистрибутивной семантики\n",
    "## Автор: Елизавета Клыкова, БКЛ181\n",
    "### Подготовка данных\n",
    "1. Считать предложения из файлов\n",
    "2. Удалить дубли\n",
    "3. Удалить мусор (пустые предложения, предложения из пунктуации, предложения не на русском)\n",
    "4. Очистить от лишних символов слева\n",
    "5. Лемматизировать и получить частеречные теги (Mystem)\n",
    "6. Сохранить все в файлы .json"
   ]
  },
  {
   "cell_type": "markdown",
   "id": "7cd19ae2",
   "metadata": {},
   "source": [
    "#### Импорт модулей"
   ]
  },
  {
   "cell_type": "code",
   "execution_count": 1,
   "id": "136602c1",
   "metadata": {},
   "outputs": [],
   "source": [
    "%load_ext pycodestyle_magic\n",
    "%pycodestyle_on"
   ]
  },
  {
   "cell_type": "code",
   "execution_count": 2,
   "id": "87500667",
   "metadata": {},
   "outputs": [],
   "source": [
    "import re\n",
    "import os\n",
    "import json\n",
    "import math\n",
    "import jsonlines\n",
    "from tqdm.auto import tqdm\n",
    "from string import punctuation"
   ]
  },
  {
   "cell_type": "markdown",
   "id": "8a9ed654",
   "metadata": {},
   "source": [
    "#### Открываем и считываем файлы"
   ]
  },
  {
   "cell_type": "code",
   "execution_count": 3,
   "id": "62eda2c2",
   "metadata": {},
   "outputs": [
    {
     "data": {
      "text/plain": [
       "5247428"
      ]
     },
     "execution_count": 3,
     "metadata": {},
     "output_type": "execute_result"
    }
   ],
   "source": [
    "with open('rnc_pre-soviet.txt', encoding='utf-8') as f1:\n",
    "    pre_soviet = [line.strip() for line in f1.readlines()]\n",
    "\n",
    "len(pre_soviet)  # длина в предложениях"
   ]
  },
  {
   "cell_type": "code",
   "execution_count": 4,
   "id": "2b9d8ce8",
   "metadata": {},
   "outputs": [
    {
     "data": {
      "text/plain": [
       "4457762"
      ]
     },
     "execution_count": 4,
     "metadata": {},
     "output_type": "execute_result"
    }
   ],
   "source": [
    "presov = list(set(pre_soviet))\n",
    "len(presov)  # число уникальных предложений"
   ]
  },
  {
   "cell_type": "markdown",
   "id": "23ced62e",
   "metadata": {},
   "source": [
    "#### Чистим датасеты"
   ]
  },
  {
   "cell_type": "code",
   "execution_count": 5,
   "id": "092c9e46",
   "metadata": {},
   "outputs": [],
   "source": [
    "punct = punctuation + '«»…– '"
   ]
  },
  {
   "cell_type": "code",
   "execution_count": 6,
   "id": "09311e03",
   "metadata": {},
   "outputs": [],
   "source": [
    "def clean_sentences(sentences):\n",
    "    clean_sents = []\n",
    "    for sent in tqdm(sentences):\n",
    "        # убираем переносы строки\n",
    "        sent = sent.replace('\\n', '')\n",
    "        # убираем пустые и мусорные предложения\n",
    "        if re.search(r'[а-яА-ЯёЁ]', sent):\n",
    "            # обрезаем пунктуацию с левого края\n",
    "            clean_sents.append(sent.lstrip(punct))\n",
    "    return clean_sents"
   ]
  },
  {
   "cell_type": "code",
   "execution_count": 7,
   "id": "fd397f0e",
   "metadata": {},
   "outputs": [
    {
     "data": {
      "application/vnd.jupyter.widget-view+json": {
       "model_id": "b2b9e13f981f4b69a06cffc64d30661c",
       "version_major": 2,
       "version_minor": 0
      },
      "text/plain": [
       "  0%|          | 0/4457762 [00:00<?, ?it/s]"
      ]
     },
     "metadata": {},
     "output_type": "display_data"
    },
    {
     "data": {
      "text/plain": [
       "4448941"
      ]
     },
     "execution_count": 7,
     "metadata": {},
     "output_type": "execute_result"
    }
   ],
   "source": [
    "clean_presov = clean_sentences(presov)\n",
    "len(clean_presov)"
   ]
  },
  {
   "cell_type": "markdown",
   "id": "32d4eece",
   "metadata": {},
   "source": [
    "#### Лемматизируем"
   ]
  },
  {
   "cell_type": "code",
   "execution_count": 8,
   "id": "12bc8e01",
   "metadata": {},
   "outputs": [],
   "source": [
    "def parse_with_mystem(input_fname, output_fname, sentences):\n",
    "\n",
    "    with open(input_fname, 'w', encoding='utf-8') as f:\n",
    "        f.write('\\n'.join(sentences))\n",
    "\n",
    "    # -с -- полнотекстовое представление\n",
    "    # -i -- грамматическая информация\n",
    "    # -g -- склеивание грамматической информации\n",
    "    # -d -- снятие омонимии\n",
    "    os.system(\n",
    "        r'.\\mystem.exe -cigd --format json {} {}'.format(\n",
    "            input_fname, output_fname))"
   ]
  },
  {
   "cell_type": "code",
   "execution_count": 9,
   "id": "f22d2f11",
   "metadata": {},
   "outputs": [],
   "source": [
    "def parse_batches(input_prefix, output_prefix, sentences,\n",
    "                  batch_len=500000):\n",
    "\n",
    "    num_batches = math.ceil(len(sentences) / batch_len)\n",
    "\n",
    "    for i in tqdm(range(num_batches)):\n",
    "\n",
    "        print(f'Processing batch {i}...')\n",
    "        start_index = i * batch_len\n",
    "        end_index = (i + 1) * batch_len\n",
    "        if end_index > len(sentences):\n",
    "            end_index = len(sentences)\n",
    "\n",
    "        # лемматизация\n",
    "        parse_with_mystem(f'{input_prefix}{i}.txt',\n",
    "                          f'{output_prefix}{i}.json',\n",
    "                          sentences[start_index:end_index])\n",
    "        print()"
   ]
  },
  {
   "cell_type": "code",
   "execution_count": 10,
   "id": "50d0e558",
   "metadata": {},
   "outputs": [
    {
     "data": {
      "application/vnd.jupyter.widget-view+json": {
       "model_id": "96332aa393534e17842a9587327aeaf7",
       "version_major": 2,
       "version_minor": 0
      },
      "text/plain": [
       "  0%|          | 0/9 [00:00<?, ?it/s]"
      ]
     },
     "metadata": {},
     "output_type": "display_data"
    },
    {
     "name": "stdout",
     "output_type": "stream",
     "text": [
      "Processing batch 0...\n",
      "\n",
      "Processing batch 1...\n",
      "\n",
      "Processing batch 2...\n",
      "\n",
      "Processing batch 3...\n",
      "\n",
      "Processing batch 4...\n",
      "\n",
      "Processing batch 5...\n",
      "\n",
      "Processing batch 6...\n",
      "\n",
      "Processing batch 7...\n",
      "\n",
      "Processing batch 8...\n",
      "\n"
     ]
    }
   ],
   "source": [
    "parse_batches('presov', 'presov_lem', clean_presov)"
   ]
  },
  {
   "cell_type": "markdown",
   "id": "040cea67",
   "metadata": {},
   "source": [
    "#### Освобождаем память и повторяем для оставшихся двух периодов"
   ]
  },
  {
   "cell_type": "code",
   "execution_count": 11,
   "id": "5a71edf4",
   "metadata": {},
   "outputs": [],
   "source": [
    "del clean_presov"
   ]
  },
  {
   "cell_type": "markdown",
   "id": "40c52697",
   "metadata": {},
   "source": [
    "**Советский**"
   ]
  },
  {
   "cell_type": "code",
   "execution_count": 12,
   "id": "08d0cdbc",
   "metadata": {},
   "outputs": [
    {
     "data": {
      "text/plain": [
       "8068459"
      ]
     },
     "execution_count": 12,
     "metadata": {},
     "output_type": "execute_result"
    }
   ],
   "source": [
    "with open('rnc_soviet.txt', encoding='utf-8') as f2:\n",
    "    soviet = [line.strip() for line in f2.readlines()]\n",
    "\n",
    "len(soviet)"
   ]
  },
  {
   "cell_type": "code",
   "execution_count": 13,
   "id": "2dc625dc",
   "metadata": {},
   "outputs": [
    {
     "data": {
      "text/plain": [
       "7040411"
      ]
     },
     "execution_count": 13,
     "metadata": {},
     "output_type": "execute_result"
    }
   ],
   "source": [
    "sov = list(set(soviet))\n",
    "len(sov)"
   ]
  },
  {
   "cell_type": "code",
   "execution_count": 14,
   "id": "51fb80a8",
   "metadata": {},
   "outputs": [
    {
     "data": {
      "application/vnd.jupyter.widget-view+json": {
       "model_id": "7eb7b84c210c499ab0dfe8b0ac6ae3f3",
       "version_major": 2,
       "version_minor": 0
      },
      "text/plain": [
       "  0%|          | 0/7040411 [00:00<?, ?it/s]"
      ]
     },
     "metadata": {},
     "output_type": "display_data"
    },
    {
     "data": {
      "text/plain": [
       "7033181"
      ]
     },
     "execution_count": 14,
     "metadata": {},
     "output_type": "execute_result"
    }
   ],
   "source": [
    "clean_sov = clean_sentences(sov)\n",
    "len(clean_sov)"
   ]
  },
  {
   "cell_type": "code",
   "execution_count": 15,
   "id": "df5539ac",
   "metadata": {},
   "outputs": [
    {
     "data": {
      "application/vnd.jupyter.widget-view+json": {
       "model_id": "31872db8a93a4d2683bc5bcb14b4da79",
       "version_major": 2,
       "version_minor": 0
      },
      "text/plain": [
       "  0%|          | 0/15 [00:00<?, ?it/s]"
      ]
     },
     "metadata": {},
     "output_type": "display_data"
    },
    {
     "name": "stdout",
     "output_type": "stream",
     "text": [
      "Processing batch 0...\n",
      "\n",
      "Processing batch 1...\n",
      "\n",
      "Processing batch 2...\n",
      "\n",
      "Processing batch 3...\n",
      "\n",
      "Processing batch 4...\n",
      "\n",
      "Processing batch 5...\n",
      "\n",
      "Processing batch 6...\n",
      "\n",
      "Processing batch 7...\n",
      "\n",
      "Processing batch 8...\n",
      "\n",
      "Processing batch 9...\n",
      "\n",
      "Processing batch 10...\n",
      "\n",
      "Processing batch 11...\n",
      "\n",
      "Processing batch 12...\n",
      "\n",
      "Processing batch 13...\n",
      "\n",
      "Processing batch 14...\n",
      "\n"
     ]
    }
   ],
   "source": [
    "parse_batches('sov', 'sov_lem', clean_sov)"
   ]
  },
  {
   "cell_type": "code",
   "execution_count": 16,
   "id": "91a47e01",
   "metadata": {},
   "outputs": [],
   "source": [
    "del clean_sov"
   ]
  },
  {
   "cell_type": "markdown",
   "id": "844c8053",
   "metadata": {},
   "source": [
    "**Пост-советский**"
   ]
  },
  {
   "cell_type": "code",
   "execution_count": 17,
   "id": "cca64f3b",
   "metadata": {},
   "outputs": [
    {
     "data": {
      "text/plain": [
       "6569778"
      ]
     },
     "execution_count": 17,
     "metadata": {},
     "output_type": "execute_result"
    }
   ],
   "source": [
    "with open('rnc_post-soviet.txt', encoding='utf-8') as f3:\n",
    "    post_soviet = [line.strip() for line in f3.readlines()]\n",
    "\n",
    "len(post_soviet)"
   ]
  },
  {
   "cell_type": "code",
   "execution_count": 18,
   "id": "c521efca",
   "metadata": {},
   "outputs": [
    {
     "data": {
      "text/plain": [
       "5878273"
      ]
     },
     "execution_count": 18,
     "metadata": {},
     "output_type": "execute_result"
    }
   ],
   "source": [
    "postsov = list(set(post_soviet))\n",
    "len(postsov)"
   ]
  },
  {
   "cell_type": "code",
   "execution_count": 19,
   "id": "b13fb76e",
   "metadata": {},
   "outputs": [
    {
     "data": {
      "application/vnd.jupyter.widget-view+json": {
       "model_id": "cd801064f911480baedaf84e4f74972c",
       "version_major": 2,
       "version_minor": 0
      },
      "text/plain": [
       "  0%|          | 0/5878273 [00:00<?, ?it/s]"
      ]
     },
     "metadata": {},
     "output_type": "display_data"
    },
    {
     "data": {
      "text/plain": [
       "5853824"
      ]
     },
     "execution_count": 19,
     "metadata": {},
     "output_type": "execute_result"
    }
   ],
   "source": [
    "clean_postsov = clean_sentences(postsov)\n",
    "len(clean_postsov)"
   ]
  },
  {
   "cell_type": "code",
   "execution_count": 20,
   "id": "1c8fe981",
   "metadata": {},
   "outputs": [
    {
     "data": {
      "application/vnd.jupyter.widget-view+json": {
       "model_id": "40bfb66c912444f7a3f63ac9dd08e404",
       "version_major": 2,
       "version_minor": 0
      },
      "text/plain": [
       "  0%|          | 0/12 [00:00<?, ?it/s]"
      ]
     },
     "metadata": {},
     "output_type": "display_data"
    },
    {
     "name": "stdout",
     "output_type": "stream",
     "text": [
      "Processing batch 0...\n",
      "\n",
      "Processing batch 1...\n",
      "\n",
      "Processing batch 2...\n",
      "\n",
      "Processing batch 3...\n",
      "\n",
      "Processing batch 4...\n",
      "\n",
      "Processing batch 5...\n",
      "\n",
      "Processing batch 6...\n",
      "\n",
      "Processing batch 7...\n",
      "\n",
      "Processing batch 8...\n",
      "\n",
      "Processing batch 9...\n",
      "\n",
      "Processing batch 10...\n",
      "\n",
      "Processing batch 11...\n",
      "\n"
     ]
    }
   ],
   "source": [
    "parse_batches('postsov', 'postsov_lem', clean_postsov)"
   ]
  },
  {
   "cell_type": "code",
   "execution_count": 21,
   "id": "5ce2c5f5",
   "metadata": {},
   "outputs": [],
   "source": [
    "del clean_postsov"
   ]
  },
  {
   "cell_type": "markdown",
   "id": "72e63cad",
   "metadata": {},
   "source": [
    "#### Делим файлы, т.к. они оказались слишком большими"
   ]
  },
  {
   "cell_type": "code",
   "execution_count": null,
   "id": "546566d9",
   "metadata": {},
   "outputs": [],
   "source": [
    "presov_files, sov_files, postsov_files = [], [], []\n",
    "\n",
    "for fname in os.listdir():\n",
    "    if fname.startswith('presov_lem'):\n",
    "        presov_files.append(fname)\n",
    "    elif fname.startswith('sov_lem'):\n",
    "        sov_files.append(fname)\n",
    "    elif fname.startswith('postsov_lem'):\n",
    "        postsov_files.append(fname)"
   ]
  },
  {
   "cell_type": "code",
   "execution_count": null,
   "id": "a6c447f6",
   "metadata": {},
   "outputs": [],
   "source": [
    "all_files = presov_files + sov_files + postsov_files"
   ]
  },
  {
   "cell_type": "code",
   "execution_count": null,
   "id": "7550eba3",
   "metadata": {},
   "outputs": [],
   "source": [
    "def read_mystem_results(filename):\n",
    "    print('Loading file {}...'.format(filename))\n",
    "    with open(filename, encoding='utf-8') as f:\n",
    "        lines = []\n",
    "        for line in f.readlines():\n",
    "            lines.append(json.loads(line))\n",
    "    print('File {} loaded successfully!'.format(filename))\n",
    "    return lines"
   ]
  },
  {
   "cell_type": "code",
   "execution_count": null,
   "id": "db3a04a7",
   "metadata": {},
   "outputs": [],
   "source": [
    "for filename in all_files:\n",
    "    lines = read_mystem_results(filename)\n",
    "    newfile1 = filename.split('.')[0] + '_1' + '.json'\n",
    "    newfile2 = filename.split('.')[0] + '_2' + '.json'\n",
    "    with jsonlines.open(newfile1, 'w') as writer:\n",
    "        writer.write_all(lines[0:250000])\n",
    "    with jsonlines.open(newfile2, 'w') as writer:\n",
    "        writer.write_all(lines[250000:])\n",
    "    del lines"
   ]
  }
 ],
 "metadata": {
  "kernelspec": {
   "display_name": "Python 3 (ipykernel)",
   "language": "python",
   "name": "python3"
  },
  "language_info": {
   "codemirror_mode": {
    "name": "ipython",
    "version": 3
   },
   "file_extension": ".py",
   "mimetype": "text/x-python",
   "name": "python",
   "nbconvert_exporter": "python",
   "pygments_lexer": "ipython3",
   "version": "3.9.7"
  }
 },
 "nbformat": 4,
 "nbformat_minor": 5
}
