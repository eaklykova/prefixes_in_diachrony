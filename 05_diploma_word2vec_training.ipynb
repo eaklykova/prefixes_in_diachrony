{
 "cells": [
  {
   "cell_type": "markdown",
   "id": "3a133453",
   "metadata": {},
   "source": [
    "# Микродиахроническое исследование русских приставок методами дистрибутивной семантики\n",
    "## Автор: Елизавета Клыкова, БКЛ181\n",
    "### Часть 5: обучение word2vec-моделей для каждого периода\n",
    "1. Выбрать из базы предложения нужных периодов\n",
    "2. Записать их лемматизированные представления в соответствующие файлы, каждое предложение с новой строки\n",
    "3. Обучить word2vec-эмбеддинги"
   ]
  },
  {
   "cell_type": "markdown",
   "id": "7cd19ae2",
   "metadata": {},
   "source": [
    "#### Импорт модулей"
   ]
  },
  {
   "cell_type": "code",
   "execution_count": 1,
   "id": "136602c1",
   "metadata": {},
   "outputs": [],
   "source": [
    "%load_ext pycodestyle_magic\n",
    "%pycodestyle_on"
   ]
  },
  {
   "cell_type": "code",
   "execution_count": 2,
   "id": "87500667",
   "metadata": {},
   "outputs": [],
   "source": [
    "import gensim\n",
    "import pymongo\n",
    "from tqdm.auto import tqdm\n",
    "from collections import Counter\n",
    "# import warnings\n",
    "# warnings.filterwarnings(\"ignore\")"
   ]
  },
  {
   "cell_type": "markdown",
   "id": "e5f69938",
   "metadata": {},
   "source": [
    "**Подключение к базе**"
   ]
  },
  {
   "cell_type": "code",
   "execution_count": 3,
   "id": "26ec1049",
   "metadata": {},
   "outputs": [
    {
     "data": {
      "text/plain": [
       "Database(MongoClient(host=['localhost:27017'], document_class=dict, tz_aware=False, connect=True), 'thesis')"
      ]
     },
     "execution_count": 3,
     "metadata": {},
     "output_type": "execute_result"
    }
   ],
   "source": [
    "client = pymongo.MongoClient('localhost', 27017)\n",
    "db = client['thesis']\n",
    "# fs = gridfs.GridFS(db)\n",
    "db"
   ]
  },
  {
   "cell_type": "code",
   "execution_count": 4,
   "id": "712edd64",
   "metadata": {},
   "outputs": [],
   "source": [
    "sentences = db.sentences\n",
    "lemmas = db.lemmas\n",
    "tokens = db.tokens"
   ]
  },
  {
   "cell_type": "markdown",
   "id": "296f82bd",
   "metadata": {},
   "source": [
    "#### Запись лемматизированных предложений в файлы\n",
    "Досоветский период (4,4 млн)"
   ]
  },
  {
   "cell_type": "code",
   "execution_count": 14,
   "id": "4a501709",
   "metadata": {},
   "outputs": [
    {
     "data": {
      "application/vnd.jupyter.widget-view+json": {
       "model_id": "e3bcd8a8942c408aad750fc1242db0d9",
       "version_major": 2,
       "version_minor": 0
      },
      "text/plain": [
       "0it [00:00, ?it/s]"
      ]
     },
     "metadata": {},
     "output_type": "display_data"
    }
   ],
   "source": [
    "with open('word2vec_presov.txt', 'w', encoding='utf-8') as f_pr:\n",
    "    for sentence in tqdm(sentences.find({'period': 0},\n",
    "                                        {'token_info': True, '_id': False})):\n",
    "        lem_list = [token['lemma'] for token in sentence['token_info']\n",
    "                    if token['pos'] != 'PUNCT' or ' ' in token['token']]\n",
    "        lem_sent = ''.join(lem_list)\n",
    "        f_pr.write(f'{lem_sent}\\n')"
   ]
  },
  {
   "cell_type": "markdown",
   "id": "50e5fba3",
   "metadata": {},
   "source": [
    "Советский период (7 млн)"
   ]
  },
  {
   "cell_type": "code",
   "execution_count": 5,
   "id": "9e3ce936",
   "metadata": {},
   "outputs": [
    {
     "data": {
      "application/vnd.jupyter.widget-view+json": {
       "model_id": "e6d054b830d04a1e96073c1cffbdec27",
       "version_major": 2,
       "version_minor": 0
      },
      "text/plain": [
       "0it [00:00, ?it/s]"
      ]
     },
     "metadata": {},
     "output_type": "display_data"
    }
   ],
   "source": [
    "with open('word2vec_sov.txt', 'w', encoding='utf-8') as f_s:\n",
    "    for sentence in tqdm(sentences.find({'period': 1},\n",
    "                                        {'token_info': True, '_id': False})):\n",
    "        lem_list = [token['lemma'] for token in sentence['token_info']\n",
    "                    if token['pos'] != 'PUNCT' or ' ' in token['token']]\n",
    "        lem_sent = ''.join(lem_list)\n",
    "        f_s.write(f'{lem_sent}\\n')"
   ]
  },
  {
   "cell_type": "markdown",
   "id": "4214bd15",
   "metadata": {},
   "source": [
    "Постсоветский период (5,8 млн)"
   ]
  },
  {
   "cell_type": "code",
   "execution_count": 6,
   "id": "57b3cd4e",
   "metadata": {},
   "outputs": [
    {
     "data": {
      "application/vnd.jupyter.widget-view+json": {
       "model_id": "b8907b1aa2c24cf1ba90315f95b10b23",
       "version_major": 2,
       "version_minor": 0
      },
      "text/plain": [
       "0it [00:00, ?it/s]"
      ]
     },
     "metadata": {},
     "output_type": "display_data"
    }
   ],
   "source": [
    "with open('word2vec_postsov.txt', 'w', encoding='utf-8') as f_ps:\n",
    "    for sentence in tqdm(sentences.find({'period': 2},\n",
    "                                        {'token_info': True, '_id': False})):\n",
    "        lem_list = [token['lemma'] for token in sentence['token_info']\n",
    "                    if token['pos'] != 'PUNCT' or ' ' in token['token']]\n",
    "        lem_sent = ''.join(lem_list)\n",
    "        f_ps.write(f'{lem_sent}\\n')"
   ]
  },
  {
   "cell_type": "markdown",
   "id": "a109c7fc",
   "metadata": {},
   "source": [
    "#### Обучение моделей"
   ]
  },
  {
   "cell_type": "code",
   "execution_count": 7,
   "id": "1ef70e2e",
   "metadata": {},
   "outputs": [],
   "source": [
    "def train_word2vec_model(file_for_model, size=300, window=5,\n",
    "                         min_count=5, iterations=50):\n",
    "    data = gensim.models.word2vec.LineSentence(file_for_model)\n",
    "    model = gensim.models.Word2Vec(data, size=size, window=window,\n",
    "                                   min_count=min_count, iter=iterations)\n",
    "    return model"
   ]
  },
  {
   "cell_type": "code",
   "execution_count": 8,
   "id": "67b9ac54",
   "metadata": {},
   "outputs": [],
   "source": [
    "def save_word2vec_model(model, file_with_model, binary=True):\n",
    "    model.init_sims(replace=True)\n",
    "    model.wv.save_word2vec_format(file_with_model, binary=binary)"
   ]
  },
  {
   "cell_type": "code",
   "execution_count": 9,
   "id": "ce6c4bc9",
   "metadata": {},
   "outputs": [],
   "source": [
    "def load_word2vec_model(file_with_model):\n",
    "    model = gensim.models.KeyedVectors.load_word2vec_format(file_with_model,\n",
    "                                                            binary=False)\n",
    "    print('Размер словаря:', len(model.wv.vocab))\n",
    "    return model"
   ]
  },
  {
   "cell_type": "markdown",
   "id": "bf01efee",
   "metadata": {},
   "source": [
    "Досоветский период"
   ]
  },
  {
   "cell_type": "code",
   "execution_count": 10,
   "id": "b8c9b8b0",
   "metadata": {},
   "outputs": [],
   "source": [
    "presov_w2v_model = train_word2vec_model('word2vec_presov.txt')"
   ]
  },
  {
   "cell_type": "code",
   "execution_count": 11,
   "id": "b120d797",
   "metadata": {},
   "outputs": [],
   "source": [
    "save_word2vec_model(presov_w2v_model, 'word2vec_presov_lemmas.bin')"
   ]
  },
  {
   "cell_type": "code",
   "execution_count": 13,
   "id": "ca5f8a0b",
   "metadata": {},
   "outputs": [
    {
     "data": {
      "text/plain": [
       "127656"
      ]
     },
     "execution_count": 13,
     "metadata": {},
     "output_type": "execute_result"
    }
   ],
   "source": [
    "len(presov_w2v_model.wv.vocab)"
   ]
  },
  {
   "cell_type": "markdown",
   "id": "74b7b569",
   "metadata": {},
   "source": [
    "Советский период"
   ]
  },
  {
   "cell_type": "code",
   "execution_count": 14,
   "id": "ff9dd402",
   "metadata": {},
   "outputs": [],
   "source": [
    "sov_w2v_model = train_word2vec_model('word2vec_sov.txt')"
   ]
  },
  {
   "cell_type": "code",
   "execution_count": 15,
   "id": "3ebcc2d3",
   "metadata": {},
   "outputs": [],
   "source": [
    "save_word2vec_model(sov_w2v_model, 'word2vec_sov_lemmas.bin')"
   ]
  },
  {
   "cell_type": "code",
   "execution_count": 16,
   "id": "75c37dc7",
   "metadata": {},
   "outputs": [
    {
     "data": {
      "text/plain": [
       "151890"
      ]
     },
     "execution_count": 16,
     "metadata": {},
     "output_type": "execute_result"
    }
   ],
   "source": [
    "len(sov_w2v_model.wv.vocab)"
   ]
  },
  {
   "cell_type": "markdown",
   "id": "5b9d720a",
   "metadata": {},
   "source": [
    "Постсоветский период"
   ]
  },
  {
   "cell_type": "code",
   "execution_count": 17,
   "id": "1ac13742",
   "metadata": {},
   "outputs": [],
   "source": [
    "postsov_w2v_model = train_word2vec_model('word2vec_postsov.txt')"
   ]
  },
  {
   "cell_type": "code",
   "execution_count": 18,
   "id": "13ffcac7",
   "metadata": {},
   "outputs": [],
   "source": [
    "save_word2vec_model(postsov_w2v_model, 'word2vec_postsov_lemmas.bin')"
   ]
  },
  {
   "cell_type": "code",
   "execution_count": 19,
   "id": "a3ed7706",
   "metadata": {},
   "outputs": [
    {
     "data": {
      "text/plain": [
       "149617"
      ]
     },
     "execution_count": 19,
     "metadata": {},
     "output_type": "execute_result"
    }
   ],
   "source": [
    "len(postsov_w2v_model.wv.vocab)"
   ]
  }
 ],
 "metadata": {
  "kernelspec": {
   "display_name": "Python 3 (ipykernel)",
   "language": "python",
   "name": "python3"
  },
  "language_info": {
   "codemirror_mode": {
    "name": "ipython",
    "version": 3
   },
   "file_extension": ".py",
   "mimetype": "text/x-python",
   "name": "python",
   "nbconvert_exporter": "python",
   "pygments_lexer": "ipython3",
   "version": "3.9.7"
  }
 },
 "nbformat": 4,
 "nbformat_minor": 5
}
