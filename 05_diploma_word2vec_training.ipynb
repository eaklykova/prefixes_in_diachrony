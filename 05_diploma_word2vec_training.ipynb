{
 "cells": [
  {
   "cell_type": "markdown",
   "id": "3a133453",
   "metadata": {},
   "source": [
    "# Микродиахроническое исследование русских приставок методами дистрибутивной семантики\n",
    "## Автор: Елизавета Клыкова, БКЛ181\n",
    "### Часть 5: обучение word2vec-моделей для каждого периода\n",
    "1. Выбрать из базы предложения нужных периодов\n",
    "2. Записать их лемматизированные представления в соответствующие файлы, каждое предложение с новой строки\n",
    "3. Обучить word2vec-эмбеддинги\n",
    "4. Повторить для лемм с приклеенными частями речи"
   ]
  },
  {
   "cell_type": "markdown",
   "id": "7cd19ae2",
   "metadata": {},
   "source": [
    "#### Импорт модулей"
   ]
  },
  {
   "cell_type": "code",
   "execution_count": 1,
   "id": "136602c1",
   "metadata": {},
   "outputs": [],
   "source": [
    "%load_ext pycodestyle_magic\n",
    "%pycodestyle_on"
   ]
  },
  {
   "cell_type": "code",
   "execution_count": 2,
   "id": "87500667",
   "metadata": {},
   "outputs": [],
   "source": [
    "import gensim\n",
    "import pymongo\n",
    "from tqdm.auto import tqdm\n",
    "from collections import Counter\n",
    "# import warnings\n",
    "# warnings.filterwarnings(\"ignore\")"
   ]
  },
  {
   "cell_type": "markdown",
   "id": "e5f69938",
   "metadata": {},
   "source": [
    "**Подключение к базе**"
   ]
  },
  {
   "cell_type": "code",
   "execution_count": 3,
   "id": "26ec1049",
   "metadata": {},
   "outputs": [
    {
     "data": {
      "text/plain": [
       "Database(MongoClient(host=['localhost:27017'], document_class=dict, tz_aware=False, connect=True), 'thesis')"
      ]
     },
     "execution_count": 3,
     "metadata": {},
     "output_type": "execute_result"
    }
   ],
   "source": [
    "client = pymongo.MongoClient('localhost', 27017)\n",
    "db = client['thesis']\n",
    "# fs = gridfs.GridFS(db)\n",
    "db"
   ]
  },
  {
   "cell_type": "code",
   "execution_count": 4,
   "id": "712edd64",
   "metadata": {},
   "outputs": [],
   "source": [
    "sentences = db.sentences\n",
    "lemmas = db.lemmas\n",
    "tokens = db.tokens"
   ]
  },
  {
   "cell_type": "markdown",
   "id": "296f82bd",
   "metadata": {},
   "source": [
    "#### Запись лемматизированных предложений в файлы\n",
    "Досоветский период (4,4 млн)"
   ]
  },
  {
   "cell_type": "code",
   "execution_count": null,
   "id": "4a501709",
   "metadata": {},
   "outputs": [],
   "source": [
    "with open('word2vec_presov.txt', 'w', encoding='utf-8') as f_pr:\n",
    "    for sentence in tqdm(sentences.find({'period': 0},\n",
    "                                        {'token_info': True, '_id': False})):\n",
    "        lem_list = [token['lemma'] for token in sentence['token_info']\n",
    "                    if token['pos'] != 'PUNCT' or ' ' in token['token']]\n",
    "        lem_sent = ''.join(lem_list)\n",
    "        f_pr.write(f'{lem_sent}\\n')"
   ]
  },
  {
   "cell_type": "markdown",
   "id": "50e5fba3",
   "metadata": {},
   "source": [
    "Советский период (7 млн)"
   ]
  },
  {
   "cell_type": "code",
   "execution_count": null,
   "id": "9e3ce936",
   "metadata": {},
   "outputs": [],
   "source": [
    "with open('word2vec_sov.txt', 'w', encoding='utf-8') as f_s:\n",
    "    for sentence in tqdm(sentences.find({'period': 1},\n",
    "                                        {'token_info': True, '_id': False})):\n",
    "        lem_list = [token['lemma'] for token in sentence['token_info']\n",
    "                    if token['pos'] != 'PUNCT' or ' ' in token['token']]\n",
    "        lem_sent = ''.join(lem_list)\n",
    "        f_s.write(f'{lem_sent}\\n')"
   ]
  },
  {
   "cell_type": "markdown",
   "id": "4214bd15",
   "metadata": {},
   "source": [
    "Постсоветский период (5,8 млн)"
   ]
  },
  {
   "cell_type": "code",
   "execution_count": null,
   "id": "57b3cd4e",
   "metadata": {},
   "outputs": [],
   "source": [
    "with open('word2vec_postsov.txt', 'w', encoding='utf-8') as f_ps:\n",
    "    for sentence in tqdm(sentences.find({'period': 2},\n",
    "                                        {'token_info': True, '_id': False})):\n",
    "        lem_list = [token['lemma'] for token in sentence['token_info']\n",
    "                    if token['pos'] != 'PUNCT' or ' ' in token['token']]\n",
    "        lem_sent = ''.join(lem_list)\n",
    "        f_ps.write(f'{lem_sent}\\n')"
   ]
  },
  {
   "cell_type": "markdown",
   "id": "a109c7fc",
   "metadata": {},
   "source": [
    "#### Обучение моделей"
   ]
  },
  {
   "cell_type": "code",
   "execution_count": 5,
   "id": "1ef70e2e",
   "metadata": {},
   "outputs": [],
   "source": [
    "def train_word2vec_model(file_for_model, size=300, window=5,\n",
    "                         min_count=5, iterations=50):\n",
    "    data = gensim.models.word2vec.LineSentence(file_for_model)\n",
    "    model = gensim.models.Word2Vec(data, size=size, window=window,\n",
    "                                   min_count=min_count, iter=iterations)\n",
    "    return model"
   ]
  },
  {
   "cell_type": "code",
   "execution_count": 6,
   "id": "67b9ac54",
   "metadata": {},
   "outputs": [],
   "source": [
    "def save_word2vec_model(model, file_with_model, binary=True):\n",
    "    model.init_sims(replace=True)\n",
    "    model.wv.save_word2vec_format(file_with_model, binary=binary)"
   ]
  },
  {
   "cell_type": "code",
   "execution_count": 7,
   "id": "ce6c4bc9",
   "metadata": {},
   "outputs": [],
   "source": [
    "def load_word2vec_model(file_with_model):\n",
    "    model = gensim.models.KeyedVectors.load_word2vec_format(file_with_model,\n",
    "                                                            binary=False)\n",
    "    print('Размер словаря:', len(model.wv.vocab))\n",
    "    return model"
   ]
  },
  {
   "cell_type": "markdown",
   "id": "bf01efee",
   "metadata": {},
   "source": [
    "Досоветский период"
   ]
  },
  {
   "cell_type": "code",
   "execution_count": null,
   "id": "b8c9b8b0",
   "metadata": {},
   "outputs": [],
   "source": [
    "presov_w2v_model = train_word2vec_model('word2vec_presov.txt')"
   ]
  },
  {
   "cell_type": "code",
   "execution_count": null,
   "id": "b120d797",
   "metadata": {},
   "outputs": [],
   "source": [
    "save_word2vec_model(presov_w2v_model, 'word2vec_presov_lemmas.bin')"
   ]
  },
  {
   "cell_type": "code",
   "execution_count": null,
   "id": "ca5f8a0b",
   "metadata": {},
   "outputs": [],
   "source": [
    "len(presov_w2v_model.wv.vocab)"
   ]
  },
  {
   "cell_type": "markdown",
   "id": "74b7b569",
   "metadata": {},
   "source": [
    "Советский период"
   ]
  },
  {
   "cell_type": "code",
   "execution_count": null,
   "id": "ff9dd402",
   "metadata": {},
   "outputs": [],
   "source": [
    "sov_w2v_model = train_word2vec_model('word2vec_sov.txt')"
   ]
  },
  {
   "cell_type": "code",
   "execution_count": null,
   "id": "3ebcc2d3",
   "metadata": {},
   "outputs": [],
   "source": [
    "save_word2vec_model(sov_w2v_model, 'word2vec_sov_lemmas.bin')"
   ]
  },
  {
   "cell_type": "code",
   "execution_count": null,
   "id": "75c37dc7",
   "metadata": {},
   "outputs": [],
   "source": [
    "len(sov_w2v_model.wv.vocab)"
   ]
  },
  {
   "cell_type": "markdown",
   "id": "5b9d720a",
   "metadata": {},
   "source": [
    "Постсоветский период"
   ]
  },
  {
   "cell_type": "code",
   "execution_count": null,
   "id": "1ac13742",
   "metadata": {},
   "outputs": [],
   "source": [
    "postsov_w2v_model = train_word2vec_model('word2vec_postsov.txt')"
   ]
  },
  {
   "cell_type": "code",
   "execution_count": null,
   "id": "13ffcac7",
   "metadata": {},
   "outputs": [],
   "source": [
    "save_word2vec_model(postsov_w2v_model, 'word2vec_postsov_lemmas.bin')"
   ]
  },
  {
   "cell_type": "code",
   "execution_count": null,
   "id": "a3ed7706",
   "metadata": {},
   "outputs": [],
   "source": [
    "len(postsov_w2v_model.wv.vocab)"
   ]
  },
  {
   "cell_type": "markdown",
   "id": "dcbe4fd5",
   "metadata": {},
   "source": [
    "#### То же для лемм + частей речи"
   ]
  },
  {
   "cell_type": "code",
   "execution_count": 8,
   "id": "f372327b",
   "metadata": {},
   "outputs": [
    {
     "data": {
      "application/vnd.jupyter.widget-view+json": {
       "model_id": "f67c52a939864d15a1132b32d709135a",
       "version_major": 2,
       "version_minor": 0
      },
      "text/plain": [
       "0it [00:00, ?it/s]"
      ]
     },
     "metadata": {},
     "output_type": "display_data"
    }
   ],
   "source": [
    "# досоветский период\n",
    "with open('word2vec_presov_with_pos.txt', 'w', encoding='utf-8') as f_pr:\n",
    "    for sentence in tqdm(sentences.find({'period': 0},\n",
    "                                        {'token_info': True, '_id': False})):\n",
    "        lem_list = [token['lemma'] + '_' + token['pos']\n",
    "                    for token in sentence['token_info']\n",
    "                    if token['pos'] != 'PUNCT']\n",
    "        lem_sent = ' '.join(lem_list)\n",
    "        f_pr.write(f'{lem_sent}\\n')"
   ]
  },
  {
   "cell_type": "code",
   "execution_count": 8,
   "id": "6b0a8873",
   "metadata": {},
   "outputs": [],
   "source": [
    "presov_w2v_model_pos = train_word2vec_model('word2vec_presov_with_pos.txt')"
   ]
  },
  {
   "cell_type": "code",
   "execution_count": 9,
   "id": "daa72fe9",
   "metadata": {},
   "outputs": [],
   "source": [
    "save_word2vec_model(presov_w2v_model_pos, 'word2vec_presov_lemmas_pos.bin')"
   ]
  },
  {
   "cell_type": "code",
   "execution_count": 10,
   "id": "8756b9a7",
   "metadata": {},
   "outputs": [
    {
     "data": {
      "text/plain": [
       "123804"
      ]
     },
     "execution_count": 10,
     "metadata": {},
     "output_type": "execute_result"
    }
   ],
   "source": [
    "len(presov_w2v_model_pos.wv.vocab)"
   ]
  },
  {
   "cell_type": "code",
   "execution_count": 9,
   "id": "1e3eaf95",
   "metadata": {},
   "outputs": [
    {
     "data": {
      "application/vnd.jupyter.widget-view+json": {
       "model_id": "45470169985e4815ad0d21d5ac406589",
       "version_major": 2,
       "version_minor": 0
      },
      "text/plain": [
       "0it [00:00, ?it/s]"
      ]
     },
     "metadata": {},
     "output_type": "display_data"
    }
   ],
   "source": [
    "# советский период\n",
    "with open('word2vec_sov_with_pos.txt', 'w', encoding='utf-8') as f_s:\n",
    "    for sentence in tqdm(sentences.find({'period': 1},\n",
    "                                        {'token_info': True, '_id': False})):\n",
    "        lem_list = [token['lemma'] + '_' + token['pos']\n",
    "                    for token in sentence['token_info']\n",
    "                    if token['pos'] != 'PUNCT']\n",
    "        lem_sent = ' '.join(lem_list)\n",
    "        f_s.write(f'{lem_sent}\\n')"
   ]
  },
  {
   "cell_type": "code",
   "execution_count": 11,
   "id": "fb8dba2e",
   "metadata": {},
   "outputs": [],
   "source": [
    "sov_w2v_model_pos = train_word2vec_model('word2vec_sov_with_pos.txt')"
   ]
  },
  {
   "cell_type": "code",
   "execution_count": 12,
   "id": "bbe74008",
   "metadata": {},
   "outputs": [],
   "source": [
    "save_word2vec_model(sov_w2v_model_pos, 'word2vec_sov_lemmas_pos.bin')"
   ]
  },
  {
   "cell_type": "code",
   "execution_count": 13,
   "id": "ab4e8311",
   "metadata": {},
   "outputs": [
    {
     "data": {
      "text/plain": [
       "147146"
      ]
     },
     "execution_count": 13,
     "metadata": {},
     "output_type": "execute_result"
    }
   ],
   "source": [
    "len(sov_w2v_model_pos.wv.vocab)"
   ]
  },
  {
   "cell_type": "code",
   "execution_count": 10,
   "id": "2a7c29ed",
   "metadata": {},
   "outputs": [
    {
     "data": {
      "application/vnd.jupyter.widget-view+json": {
       "model_id": "fec96858b78e4c4a9d55f45627c39a18",
       "version_major": 2,
       "version_minor": 0
      },
      "text/plain": [
       "0it [00:00, ?it/s]"
      ]
     },
     "metadata": {},
     "output_type": "display_data"
    }
   ],
   "source": [
    "# постсоветский период\n",
    "with open('word2vec_postsov_with_pos.txt', 'w', encoding='utf-8') as f_ps:\n",
    "    for sentence in tqdm(sentences.find({'period': 2},\n",
    "                                        {'token_info': True, '_id': False})):\n",
    "        lem_list = [token['lemma'] + '_' + token['pos']\n",
    "                    for token in sentence['token_info']\n",
    "                    if token['pos'] != 'PUNCT']\n",
    "        lem_sent = ' '.join(lem_list)\n",
    "        f_ps.write(f'{lem_sent}\\n')"
   ]
  },
  {
   "cell_type": "code",
   "execution_count": 14,
   "id": "971c6749",
   "metadata": {},
   "outputs": [],
   "source": [
    "postsov_w2v_model_pos = train_word2vec_model('word2vec_postsov_with_pos.txt')"
   ]
  },
  {
   "cell_type": "code",
   "execution_count": 15,
   "id": "ea977fdc",
   "metadata": {},
   "outputs": [],
   "source": [
    "save_word2vec_model(postsov_w2v_model_pos, 'word2vec_postsov_lemmas_pos.bin')"
   ]
  },
  {
   "cell_type": "code",
   "execution_count": 16,
   "id": "62d28ab6",
   "metadata": {},
   "outputs": [
    {
     "data": {
      "text/plain": [
       "144650"
      ]
     },
     "execution_count": 16,
     "metadata": {},
     "output_type": "execute_result"
    }
   ],
   "source": [
    "len(postsov_w2v_model_pos.wv.vocab)"
   ]
  }
 ],
 "metadata": {
  "kernelspec": {
   "display_name": "Python 3 (ipykernel)",
   "language": "python",
   "name": "python3"
  },
  "language_info": {
   "codemirror_mode": {
    "name": "ipython",
    "version": 3
   },
   "file_extension": ".py",
   "mimetype": "text/x-python",
   "name": "python",
   "nbconvert_exporter": "python",
   "pygments_lexer": "ipython3",
   "version": "3.9.7"
  }
 },
 "nbformat": 4,
 "nbformat_minor": 5
}
